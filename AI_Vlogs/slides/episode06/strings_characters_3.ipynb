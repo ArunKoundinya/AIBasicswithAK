{
  "nbformat": 4,
  "nbformat_minor": 0,
  "metadata": {
    "colab": {
      "provenance": [],
      "authorship_tag": "ABX9TyPq7Ag3vwBZtOaEx7FQAckK",
      "include_colab_link": true
    },
    "kernelspec": {
      "name": "python3",
      "display_name": "Python 3"
    },
    "language_info": {
      "name": "python"
    }
  },
  "cells": [
    {
      "cell_type": "markdown",
      "metadata": {
        "id": "view-in-github",
        "colab_type": "text"
      },
      "source": [
        "<a href=\"https://colab.research.google.com/github/ArunKoundinya/AIBasicswithAK/blob/master/AI_Vlogs/slides/episode06/strings_characters_3.ipynb\" target=\"_parent\"><img src=\"https://colab.research.google.com/assets/colab-badge.svg\" alt=\"Open In Colab\"/></a>"
      ]
    },
    {
      "cell_type": "markdown",
      "source": [
        "---\n",
        "title: AI Basics with AK\n",
        "subtitle: Season 02 - Introduction to Python Programming\n",
        "title-slide-attributes:\n",
        "  data-slide-number: none\n",
        "format:\n",
        "  revealjs:\n",
        "    incremental: false\n",
        "auto-stretch: true\n",
        "---"
      ],
      "metadata": {
        "id": "YfO3oWwcwxHW"
      }
    },
    {
      "cell_type": "markdown",
      "source": [
        "# Episode 06\n",
        "\n",
        "Strings & Characters - Part3"
      ],
      "metadata": {
        "id": "69-f3Tsnwzl_"
      }
    },
    {
      "cell_type": "markdown",
      "source": [
        "## Agenda\n",
        "\n",
        "-   Strings {Part1}\n",
        "-   String Mathematical Operations {Part1}\n",
        "-   Indexing {Part1}\n",
        "-   Slicing {Part1}\n",
        "-   String Operations { Part2 }\n",
        "-   New Style Operators { Part3 }"
      ],
      "metadata": {
        "id": "ibFTR_umw27v"
      }
    },
    {
      "cell_type": "markdown",
      "source": [
        "## f-Style Operators"
      ],
      "metadata": {
        "id": "A0ce45pSw92A"
      }
    },
    {
      "cell_type": "markdown",
      "source": [
        "\n",
        "::: columns\n",
        "\n",
        "::: {.column width=\"50%\"}\n",
        "\n",
        "::: {style=\"font-size: 80%;\"}\n"
      ],
      "metadata": {
        "id": "e8jv-Y54xCDq"
      }
    },
    {
      "cell_type": "code",
      "execution_count": 16,
      "metadata": {
        "colab": {
          "base_uri": "https://localhost:8080/"
        },
        "id": "7z8XqZp0rkBc",
        "outputId": "c81fd573-2538-46b4-c6dc-267cd06f5b3d"
      },
      "outputs": [
        {
          "output_type": "stream",
          "name": "stdout",
          "text": [
            "My name is Python_Strings, & I'm fom Earth\n"
          ]
        }
      ],
      "source": [
        "name = \"Python_Strings\"\n",
        "place = \"Earth\"\n",
        "\n",
        "print(f\"My name is {name}, & I'm fom {place}\")"
      ]
    },
    {
      "cell_type": "code",
      "source": [
        "print(\"My name is\",name,\", & I'm from\",place)"
      ],
      "metadata": {
        "colab": {
          "base_uri": "https://localhost:8080/"
        },
        "id": "UsYl6VUZuEnN",
        "outputId": "26fcf387-e7b2-4b68-9063-931069b2f94e"
      },
      "execution_count": 17,
      "outputs": [
        {
          "output_type": "stream",
          "name": "stdout",
          "text": [
            "My name is Python_Strings , & I'm from Earth\n"
          ]
        }
      ]
    },
    {
      "cell_type": "code",
      "source": [
        "print(f\"My name is {name:>20}, & I'm fom {place}\")"
      ],
      "metadata": {
        "colab": {
          "base_uri": "https://localhost:8080/"
        },
        "id": "IjINtcwEuUEA",
        "outputId": "be264a10-9a12-4265-a781-91305df64d2c"
      },
      "execution_count": 23,
      "outputs": [
        {
          "output_type": "stream",
          "name": "stdout",
          "text": [
            "My name is       Python_Strings, & I'm fom Earth\n"
          ]
        }
      ]
    },
    {
      "cell_type": "code",
      "source": [
        "print(f\"My name is {name:.^18}, & I'm fom {place}\")"
      ],
      "metadata": {
        "colab": {
          "base_uri": "https://localhost:8080/"
        },
        "id": "qXEQlMpqvMvP",
        "outputId": "eb1b24ba-d7bc-41f7-bd29-b5ed0f174b06"
      },
      "execution_count": 27,
      "outputs": [
        {
          "output_type": "stream",
          "name": "stdout",
          "text": [
            "My name is ..Python_Strings.., & I'm fom Earth\n"
          ]
        }
      ]
    },
    {
      "cell_type": "markdown",
      "source": [
        "\n",
        ":::\n",
        "\n",
        ":::\n"
      ],
      "metadata": {
        "id": "KnYcL0dZxHqF"
      }
    },
    {
      "cell_type": "markdown",
      "source": [
        "\n",
        "::: {.column width=\"50%\"}\n",
        "\n",
        "::: {style=\"font-size: 80%;\"}\n"
      ],
      "metadata": {
        "id": "I47H7jICxKjk"
      }
    },
    {
      "cell_type": "code",
      "source": [
        "print(f\"My name is {name[0:6]}, & I'm fom {place}\")"
      ],
      "metadata": {
        "colab": {
          "base_uri": "https://localhost:8080/"
        },
        "id": "mappI3gSukoe",
        "outputId": "503b9409-e68e-44d8-a979-fa0862bdd9af"
      },
      "execution_count": 21,
      "outputs": [
        {
          "output_type": "stream",
          "name": "stdout",
          "text": [
            "My name is Python, & I'm fom Earth\n"
          ]
        }
      ]
    },
    {
      "cell_type": "code",
      "source": [
        "var1 = 4\n",
        "var2 = 5\n",
        "var3 = 6\n",
        "\n",
        "print(f\"Sum of all variables is {var1 + var2 + var3}\")"
      ],
      "metadata": {
        "colab": {
          "base_uri": "https://localhost:8080/"
        },
        "id": "KG589pegvfTj",
        "outputId": "8c5e0829-343d-4cc2-ce2b-90acecad3c43"
      },
      "execution_count": 28,
      "outputs": [
        {
          "output_type": "stream",
          "name": "stdout",
          "text": [
            "Sum of all variables is 15\n"
          ]
        }
      ]
    },
    {
      "cell_type": "code",
      "source": [
        "print(f\"Sum of all variables is {var1 + var2 + var3:.1f}\")"
      ],
      "metadata": {
        "colab": {
          "base_uri": "https://localhost:8080/"
        },
        "id": "jh5K3KWzwFCV",
        "outputId": "9c204445-74fd-412a-cf92-748e3cee7d03"
      },
      "execution_count": 35,
      "outputs": [
        {
          "output_type": "stream",
          "name": "stdout",
          "text": [
            "Sum of all variables is 15.0\n"
          ]
        }
      ]
    },
    {
      "cell_type": "markdown",
      "source": [
        "\n",
        ":::\n",
        "\n",
        ":::\n",
        "\n",
        ":::\n"
      ],
      "metadata": {
        "id": "Km3AaVe4xOpN"
      }
    },
    {
      "cell_type": "markdown",
      "source": [
        "# Jump to Demo"
      ],
      "metadata": {
        "id": "BzrBHNF8xQTT"
      }
    }
  ]
}