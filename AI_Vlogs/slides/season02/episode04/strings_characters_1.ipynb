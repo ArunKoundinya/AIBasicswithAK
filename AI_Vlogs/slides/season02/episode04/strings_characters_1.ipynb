{
  "cells": [
    {
      "cell_type": "markdown",
      "metadata": {
        "id": "awDx2bCYSIdS"
      },
      "source": [
        "---\n",
        "title: AI Basics with AK\n",
        "subtitle: Season 02 - Introduction to Python Programming\n",
        "title-slide-attributes:\n",
        "  data-slide-number: none\n",
        "format:\n",
        "  revealjs:\n",
        "    incremental: false\n",
        "auto-stretch: true\n",
        "---"
      ]
    },
    {
      "cell_type": "markdown",
      "metadata": {
        "id": "Xr3pDMZyQj8X"
      },
      "source": [
        "# Episode 04\n",
        "\n",
        "Strings & Characters - Part1"
      ]
    },
    {
      "cell_type": "markdown",
      "metadata": {
        "id": "07Erd0ZGQq17"
      },
      "source": [
        "## Agenda\n",
        "\n",
        "-   Strings\n",
        "-   String Mathematical Operations\n",
        "-   Indexing\n",
        "-   Slicing\n",
        "-   String Operations { Part2 }\n",
        "-   New Style Operators { Part2 }"
      ]
    },
    {
      "cell_type": "markdown",
      "metadata": {
        "id": "mqyHLPYTQtTO"
      },
      "source": [
        "## Strings\n"
      ]
    },
    {
      "cell_type": "markdown",
      "metadata": {
        "id": "2BmC90MSST_8"
      },
      "source": [
        "\n",
        "::: columns\n",
        "\n",
        "::: {.column width=\"50%\"}\n",
        "\n",
        "::: {style=\"font-size: 80%;\"}\n"
      ]
    },
    {
      "cell_type": "code",
      "execution_count": 1,
      "metadata": {
        "colab": {
          "base_uri": "https://localhost:8080/"
        },
        "id": "-07m21GvQhMt",
        "outputId": "e3f3d181-ce84-4354-a711-85767b6a983e"
      },
      "outputs": [
        {
          "data": {
            "text/plain": [
              "str"
            ]
          },
          "execution_count": 1,
          "metadata": {},
          "output_type": "execute_result"
        }
      ],
      "source": [
        "var = \"This is Python Learning Session\"\n",
        "type(var)"
      ]
    },
    {
      "cell_type": "code",
      "execution_count": 2,
      "metadata": {
        "colab": {
          "base_uri": "https://localhost:8080/"
        },
        "id": "RZYr1vceQ0Cx",
        "outputId": "699a5f8b-513d-4022-d20c-c4b9d47c7a4e"
      },
      "outputs": [
        {
          "data": {
            "text/plain": [
              "str"
            ]
          },
          "execution_count": 2,
          "metadata": {},
          "output_type": "execute_result"
        }
      ],
      "source": [
        "var1 = 'A'\n",
        "type(var1)"
      ]
    },
    {
      "cell_type": "code",
      "execution_count": 3,
      "metadata": {
        "colab": {
          "base_uri": "https://localhost:8080/"
        },
        "id": "KaPT9dwtQ2f9",
        "outputId": "451a00dc-96ac-4a29-99ce-6d2ee9244c35"
      },
      "outputs": [
        {
          "name": "stdout",
          "output_type": "stream",
          "text": [
            "31\n",
            "1\n"
          ]
        }
      ],
      "source": [
        "print(len(var))\n",
        "print(len(var1))"
      ]
    },
    {
      "cell_type": "code",
      "execution_count": 4,
      "metadata": {
        "colab": {
          "base_uri": "https://localhost:8080/",
          "height": 35
        },
        "id": "wOcKEgMTRcGD",
        "outputId": "0acb05a0-663d-4439-c161-a8d74c79e0ca"
      },
      "outputs": [
        {
          "data": {
            "application/vnd.google.colaboratory.intrinsic+json": {
              "type": "string"
            },
            "text/plain": [
              "'This is Python Learning SessionA'"
            ]
          },
          "execution_count": 4,
          "metadata": {},
          "output_type": "execute_result"
        }
      ],
      "source": [
        "var + var1"
      ]
    },
    {
      "cell_type": "markdown",
      "metadata": {
        "id": "otOA7-LdSX7L"
      },
      "source": [
        "\n",
        ":::\n",
        "\n",
        ":::\n"
      ]
    },
    {
      "cell_type": "markdown",
      "metadata": {
        "id": "FuJGoJA8UBv7"
      },
      "source": [
        "\n",
        "::: {.column width=\"50%\"}\n",
        "\n",
        "::: {style=\"font-size: 80%;\"}\n"
      ]
    },
    {
      "cell_type": "code",
      "execution_count": 5,
      "metadata": {
        "colab": {
          "base_uri": "https://localhost:8080/",
          "height": 141
        },
        "id": "zly1g62AR1qP",
        "outputId": "e1d48f6c-7129-4bf1-e2e3-1dc84af8b371"
      },
      "outputs": [
        {
          "ename": "TypeError",
          "evalue": "unsupported operand type(s) for -: 'str' and 'str'",
          "output_type": "error",
          "traceback": [
            "\u001b[0;31m---------------------------------------------------------------------------\u001b[0m",
            "\u001b[0;31mTypeError\u001b[0m                                 Traceback (most recent call last)",
            "\u001b[0;32m<ipython-input-5-6ac0306cdaf6>\u001b[0m in \u001b[0;36m<cell line: 1>\u001b[0;34m()\u001b[0m\n\u001b[0;32m----> 1\u001b[0;31m \u001b[0mvar\u001b[0m \u001b[0;34m-\u001b[0m \u001b[0mvar1\u001b[0m\u001b[0;34m\u001b[0m\u001b[0;34m\u001b[0m\u001b[0m\n\u001b[0m",
            "\u001b[0;31mTypeError\u001b[0m: unsupported operand type(s) for -: 'str' and 'str'"
          ]
        }
      ],
      "source": [
        "var - var1"
      ]
    },
    {
      "cell_type": "code",
      "execution_count": 6,
      "metadata": {
        "colab": {
          "base_uri": "https://localhost:8080/",
          "height": 141
        },
        "id": "EoisQ-T7R3rm",
        "outputId": "28f55f0d-502e-42e7-987b-47d0c9b6c8c8"
      },
      "outputs": [
        {
          "ename": "TypeError",
          "evalue": "can't multiply sequence by non-int of type 'str'",
          "output_type": "error",
          "traceback": [
            "\u001b[0;31m---------------------------------------------------------------------------\u001b[0m",
            "\u001b[0;31mTypeError\u001b[0m                                 Traceback (most recent call last)",
            "\u001b[0;32m<ipython-input-6-057e19f0f1e8>\u001b[0m in \u001b[0;36m<cell line: 1>\u001b[0;34m()\u001b[0m\n\u001b[0;32m----> 1\u001b[0;31m \u001b[0mvar\u001b[0m \u001b[0;34m*\u001b[0m \u001b[0mvar1\u001b[0m\u001b[0;34m\u001b[0m\u001b[0;34m\u001b[0m\u001b[0m\n\u001b[0m",
            "\u001b[0;31mTypeError\u001b[0m: can't multiply sequence by non-int of type 'str'"
          ]
        }
      ],
      "source": [
        "var * var1"
      ]
    },
    {
      "cell_type": "code",
      "execution_count": 7,
      "metadata": {
        "colab": {
          "base_uri": "https://localhost:8080/"
        },
        "id": "v9RcCS65WT17",
        "outputId": "fe88f759-af45-4ea3-e4f3-82ba58f0eff6"
      },
      "outputs": [
        {
          "name": "stdout",
          "output_type": "stream",
          "text": [
            "This is sentence one.\n",
            "This is sentence two.\n",
            "This is sentence three\n"
          ]
        }
      ],
      "source": [
        "var2 = \"This is sentence one.\\nThis is sentence two.\\nThis is sentence three\"\n",
        "\n",
        "print(var2)"
      ]
    },
    {
      "cell_type": "markdown",
      "metadata": {
        "id": "zMepxO2mSgKc"
      },
      "source": [
        "\n",
        ":::\n",
        "\n",
        ":::\n",
        "\n",
        ":::\n"
      ]
    },
    {
      "cell_type": "markdown",
      "metadata": {
        "id": "ecWbqBVbWTL-"
      },
      "source": [
        "## Strings"
      ]
    },
    {
      "cell_type": "markdown",
      "metadata": {
        "id": "eLoFMsLrauqh"
      },
      "source": [
        "\n",
        "::: columns\n",
        "\n",
        "::: {.column width=\"50%\"}\n",
        "\n",
        "::: {style=\"font-size: 65%;\"}\n"
      ]
    },
    {
      "cell_type": "code",
      "execution_count": 8,
      "metadata": {
        "colab": {
          "base_uri": "https://localhost:8080/"
        },
        "id": "cFmHf_bqWwMp",
        "outputId": "464bdf18-70a5-45cf-a986-814462c15674"
      },
      "outputs": [
        {
          "name": "stdout",
          "output_type": "stream",
          "text": [
            "<class 'str'>\n",
            "\n",
            "\n",
            "This is sentence one\n",
            "This is sentence two\n",
            "This is sentence three\n",
            "\n"
          ]
        }
      ],
      "source": [
        "var3 =  '''\n",
        "This is sentence one\n",
        "This is sentence two\n",
        "This is sentence three\n",
        "'''\n",
        "print(type(var3))\n",
        "print(\"\")\n",
        "print(var3)"
      ]
    },
    {
      "cell_type": "code",
      "execution_count": 9,
      "metadata": {
        "colab": {
          "base_uri": "https://localhost:8080/"
        },
        "id": "3KuTs0g5XHPE",
        "outputId": "e35e3bbf-44a1-4191-83be-665c4e80a4eb"
      },
      "outputs": [
        {
          "name": "stdout",
          "output_type": "stream",
          "text": [
            "<class 'str'>\n",
            "This is sentence one.\\nThis is sentence two.\\nThis is sentence three\n"
          ]
        }
      ],
      "source": [
        "var3 = r'This is sentence one.\\nThis is sentence two.\\nThis is sentence three'\n",
        "print(type(var3))\n",
        "print(var3)"
      ]
    },
    {
      "cell_type": "code",
      "execution_count": 10,
      "metadata": {
        "colab": {
          "base_uri": "https://localhost:8080/"
        },
        "id": "4eqfq384XIQd",
        "outputId": "ec9c3c5b-db9e-4bab-dc5b-77f2b1de0eb3"
      },
      "outputs": [
        {
          "name": "stdout",
          "output_type": "stream",
          "text": [
            "<class 'str'>\n",
            "\n",
            "This is sentence one.\n",
            "This is sentence two.\n",
            "This is sentence three\n",
            "\n"
          ]
        }
      ],
      "source": [
        "var4 = r'''This is sentence one.\n",
        "This is sentence two.\n",
        "This is sentence three\n",
        "'''\n",
        "print(type(var4))\n",
        "print(\"\")\n",
        "print(var4)"
      ]
    },
    {
      "cell_type": "markdown",
      "metadata": {
        "id": "19Iy8xxkaycj"
      },
      "source": [
        "\n",
        ":::\n",
        "\n",
        ":::\n"
      ]
    },
    {
      "cell_type": "markdown",
      "metadata": {
        "id": "60E-wCpoa51-"
      },
      "source": [
        "\n",
        "::: {.column width=\"50%\"}\n",
        "\n",
        "::: {style=\"font-size: 75%;\"}\n"
      ]
    },
    {
      "cell_type": "code",
      "execution_count": 11,
      "metadata": {
        "colab": {
          "base_uri": "https://localhost:8080/",
          "height": 106
        },
        "id": "UvC7maTdZhTh",
        "outputId": "8c251d3e-f31d-4178-95bf-8aa436cf8b36"
      },
      "outputs": [
        {
          "ename": "SyntaxError",
          "evalue": "invalid syntax (<ipython-input-11-d472829db0e4>, line 1)",
          "output_type": "error",
          "traceback": [
            "\u001b[0;36m  File \u001b[0;32m\"<ipython-input-11-d472829db0e4>\"\u001b[0;36m, line \u001b[0;32m1\u001b[0m\n\u001b[0;31m    var = \"Julius Caesar says, \"Experience is the teacher of all things.\"\"\u001b[0m\n\u001b[0m                                ^\u001b[0m\n\u001b[0;31mSyntaxError\u001b[0m\u001b[0;31m:\u001b[0m invalid syntax\n"
          ]
        }
      ],
      "source": [
        "var = \"Julius Caesar says, \"Experience is the teacher of all things.\"\"\n",
        "print(var)"
      ]
    },
    {
      "cell_type": "code",
      "execution_count": 12,
      "metadata": {
        "colab": {
          "base_uri": "https://localhost:8080/"
        },
        "id": "Z9M-f0GBbcjH",
        "outputId": "36e8f1d7-9466-47dc-9e04-91110df61687"
      },
      "outputs": [
        {
          "name": "stdout",
          "output_type": "stream",
          "text": [
            "Julius Caesar says, \"Experience is the teacher of all things.\"\n"
          ]
        }
      ],
      "source": [
        "var = \"Julius Caesar says, \\\"Experience is the teacher of all things.\\\"\"\n",
        "print(var)"
      ]
    },
    {
      "cell_type": "code",
      "execution_count": 13,
      "metadata": {
        "colab": {
          "base_uri": "https://localhost:8080/",
          "height": 106
        },
        "id": "6x17dTVhbhWo",
        "outputId": "095ccfc3-2dc3-4bce-ee13-5ffe9db961ac"
      },
      "outputs": [
        {
          "ename": "SyntaxError",
          "evalue": "unterminated string literal (detected at line 1) (<ipython-input-13-25f80e072a07>, line 1)",
          "output_type": "error",
          "traceback": [
            "\u001b[0;36m  File \u001b[0;32m\"<ipython-input-13-25f80e072a07>\"\u001b[0;36m, line \u001b[0;32m1\u001b[0m\n\u001b[0;31m    var1 = \"lets print blackslash \\\"\u001b[0m\n\u001b[0m           ^\u001b[0m\n\u001b[0;31mSyntaxError\u001b[0m\u001b[0;31m:\u001b[0m unterminated string literal (detected at line 1)\n"
          ]
        }
      ],
      "source": [
        "var1 = \"lets print blackslash \\\"\n",
        "print(var1)"
      ]
    },
    {
      "cell_type": "code",
      "execution_count": 14,
      "metadata": {
        "colab": {
          "base_uri": "https://localhost:8080/"
        },
        "id": "PwAHXGgWdDb8",
        "outputId": "e8f3435e-99fa-4fb1-fbae-452ecf26d4be"
      },
      "outputs": [
        {
          "name": "stdout",
          "output_type": "stream",
          "text": [
            "lets print blackslash \\\n"
          ]
        }
      ],
      "source": [
        "var1 = \"lets print blackslash \\\\\"\n",
        "print(var1)"
      ]
    },
    {
      "cell_type": "code",
      "execution_count": 15,
      "metadata": {
        "colab": {
          "base_uri": "https://localhost:8080/"
        },
        "id": "ZexdeJHrdHUk",
        "outputId": "819fe7ef-a3aa-40cf-fc31-bebade87231d"
      },
      "outputs": [
        {
          "name": "stdout",
          "output_type": "stream",
          "text": [
            "lets print blackslash second part of the sentence\n"
          ]
        }
      ],
      "source": [
        "var1 = \"lets print blackslash \\\n",
        "second part of the sentence\"\n",
        "print(var1)"
      ]
    },
    {
      "cell_type": "markdown",
      "metadata": {
        "id": "PGUFqn7ndfix"
      },
      "source": [
        "\n",
        ":::\n",
        "\n",
        ":::\n",
        "\n",
        ":::\n"
      ]
    },
    {
      "cell_type": "markdown",
      "metadata": {
        "id": "ZzPKMUA2drZz"
      },
      "source": [
        "## String Mathematical Operations"
      ]
    },
    {
      "cell_type": "markdown",
      "metadata": {
        "id": "tFzubsQ47tdr"
      },
      "source": [
        "\n",
        "::: columns\n",
        "\n",
        "::: {.column width=\"50%\"}\n",
        "\n",
        "::: {style=\"font-size: 80%;\"}\n"
      ]
    },
    {
      "cell_type": "code",
      "execution_count": 20,
      "metadata": {
        "colab": {
          "base_uri": "https://localhost:8080/"
        },
        "id": "fexBv6H5dse2",
        "outputId": "347aa01b-1a71-4c3e-a55a-ea3ada3dfa17"
      },
      "outputs": [
        {
          "name": "stdout",
          "output_type": "stream",
          "text": [
            "Julius Caesar says, \"Experience is the teacher of all things.\"\n",
            "lets print blackslash second part of the sentence\n"
          ]
        }
      ],
      "source": [
        "print(var + \"\\n\" +var1)"
      ]
    },
    {
      "cell_type": "code",
      "execution_count": 23,
      "metadata": {
        "colab": {
          "base_uri": "https://localhost:8080/"
        },
        "id": "iUvX7lEZ6oF-",
        "outputId": "3bdb18f6-e558-4d38-9c14-b00ef39026e8"
      },
      "outputs": [
        {
          "name": "stdout",
          "output_type": "stream",
          "text": [
            "Julius Caesar says, \"Experience is the teacher of all things.\"Julius Caesar says, \"Experience is the teacher of all things.\"\n"
          ]
        }
      ],
      "source": [
        "print(var * 2)"
      ]
    },
    {
      "cell_type": "code",
      "execution_count": 24,
      "metadata": {
        "colab": {
          "base_uri": "https://localhost:8080/",
          "height": 141
        },
        "id": "gWPxvR7b6vjR",
        "outputId": "59b5b21b-a94a-4e91-8bed-8a03b3b2a637"
      },
      "outputs": [
        {
          "ename": "TypeError",
          "evalue": "unsupported operand type(s) for /: 'str' and 'int'",
          "output_type": "error",
          "traceback": [
            "\u001b[0;31m---------------------------------------------------------------------------\u001b[0m",
            "\u001b[0;31mTypeError\u001b[0m                                 Traceback (most recent call last)",
            "\u001b[0;32m<ipython-input-24-5d113b0a9ea4>\u001b[0m in \u001b[0;36m<cell line: 1>\u001b[0;34m()\u001b[0m\n\u001b[0;32m----> 1\u001b[0;31m \u001b[0mprint\u001b[0m\u001b[0;34m(\u001b[0m\u001b[0mvar\u001b[0m \u001b[0;34m/\u001b[0m \u001b[0;36m2\u001b[0m\u001b[0;34m)\u001b[0m\u001b[0;34m\u001b[0m\u001b[0;34m\u001b[0m\u001b[0m\n\u001b[0m",
            "\u001b[0;31mTypeError\u001b[0m: unsupported operand type(s) for /: 'str' and 'int'"
          ]
        }
      ],
      "source": [
        "print(var / 2)"
      ]
    },
    {
      "cell_type": "code",
      "execution_count": 29,
      "metadata": {
        "colab": {
          "base_uri": "https://localhost:8080/",
          "height": 141
        },
        "id": "yl0zB1-S6zVo",
        "outputId": "d46f877a-8171-4389-ca4b-c91f9fd88eb3"
      },
      "outputs": [
        {
          "ename": "TypeError",
          "evalue": "unsupported operand type(s) for -: 'str' and 'str'",
          "output_type": "error",
          "traceback": [
            "\u001b[0;31m---------------------------------------------------------------------------\u001b[0m",
            "\u001b[0;31mTypeError\u001b[0m                                 Traceback (most recent call last)",
            "\u001b[0;32m<ipython-input-29-927b51de5888>\u001b[0m in \u001b[0;36m<cell line: 1>\u001b[0;34m()\u001b[0m\n\u001b[0;32m----> 1\u001b[0;31m \u001b[0mvar\u001b[0m \u001b[0;34m-\u001b[0m \u001b[0;34m\"says\"\u001b[0m\u001b[0;34m\u001b[0m\u001b[0;34m\u001b[0m\u001b[0m\n\u001b[0m",
            "\u001b[0;31mTypeError\u001b[0m: unsupported operand type(s) for -: 'str' and 'str'"
          ]
        }
      ],
      "source": [
        "var - \"says\""
      ]
    },
    {
      "cell_type": "markdown",
      "metadata": {
        "id": "StftaXCf8zAd"
      },
      "source": [
        "\n",
        ":::\n",
        "\n",
        ":::\n"
      ]
    },
    {
      "cell_type": "markdown",
      "metadata": {
        "id": "_Kt72G___QX1"
      },
      "source": [
        "\n",
        "::: {.column width=\"50%\"}\n",
        "\n",
        "::: {style=\"font-size: 80%;\"}\n"
      ]
    },
    {
      "cell_type": "code",
      "execution_count": 32,
      "metadata": {
        "colab": {
          "base_uri": "https://localhost:8080/",
          "height": 35
        },
        "id": "nZvGxI__81N4",
        "outputId": "1950afe2-b6bd-4f71-87fd-7a50bab81f9e"
      },
      "outputs": [
        {
          "data": {
            "application/vnd.google.colaboratory.intrinsic+json": {
              "type": "string"
            },
            "text/plain": [
              "' Children Played and Played'"
            ]
          },
          "execution_count": 32,
          "metadata": {},
          "output_type": "execute_result"
        }
      ],
      "source": [
        "a = \" Children\"\n",
        "b = \" Played\"\n",
        "c = \" and\"\n",
        "\n",
        "a + b + c + b"
      ]
    },
    {
      "cell_type": "code",
      "execution_count": 36,
      "metadata": {
        "colab": {
          "base_uri": "https://localhost:8080/",
          "height": 35
        },
        "id": "w0HbyRQ3-oQi",
        "outputId": "c6cf7c38-6d40-4f6b-c8dd-c7bcba5fbf7e"
      },
      "outputs": [
        {
          "data": {
            "application/vnd.google.colaboratory.intrinsic+json": {
              "type": "string"
            },
            "text/plain": [
              "\"Go Go before it's late\""
            ]
          },
          "execution_count": 36,
          "metadata": {},
          "output_type": "execute_result"
        }
      ],
      "source": [
        "\"Go \"*2 +\"before it's late\""
      ]
    },
    {
      "cell_type": "code",
      "execution_count": 39,
      "metadata": {
        "colab": {
          "base_uri": "https://localhost:8080/",
          "height": 35
        },
        "id": "56_M9NS2-6MD",
        "outputId": "a57a2387-6240-436e-9e1f-19e6bccfdce4"
      },
      "outputs": [
        {
          "data": {
            "application/vnd.google.colaboratory.intrinsic+json": {
              "type": "string"
            },
            "text/plain": [
              "'First Name & Last Name'"
            ]
          },
          "execution_count": 39,
          "metadata": {},
          "output_type": "execute_result"
        }
      ],
      "source": [
        "\"First Name \" \"& Last Name\""
      ]
    },
    {
      "cell_type": "code",
      "execution_count": 42,
      "metadata": {
        "colab": {
          "base_uri": "https://localhost:8080/",
          "height": 106
        },
        "id": "OkBcfUQh_Bt2",
        "outputId": "a0604933-30d8-474f-bbba-f186348d3267"
      },
      "outputs": [
        {
          "ename": "SyntaxError",
          "evalue": "invalid syntax (<ipython-input-42-42675f58e5c5>, line 1)",
          "output_type": "error",
          "traceback": [
            "\u001b[0;36m  File \u001b[0;32m\"<ipython-input-42-42675f58e5c5>\"\u001b[0;36m, line \u001b[0;32m1\u001b[0m\n\u001b[0;31m    \"First Name \"*2 \"& Last Name\"\u001b[0m\n\u001b[0m                    ^\u001b[0m\n\u001b[0;31mSyntaxError\u001b[0m\u001b[0;31m:\u001b[0m invalid syntax\n"
          ]
        }
      ],
      "source": [
        "\"First Name \"*2 \"& Last Name\""
      ]
    },
    {
      "cell_type": "markdown",
      "metadata": {
        "id": "GPWs81h6_UhW"
      },
      "source": [
        "\n",
        ":::\n",
        "\n",
        ":::\n",
        "\n",
        ":::\n"
      ]
    },
    {
      "cell_type": "markdown",
      "metadata": {
        "id": "tXIK9z5JdwiW"
      },
      "source": [
        "## Indexing"
      ]
    },
    {
      "cell_type": "markdown",
      "metadata": {
        "id": "1jrP7ZzUAkME"
      },
      "source": [
        "\n",
        "::: columns\n",
        "\n",
        "::: {.column width=\"50%\"}\n",
        "\n",
        "::: {style=\"font-size: 80%;\"}\n"
      ]
    },
    {
      "cell_type": "code",
      "execution_count": 47,
      "metadata": {
        "colab": {
          "base_uri": "https://localhost:8080/"
        },
        "id": "_875djFndxuC",
        "outputId": "598f1363-e871-465e-ed7b-6929a70ff9b6"
      },
      "outputs": [
        {
          "name": "stdout",
          "output_type": "stream",
          "text": [
            "WORD\n"
          ]
        }
      ],
      "source": [
        "var = \"WORD\"\n",
        "print(var)"
      ]
    },
    {
      "cell_type": "code",
      "execution_count": 48,
      "metadata": {
        "colab": {
          "base_uri": "https://localhost:8080/"
        },
        "id": "sw6ASeRM_wTO",
        "outputId": "fc0b3f46-c1cc-4d0c-de12-465172da9098"
      },
      "outputs": [
        {
          "data": {
            "text/plain": [
              "4"
            ]
          },
          "execution_count": 48,
          "metadata": {},
          "output_type": "execute_result"
        }
      ],
      "source": [
        "len(var)"
      ]
    },
    {
      "cell_type": "code",
      "execution_count": 49,
      "metadata": {
        "colab": {
          "base_uri": "https://localhost:8080/"
        },
        "id": "PtMv2PDK_waq",
        "outputId": "81d556a2-88df-4836-942b-4b949c0c1235"
      },
      "outputs": [
        {
          "name": "stdout",
          "output_type": "stream",
          "text": [
            "W\n",
            "<class 'str'>\n",
            "D\n"
          ]
        }
      ],
      "source": [
        "print(var[0])\n",
        "print(type(var[0]))\n",
        "print(var[3])"
      ]
    },
    {
      "cell_type": "code",
      "execution_count": 51,
      "metadata": {
        "colab": {
          "base_uri": "https://localhost:8080/",
          "height": 141
        },
        "id": "zsWHEJ6ACHiM",
        "outputId": "f6983f7c-663f-4559-d5be-1b12c7fbc0f5"
      },
      "outputs": [
        {
          "ename": "IndexError",
          "evalue": "string index out of range",
          "output_type": "error",
          "traceback": [
            "\u001b[0;31m---------------------------------------------------------------------------\u001b[0m",
            "\u001b[0;31mIndexError\u001b[0m                                Traceback (most recent call last)",
            "\u001b[0;32m<ipython-input-51-6e0795f01afe>\u001b[0m in \u001b[0;36m<cell line: 1>\u001b[0;34m()\u001b[0m\n\u001b[0;32m----> 1\u001b[0;31m \u001b[0mvar\u001b[0m\u001b[0;34m[\u001b[0m\u001b[0;36m4\u001b[0m\u001b[0;34m]\u001b[0m\u001b[0;34m\u001b[0m\u001b[0;34m\u001b[0m\u001b[0m\n\u001b[0m",
            "\u001b[0;31mIndexError\u001b[0m: string index out of range"
          ]
        }
      ],
      "source": [
        "var[4]"
      ]
    },
    {
      "cell_type": "markdown",
      "metadata": {
        "id": "TPsQItnkAnUT"
      },
      "source": [
        "\n",
        ":::\n",
        "\n",
        ":::\n"
      ]
    },
    {
      "cell_type": "markdown",
      "metadata": {
        "id": "Z8dGoYJVAqlD"
      },
      "source": [
        "\n",
        "::: {.column width=\"50%\"}\n",
        "\n",
        "::: {style=\"font-size: 80%;\"}\n"
      ]
    },
    {
      "cell_type": "code",
      "execution_count": 50,
      "metadata": {
        "colab": {
          "base_uri": "https://localhost:8080/",
          "height": 35
        },
        "id": "3ADXLvbsAr_c",
        "outputId": "e8cf3290-25f9-47ed-d771-ddf5d02561a3"
      },
      "outputs": [
        {
          "data": {
            "application/vnd.google.colaboratory.intrinsic+json": {
              "type": "string"
            },
            "text/plain": [
              "'D'"
            ]
          },
          "execution_count": 50,
          "metadata": {},
          "output_type": "execute_result"
        }
      ],
      "source": [
        "var[-1]"
      ]
    },
    {
      "cell_type": "code",
      "execution_count": 53,
      "metadata": {
        "colab": {
          "base_uri": "https://localhost:8080/",
          "height": 35
        },
        "id": "_rDKjb9ICFYu",
        "outputId": "c89978ce-db80-46f9-dc1b-8654eda8d601"
      },
      "outputs": [
        {
          "data": {
            "application/vnd.google.colaboratory.intrinsic+json": {
              "type": "string"
            },
            "text/plain": [
              "'R'"
            ]
          },
          "execution_count": 53,
          "metadata": {},
          "output_type": "execute_result"
        }
      ],
      "source": [
        "var[-2]"
      ]
    },
    {
      "cell_type": "code",
      "execution_count": 54,
      "metadata": {
        "colab": {
          "base_uri": "https://localhost:8080/",
          "height": 35
        },
        "id": "uF9TM1GOCF4G",
        "outputId": "7c01b2c6-a391-4fa7-ec78-e0dafc9d09c3"
      },
      "outputs": [
        {
          "data": {
            "application/vnd.google.colaboratory.intrinsic+json": {
              "type": "string"
            },
            "text/plain": [
              "'O'"
            ]
          },
          "execution_count": 54,
          "metadata": {},
          "output_type": "execute_result"
        }
      ],
      "source": [
        "var[-3]"
      ]
    },
    {
      "cell_type": "code",
      "execution_count": 55,
      "metadata": {
        "colab": {
          "base_uri": "https://localhost:8080/",
          "height": 35
        },
        "id": "pWFv88xFCc2S",
        "outputId": "b55effa8-bc99-42a0-aebb-d21c5e4e4c65"
      },
      "outputs": [
        {
          "data": {
            "application/vnd.google.colaboratory.intrinsic+json": {
              "type": "string"
            },
            "text/plain": [
              "'W'"
            ]
          },
          "execution_count": 55,
          "metadata": {},
          "output_type": "execute_result"
        }
      ],
      "source": [
        "var[-4]"
      ]
    },
    {
      "cell_type": "code",
      "execution_count": 56,
      "metadata": {
        "colab": {
          "base_uri": "https://localhost:8080/",
          "height": 141
        },
        "id": "r-_CzWrHCc9I",
        "outputId": "305d28ea-da20-4781-fca8-58f15d4d2239"
      },
      "outputs": [
        {
          "ename": "IndexError",
          "evalue": "string index out of range",
          "output_type": "error",
          "traceback": [
            "\u001b[0;31m---------------------------------------------------------------------------\u001b[0m",
            "\u001b[0;31mIndexError\u001b[0m                                Traceback (most recent call last)",
            "\u001b[0;32m<ipython-input-56-8ea7679abd80>\u001b[0m in \u001b[0;36m<cell line: 1>\u001b[0;34m()\u001b[0m\n\u001b[0;32m----> 1\u001b[0;31m \u001b[0mvar\u001b[0m\u001b[0;34m[\u001b[0m\u001b[0;34m-\u001b[0m\u001b[0;36m5\u001b[0m\u001b[0;34m]\u001b[0m\u001b[0;34m\u001b[0m\u001b[0;34m\u001b[0m\u001b[0m\n\u001b[0m",
            "\u001b[0;31mIndexError\u001b[0m: string index out of range"
          ]
        }
      ],
      "source": [
        "var[-5]"
      ]
    },
    {
      "cell_type": "markdown",
      "metadata": {
        "id": "3rKTYDZ8FpPf"
      },
      "source": [
        "\n",
        ":::\n",
        "\n",
        ":::\n",
        "\n",
        ":::\n"
      ]
    },
    {
      "cell_type": "markdown",
      "metadata": {
        "id": "YEqODjDadyYf"
      },
      "source": [
        "## Slicing"
      ]
    },
    {
      "cell_type": "markdown",
      "metadata": {
        "id": "S8m3n7wXFtoW"
      },
      "source": [
        "\n",
        "::: columns\n",
        "\n",
        "::: {.column width=\"50%\"}\n",
        "\n",
        "::: {style=\"font-size: 80%;\"}\n"
      ]
    },
    {
      "cell_type": "code",
      "execution_count": 57,
      "metadata": {
        "colab": {
          "base_uri": "https://localhost:8080/"
        },
        "id": "kYTD4mEmCb_3",
        "outputId": "cd439771-5717-4ef4-9277-4723e70a2086"
      },
      "outputs": [
        {
          "name": "stdout",
          "output_type": "stream",
          "text": [
            "Slice and Dice Me\n"
          ]
        }
      ],
      "source": [
        "var = \"Slice and Dice Me\"\n",
        "print(var)"
      ]
    },
    {
      "cell_type": "code",
      "execution_count": 59,
      "metadata": {
        "colab": {
          "base_uri": "https://localhost:8080/",
          "height": 35
        },
        "id": "4sSi_usCCENe",
        "outputId": "d2e48c3c-9c3d-4b2b-d042-c1b33e3b7b63"
      },
      "outputs": [
        {
          "data": {
            "application/vnd.google.colaboratory.intrinsic+json": {
              "type": "string"
            },
            "text/plain": [
              "'Slice'"
            ]
          },
          "execution_count": 59,
          "metadata": {},
          "output_type": "execute_result"
        }
      ],
      "source": [
        "var[0:5]"
      ]
    },
    {
      "cell_type": "code",
      "execution_count": 63,
      "metadata": {
        "colab": {
          "base_uri": "https://localhost:8080/",
          "height": 35
        },
        "id": "YSy654_NDjNy",
        "outputId": "e7b49b98-95c9-4d8e-825e-a3bea6c74fbf"
      },
      "outputs": [
        {
          "data": {
            "application/vnd.google.colaboratory.intrinsic+json": {
              "type": "string"
            },
            "text/plain": [
              "'Slice'"
            ]
          },
          "execution_count": 63,
          "metadata": {},
          "output_type": "execute_result"
        }
      ],
      "source": [
        "var[:5]"
      ]
    },
    {
      "cell_type": "markdown",
      "metadata": {
        "id": "aIJf_c8YDl_c"
      },
      "source": [
        "\n",
        "::: {style=\"font-size: 65%;\"}\n",
        "\n",
        "[: `end` ] specifies from the beginning to the end offset minus 1\n",
        "\n",
        ":::\n"
      ]
    },
    {
      "cell_type": "code",
      "execution_count": 61,
      "metadata": {
        "colab": {
          "base_uri": "https://localhost:8080/",
          "height": 35
        },
        "id": "yL_4r3xBCEeZ",
        "outputId": "2d35fa0f-fed7-4128-f2f6-49117e9dfdb7"
      },
      "outputs": [
        {
          "data": {
            "application/vnd.google.colaboratory.intrinsic+json": {
              "type": "string"
            },
            "text/plain": [
              "'and'"
            ]
          },
          "execution_count": 61,
          "metadata": {},
          "output_type": "execute_result"
        }
      ],
      "source": [
        "var[6:9]"
      ]
    },
    {
      "cell_type": "markdown",
      "metadata": {
        "id": "CHTUp7A9DQc1"
      },
      "source": [
        "\n",
        "::: {style=\"font-size: 65%;\"}\n",
        "\n",
        "[ `start` : `end` ] indicates from the start offset to the end offset minus\n",
        "\n",
        "::: "
      ]
    },
    {
      "cell_type": "code",
      "execution_count": 62,
      "metadata": {
        "colab": {
          "base_uri": "https://localhost:8080/",
          "height": 35
        },
        "id": "hR0Z5_q0_vdR",
        "outputId": "26cf86af-0207-4fe9-ba25-89919e9e4813"
      },
      "outputs": [
        {
          "data": {
            "application/vnd.google.colaboratory.intrinsic+json": {
              "type": "string"
            },
            "text/plain": [
              "'Dice Me'"
            ]
          },
          "execution_count": 62,
          "metadata": {},
          "output_type": "execute_result"
        }
      ],
      "source": [
        "var[10:]"
      ]
    },
    {
      "cell_type": "markdown",
      "metadata": {
        "id": "hD3wBbScDd6m"
      },
      "source": [
        "\n",
        "::: {style=\"font-size: 65%;\"}\n",
        "\n",
        "[ `start` :] specifies from the start offset to the end.\n",
        "\n",
        "::: "
      ]
    },
    {
      "cell_type": "markdown",
      "metadata": {
        "id": "6ujy77opF0fv"
      },
      "source": [
        "\n",
        ":::\n",
        "\n",
        ":::\n"
      ]
    },
    {
      "cell_type": "markdown",
      "metadata": {
        "id": "ezZCnNbdF50S"
      },
      "source": [
        "\n",
        "::: {.column width=\"50%\"}\n",
        "\n",
        "::: {style=\"font-size: 80%;\"}\n"
      ]
    },
    {
      "cell_type": "code",
      "execution_count": 65,
      "metadata": {
        "colab": {
          "base_uri": "https://localhost:8080/",
          "height": 35
        },
        "id": "9gz7UiiLd0CC",
        "outputId": "f03ee3f3-2e88-4a1a-85c0-dbd5a1819a17"
      },
      "outputs": [
        {
          "data": {
            "application/vnd.google.colaboratory.intrinsic+json": {
              "type": "string"
            },
            "text/plain": [
              "'Dice'"
            ]
          },
          "execution_count": 65,
          "metadata": {},
          "output_type": "execute_result"
        }
      ],
      "source": [
        "var[10:-3]"
      ]
    },
    {
      "cell_type": "code",
      "execution_count": 66,
      "metadata": {
        "colab": {
          "base_uri": "https://localhost:8080/",
          "height": 35
        },
        "id": "BSOFnOrZD7h1",
        "outputId": "4d2cd211-31b3-4b30-dff3-f59ec0f1d4f5"
      },
      "outputs": [
        {
          "data": {
            "application/vnd.google.colaboratory.intrinsic+json": {
              "type": "string"
            },
            "text/plain": [
              "''"
            ]
          },
          "execution_count": 66,
          "metadata": {},
          "output_type": "execute_result"
        }
      ],
      "source": [
        "var[10:-10]"
      ]
    },
    {
      "cell_type": "code",
      "execution_count": 67,
      "metadata": {
        "colab": {
          "base_uri": "https://localhost:8080/",
          "height": 35
        },
        "id": "Kg8q6LONEA2r",
        "outputId": "9f0480d9-d8dc-4318-bf22-d10bf6956520"
      },
      "outputs": [
        {
          "data": {
            "application/vnd.google.colaboratory.intrinsic+json": {
              "type": "string"
            },
            "text/plain": [
              "'Sie'"
            ]
          },
          "execution_count": 67,
          "metadata": {},
          "output_type": "execute_result"
        }
      ],
      "source": [
        "var[0:6:2]"
      ]
    },
    {
      "cell_type": "code",
      "execution_count": 85,
      "metadata": {
        "colab": {
          "base_uri": "https://localhost:8080/",
          "height": 35
        },
        "id": "BRMoDr8mE2lE",
        "outputId": "f9ad323b-c107-44ef-c6a0-0121d801ff3a"
      },
      "outputs": [
        {
          "data": {
            "application/vnd.google.colaboratory.intrinsic+json": {
              "type": "string"
            },
            "text/plain": [
              "'eM eciD dna ecilS'"
            ]
          },
          "execution_count": 85,
          "metadata": {},
          "output_type": "execute_result"
        }
      ],
      "source": [
        "var[::-1]"
      ]
    },
    {
      "cell_type": "code",
      "execution_count": 90,
      "metadata": {
        "colab": {
          "base_uri": "https://localhost:8080/",
          "height": 35
        },
        "id": "aIGIbTX3E20Y",
        "outputId": "af59d35c-170b-43cd-ee33-385e83f4ad78"
      },
      "outputs": [
        {
          "data": {
            "application/vnd.google.colaboratory.intrinsic+json": {
              "type": "string"
            },
            "text/plain": [
              "'eciD'"
            ]
          },
          "execution_count": 90,
          "metadata": {},
          "output_type": "execute_result"
        }
      ],
      "source": [
        "var[::-1][3:7]"
      ]
    },
    {
      "cell_type": "markdown",
      "metadata": {
        "id": "3g1ClqllENKF"
      },
      "source": [
        "\n",
        "::: {style=\"font-size: 65%;\"}\n",
        "\n",
        "[ `start` : `end` : `step` ] extracts from the start offset to the end offset minus 1, skipping characters by step\n",
        "\n",
        "::: \n"
      ]
    },
    {
      "cell_type": "code",
      "execution_count": 77,
      "metadata": {
        "colab": {
          "base_uri": "https://localhost:8080/",
          "height": 35
        },
        "id": "4yp0L6eWETFx",
        "outputId": "8d28d3b8-dee6-4461-d03b-2b7398fba046"
      },
      "outputs": [
        {
          "data": {
            "application/vnd.google.colaboratory.intrinsic+json": {
              "type": "string"
            },
            "text/plain": [
              "'c n ie'"
            ]
          },
          "execution_count": 77,
          "metadata": {},
          "output_type": "execute_result"
        }
      ],
      "source": [
        "var[3:-3:2]"
      ]
    },
    {
      "cell_type": "markdown",
      "metadata": {
        "id": "3M7PdoEdF9TU"
      },
      "source": [
        "\n",
        ":::\n",
        "\n",
        ":::\n",
        "\n",
        ":::\n"
      ]
    },
    {
      "cell_type": "markdown",
      "metadata": {
        "id": "CL3_E4Vid2J7"
      },
      "source": [
        "# Thank You"
      ]
    },
    {
      "cell_type": "markdown",
      "metadata": {},
      "source": [
        "<a href=\"https://colab.research.google.com/github/ArunKoundinya/AIBasicswithAK/blob/master/AI_Vlogs/slides/season02/episode04/strings_characters_1.ipynb\" target=\"_parent\"><img src=\"https://colab.research.google.com/assets/colab-badge.svg\" alt=\"Open In Colab\"/></a>"
      ]
    }
  ],
  "metadata": {
    "colab": {
      "authorship_tag": "ABX9TyM/4qI0z64QHChELIgdUSWT",
      "include_colab_link": true,
      "provenance": []
    },
    "kernelspec": {
      "display_name": "Python 3",
      "name": "python3"
    },
    "language_info": {
      "name": "python"
    }
  },
  "nbformat": 4,
  "nbformat_minor": 0
}
