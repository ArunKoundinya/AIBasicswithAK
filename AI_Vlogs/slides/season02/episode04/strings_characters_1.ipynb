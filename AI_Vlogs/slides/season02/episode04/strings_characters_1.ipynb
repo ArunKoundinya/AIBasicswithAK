{
  "nbformat": 4,
  "nbformat_minor": 0,
  "metadata": {
    "colab": {
      "provenance": [],
      "authorship_tag": "ABX9TyM/4qI0z64QHChELIgdUSWT",
      "include_colab_link": true
    },
    "kernelspec": {
      "name": "python3",
      "display_name": "Python 3"
    },
    "language_info": {
      "name": "python"
    }
  },
  "cells": [
    {
      "cell_type": "markdown",
      "metadata": {
        "id": "view-in-github",
        "colab_type": "text"
      },
      "source": [
        "<a href=\"https://colab.research.google.com/github/ArunKoundinya/AIBasicswithAK/blob/master/AI_Vlogs/slides/season02/episode04/strings_characters_1.ipynb\" target=\"_parent\"><img src=\"https://colab.research.google.com/assets/colab-badge.svg\" alt=\"Open In Colab\"/></a>"
      ]
    },
    {
      "cell_type": "markdown",
      "source": [
        "---\n",
        "title: AI Basics with AK\n",
        "subtitle: Season 02 - Introduction to Python Programming\n",
        "title-slide-attributes:\n",
        "  data-slide-number: none\n",
        "format:\n",
        "  revealjs:\n",
        "    incremental: false\n",
        "auto-stretch: true\n",
        "---"
      ],
      "metadata": {
        "id": "awDx2bCYSIdS"
      }
    },
    {
      "cell_type": "markdown",
      "source": [
        "# Episode 04\n",
        "\n",
        "Strings & Characters - Part1"
      ],
      "metadata": {
        "id": "Xr3pDMZyQj8X"
      }
    },
    {
      "cell_type": "markdown",
      "source": [
        "## Agenda\n",
        "\n",
        "-   Strings\n",
        "-   String Mathematical Operations\n",
        "-   Indexing\n",
        "-   Slicing\n",
        "-   String Operations { Part2 }\n",
        "-   New Style Operators { Part2 }"
      ],
      "metadata": {
        "id": "07Erd0ZGQq17"
      }
    },
    {
      "cell_type": "markdown",
      "source": [
        "## Strings\n"
      ],
      "metadata": {
        "id": "mqyHLPYTQtTO"
      }
    },
    {
      "cell_type": "markdown",
      "source": [
        "\n",
        "::: columns\n",
        "\n",
        "::: {.column width=\"50%\"}\n",
        "\n",
        "::: {style=\"font-size: 80%;\"}\n"
      ],
      "metadata": {
        "id": "2BmC90MSST_8"
      }
    },
    {
      "cell_type": "code",
      "source": [
        "var = \"This is Python Learning Session\"\n",
        "type(var)"
      ],
      "metadata": {
        "colab": {
          "base_uri": "https://localhost:8080/"
        },
        "id": "-07m21GvQhMt",
        "outputId": "e3f3d181-ce84-4354-a711-85767b6a983e"
      },
      "execution_count": 1,
      "outputs": [
        {
          "output_type": "execute_result",
          "data": {
            "text/plain": [
              "str"
            ]
          },
          "metadata": {},
          "execution_count": 1
        }
      ]
    },
    {
      "cell_type": "code",
      "source": [
        "var1 = 'A'\n",
        "type(var1)"
      ],
      "metadata": {
        "colab": {
          "base_uri": "https://localhost:8080/"
        },
        "id": "RZYr1vceQ0Cx",
        "outputId": "699a5f8b-513d-4022-d20c-c4b9d47c7a4e"
      },
      "execution_count": 2,
      "outputs": [
        {
          "output_type": "execute_result",
          "data": {
            "text/plain": [
              "str"
            ]
          },
          "metadata": {},
          "execution_count": 2
        }
      ]
    },
    {
      "cell_type": "code",
      "source": [
        "print(len(var))\n",
        "print(len(var1))"
      ],
      "metadata": {
        "colab": {
          "base_uri": "https://localhost:8080/"
        },
        "id": "KaPT9dwtQ2f9",
        "outputId": "451a00dc-96ac-4a29-99ce-6d2ee9244c35"
      },
      "execution_count": 3,
      "outputs": [
        {
          "output_type": "stream",
          "name": "stdout",
          "text": [
            "31\n",
            "1\n"
          ]
        }
      ]
    },
    {
      "cell_type": "markdown",
      "source": [
        "\n",
        ":::\n",
        "\n",
        ":::\n"
      ],
      "metadata": {
        "id": "otOA7-LdSX7L"
      }
    },
    {
      "cell_type": "markdown",
      "source": [
        "\n",
        "::: {.column width=\"50%\"}\n",
        "\n",
        "::: {style=\"font-size: 80%;\"}\n"
      ],
      "metadata": {
        "id": "FuJGoJA8UBv7"
      }
    },
    {
      "cell_type": "code",
      "source": [
        "var + var1"
      ],
      "metadata": {
        "colab": {
          "base_uri": "https://localhost:8080/",
          "height": 35
        },
        "id": "wOcKEgMTRcGD",
        "outputId": "0acb05a0-663d-4439-c161-a8d74c79e0ca"
      },
      "execution_count": 4,
      "outputs": [
        {
          "output_type": "execute_result",
          "data": {
            "text/plain": [
              "'This is Python Learning SessionA'"
            ],
            "application/vnd.google.colaboratory.intrinsic+json": {
              "type": "string"
            }
          },
          "metadata": {},
          "execution_count": 4
        }
      ]
    },
    {
      "cell_type": "code",
      "source": [
        "var - var1"
      ],
      "metadata": {
        "colab": {
          "base_uri": "https://localhost:8080/",
          "height": 141
        },
        "id": "zly1g62AR1qP",
        "outputId": "e1d48f6c-7129-4bf1-e2e3-1dc84af8b371"
      },
      "execution_count": 5,
      "outputs": [
        {
          "output_type": "error",
          "ename": "TypeError",
          "evalue": "unsupported operand type(s) for -: 'str' and 'str'",
          "traceback": [
            "\u001b[0;31m---------------------------------------------------------------------------\u001b[0m",
            "\u001b[0;31mTypeError\u001b[0m                                 Traceback (most recent call last)",
            "\u001b[0;32m<ipython-input-5-6ac0306cdaf6>\u001b[0m in \u001b[0;36m<cell line: 1>\u001b[0;34m()\u001b[0m\n\u001b[0;32m----> 1\u001b[0;31m \u001b[0mvar\u001b[0m \u001b[0;34m-\u001b[0m \u001b[0mvar1\u001b[0m\u001b[0;34m\u001b[0m\u001b[0;34m\u001b[0m\u001b[0m\n\u001b[0m",
            "\u001b[0;31mTypeError\u001b[0m: unsupported operand type(s) for -: 'str' and 'str'"
          ]
        }
      ]
    },
    {
      "cell_type": "code",
      "source": [
        "var * var1"
      ],
      "metadata": {
        "colab": {
          "base_uri": "https://localhost:8080/",
          "height": 141
        },
        "id": "EoisQ-T7R3rm",
        "outputId": "28f55f0d-502e-42e7-987b-47d0c9b6c8c8"
      },
      "execution_count": 6,
      "outputs": [
        {
          "output_type": "error",
          "ename": "TypeError",
          "evalue": "can't multiply sequence by non-int of type 'str'",
          "traceback": [
            "\u001b[0;31m---------------------------------------------------------------------------\u001b[0m",
            "\u001b[0;31mTypeError\u001b[0m                                 Traceback (most recent call last)",
            "\u001b[0;32m<ipython-input-6-057e19f0f1e8>\u001b[0m in \u001b[0;36m<cell line: 1>\u001b[0;34m()\u001b[0m\n\u001b[0;32m----> 1\u001b[0;31m \u001b[0mvar\u001b[0m \u001b[0;34m*\u001b[0m \u001b[0mvar1\u001b[0m\u001b[0;34m\u001b[0m\u001b[0;34m\u001b[0m\u001b[0m\n\u001b[0m",
            "\u001b[0;31mTypeError\u001b[0m: can't multiply sequence by non-int of type 'str'"
          ]
        }
      ]
    },
    {
      "cell_type": "markdown",
      "source": [
        "\n",
        ":::\n",
        "\n",
        ":::\n",
        "\n",
        ":::\n"
      ],
      "metadata": {
        "id": "zMepxO2mSgKc"
      }
    },
    {
      "cell_type": "markdown",
      "source": [
        "## Strings"
      ],
      "metadata": {
        "id": "ecWbqBVbWTL-"
      }
    },
    {
      "cell_type": "markdown",
      "source": [
        "\n",
        "::: columns\n",
        "\n",
        "::: {.column width=\"50%\"}\n",
        "\n",
        "::: {style=\"font-size: 80%;\"}\n"
      ],
      "metadata": {
        "id": "eLoFMsLrauqh"
      }
    },
    {
      "cell_type": "code",
      "source": [
        "var2 = \"This is sentence one.\\nThis is sentence two.\\nThis is sentence three\"\n",
        "\n",
        "print(var2)"
      ],
      "metadata": {
        "colab": {
          "base_uri": "https://localhost:8080/"
        },
        "id": "v9RcCS65WT17",
        "outputId": "fe88f759-af45-4ea3-e4f3-82ba58f0eff6"
      },
      "execution_count": 7,
      "outputs": [
        {
          "output_type": "stream",
          "name": "stdout",
          "text": [
            "This is sentence one.\n",
            "This is sentence two.\n",
            "This is sentence three\n"
          ]
        }
      ]
    },
    {
      "cell_type": "code",
      "source": [
        "var3 =  '''\n",
        "This is sentence one\n",
        "This is sentence two\n",
        "This is sentence three\n",
        "'''\n",
        "print(type(var3))\n",
        "print(\"\")\n",
        "print(var3)"
      ],
      "metadata": {
        "colab": {
          "base_uri": "https://localhost:8080/"
        },
        "id": "cFmHf_bqWwMp",
        "outputId": "464bdf18-70a5-45cf-a986-814462c15674"
      },
      "execution_count": 8,
      "outputs": [
        {
          "output_type": "stream",
          "name": "stdout",
          "text": [
            "<class 'str'>\n",
            "\n",
            "\n",
            "This is sentence one\n",
            "This is sentence two\n",
            "This is sentence three\n",
            "\n"
          ]
        }
      ]
    },
    {
      "cell_type": "code",
      "source": [
        "var3 = r'This is sentence one.\\nThis is sentence two.\\nThis is sentence three'\n",
        "print(type(var3))\n",
        "print(var3)"
      ],
      "metadata": {
        "colab": {
          "base_uri": "https://localhost:8080/"
        },
        "id": "3KuTs0g5XHPE",
        "outputId": "e35e3bbf-44a1-4191-83be-665c4e80a4eb"
      },
      "execution_count": 9,
      "outputs": [
        {
          "output_type": "stream",
          "name": "stdout",
          "text": [
            "<class 'str'>\n",
            "This is sentence one.\\nThis is sentence two.\\nThis is sentence three\n"
          ]
        }
      ]
    },
    {
      "cell_type": "code",
      "source": [
        "var4 = r'''This is sentence one.\n",
        "This is sentence two.\n",
        "This is sentence three\n",
        "'''\n",
        "print(type(var4))\n",
        "print(\"\")\n",
        "print(var4)"
      ],
      "metadata": {
        "colab": {
          "base_uri": "https://localhost:8080/"
        },
        "id": "4eqfq384XIQd",
        "outputId": "ec9c3c5b-db9e-4bab-dc5b-77f2b1de0eb3"
      },
      "execution_count": 10,
      "outputs": [
        {
          "output_type": "stream",
          "name": "stdout",
          "text": [
            "<class 'str'>\n",
            "\n",
            "This is sentence one.\n",
            "This is sentence two.\n",
            "This is sentence three\n",
            "\n"
          ]
        }
      ]
    },
    {
      "cell_type": "markdown",
      "source": [
        "\n",
        ":::\n",
        "\n",
        ":::\n"
      ],
      "metadata": {
        "id": "19Iy8xxkaycj"
      }
    },
    {
      "cell_type": "markdown",
      "source": [
        "\n",
        "::: {.column width=\"50%\"}\n",
        "\n",
        "::: {style=\"font-size: 80%;\"}\n"
      ],
      "metadata": {
        "id": "60E-wCpoa51-"
      }
    },
    {
      "cell_type": "code",
      "source": [
        "var = \"Julius Caesar says, \"Experience is the teacher of all things.\"\"\n",
        "print(var)"
      ],
      "metadata": {
        "colab": {
          "base_uri": "https://localhost:8080/",
          "height": 106
        },
        "id": "UvC7maTdZhTh",
        "outputId": "8c251d3e-f31d-4178-95bf-8aa436cf8b36"
      },
      "execution_count": 11,
      "outputs": [
        {
          "output_type": "error",
          "ename": "SyntaxError",
          "evalue": "invalid syntax (<ipython-input-11-d472829db0e4>, line 1)",
          "traceback": [
            "\u001b[0;36m  File \u001b[0;32m\"<ipython-input-11-d472829db0e4>\"\u001b[0;36m, line \u001b[0;32m1\u001b[0m\n\u001b[0;31m    var = \"Julius Caesar says, \"Experience is the teacher of all things.\"\"\u001b[0m\n\u001b[0m                                ^\u001b[0m\n\u001b[0;31mSyntaxError\u001b[0m\u001b[0;31m:\u001b[0m invalid syntax\n"
          ]
        }
      ]
    },
    {
      "cell_type": "code",
      "source": [
        "var = \"Julius Caesar says, \\\"Experience is the teacher of all things.\\\"\"\n",
        "print(var)"
      ],
      "metadata": {
        "colab": {
          "base_uri": "https://localhost:8080/"
        },
        "id": "Z9M-f0GBbcjH",
        "outputId": "36e8f1d7-9466-47dc-9e04-91110df61687"
      },
      "execution_count": 12,
      "outputs": [
        {
          "output_type": "stream",
          "name": "stdout",
          "text": [
            "Julius Caesar says, \"Experience is the teacher of all things.\"\n"
          ]
        }
      ]
    },
    {
      "cell_type": "code",
      "source": [
        "var1 = \"lets print blackslash \\\"\n",
        "print(var1)"
      ],
      "metadata": {
        "colab": {
          "base_uri": "https://localhost:8080/",
          "height": 106
        },
        "id": "6x17dTVhbhWo",
        "outputId": "095ccfc3-2dc3-4bce-ee13-5ffe9db961ac"
      },
      "execution_count": 13,
      "outputs": [
        {
          "output_type": "error",
          "ename": "SyntaxError",
          "evalue": "unterminated string literal (detected at line 1) (<ipython-input-13-25f80e072a07>, line 1)",
          "traceback": [
            "\u001b[0;36m  File \u001b[0;32m\"<ipython-input-13-25f80e072a07>\"\u001b[0;36m, line \u001b[0;32m1\u001b[0m\n\u001b[0;31m    var1 = \"lets print blackslash \\\"\u001b[0m\n\u001b[0m           ^\u001b[0m\n\u001b[0;31mSyntaxError\u001b[0m\u001b[0;31m:\u001b[0m unterminated string literal (detected at line 1)\n"
          ]
        }
      ]
    },
    {
      "cell_type": "code",
      "source": [
        "var1 = \"lets print blackslash \\\\\"\n",
        "print(var1)"
      ],
      "metadata": {
        "colab": {
          "base_uri": "https://localhost:8080/"
        },
        "id": "PwAHXGgWdDb8",
        "outputId": "e8f3435e-99fa-4fb1-fbae-452ecf26d4be"
      },
      "execution_count": 14,
      "outputs": [
        {
          "output_type": "stream",
          "name": "stdout",
          "text": [
            "lets print blackslash \\\n"
          ]
        }
      ]
    },
    {
      "cell_type": "code",
      "source": [
        "var1 = \"lets print blackslash \\\n",
        "second part of the sentence\"\n",
        "print(var1)"
      ],
      "metadata": {
        "colab": {
          "base_uri": "https://localhost:8080/"
        },
        "id": "ZexdeJHrdHUk",
        "outputId": "819fe7ef-a3aa-40cf-fc31-bebade87231d"
      },
      "execution_count": 15,
      "outputs": [
        {
          "output_type": "stream",
          "name": "stdout",
          "text": [
            "lets print blackslash second part of the sentence\n"
          ]
        }
      ]
    },
    {
      "cell_type": "markdown",
      "source": [
        "\n",
        ":::\n",
        "\n",
        ":::\n",
        "\n",
        ":::\n"
      ],
      "metadata": {
        "id": "PGUFqn7ndfix"
      }
    },
    {
      "cell_type": "markdown",
      "source": [
        "## String Mathematical Operations"
      ],
      "metadata": {
        "id": "ZzPKMUA2drZz"
      }
    },
    {
      "cell_type": "markdown",
      "source": [
        "\n",
        "::: columns\n",
        "\n",
        "::: {.column width=\"50%\"}\n",
        "\n",
        "::: {style=\"font-size: 80%;\"}\n"
      ],
      "metadata": {
        "id": "tFzubsQ47tdr"
      }
    },
    {
      "cell_type": "code",
      "source": [
        "print(var + \"\\n\" +var1)"
      ],
      "metadata": {
        "colab": {
          "base_uri": "https://localhost:8080/"
        },
        "id": "fexBv6H5dse2",
        "outputId": "347aa01b-1a71-4c3e-a55a-ea3ada3dfa17"
      },
      "execution_count": 20,
      "outputs": [
        {
          "output_type": "stream",
          "name": "stdout",
          "text": [
            "Julius Caesar says, \"Experience is the teacher of all things.\"\n",
            "lets print blackslash second part of the sentence\n"
          ]
        }
      ]
    },
    {
      "cell_type": "code",
      "source": [
        "print(var * 2)"
      ],
      "metadata": {
        "colab": {
          "base_uri": "https://localhost:8080/"
        },
        "id": "iUvX7lEZ6oF-",
        "outputId": "3bdb18f6-e558-4d38-9c14-b00ef39026e8"
      },
      "execution_count": 23,
      "outputs": [
        {
          "output_type": "stream",
          "name": "stdout",
          "text": [
            "Julius Caesar says, \"Experience is the teacher of all things.\"Julius Caesar says, \"Experience is the teacher of all things.\"\n"
          ]
        }
      ]
    },
    {
      "cell_type": "code",
      "source": [
        "print(var / 2)"
      ],
      "metadata": {
        "colab": {
          "base_uri": "https://localhost:8080/",
          "height": 141
        },
        "id": "gWPxvR7b6vjR",
        "outputId": "59b5b21b-a94a-4e91-8bed-8a03b3b2a637"
      },
      "execution_count": 24,
      "outputs": [
        {
          "output_type": "error",
          "ename": "TypeError",
          "evalue": "unsupported operand type(s) for /: 'str' and 'int'",
          "traceback": [
            "\u001b[0;31m---------------------------------------------------------------------------\u001b[0m",
            "\u001b[0;31mTypeError\u001b[0m                                 Traceback (most recent call last)",
            "\u001b[0;32m<ipython-input-24-5d113b0a9ea4>\u001b[0m in \u001b[0;36m<cell line: 1>\u001b[0;34m()\u001b[0m\n\u001b[0;32m----> 1\u001b[0;31m \u001b[0mprint\u001b[0m\u001b[0;34m(\u001b[0m\u001b[0mvar\u001b[0m \u001b[0;34m/\u001b[0m \u001b[0;36m2\u001b[0m\u001b[0;34m)\u001b[0m\u001b[0;34m\u001b[0m\u001b[0;34m\u001b[0m\u001b[0m\n\u001b[0m",
            "\u001b[0;31mTypeError\u001b[0m: unsupported operand type(s) for /: 'str' and 'int'"
          ]
        }
      ]
    },
    {
      "cell_type": "code",
      "source": [
        "var - \"says\""
      ],
      "metadata": {
        "colab": {
          "base_uri": "https://localhost:8080/",
          "height": 141
        },
        "id": "yl0zB1-S6zVo",
        "outputId": "d46f877a-8171-4389-ca4b-c91f9fd88eb3"
      },
      "execution_count": 29,
      "outputs": [
        {
          "output_type": "error",
          "ename": "TypeError",
          "evalue": "unsupported operand type(s) for -: 'str' and 'str'",
          "traceback": [
            "\u001b[0;31m---------------------------------------------------------------------------\u001b[0m",
            "\u001b[0;31mTypeError\u001b[0m                                 Traceback (most recent call last)",
            "\u001b[0;32m<ipython-input-29-927b51de5888>\u001b[0m in \u001b[0;36m<cell line: 1>\u001b[0;34m()\u001b[0m\n\u001b[0;32m----> 1\u001b[0;31m \u001b[0mvar\u001b[0m \u001b[0;34m-\u001b[0m \u001b[0;34m\"says\"\u001b[0m\u001b[0;34m\u001b[0m\u001b[0;34m\u001b[0m\u001b[0m\n\u001b[0m",
            "\u001b[0;31mTypeError\u001b[0m: unsupported operand type(s) for -: 'str' and 'str'"
          ]
        }
      ]
    },
    {
      "cell_type": "markdown",
      "source": [
        "\n",
        ":::\n",
        "\n",
        ":::\n"
      ],
      "metadata": {
        "id": "StftaXCf8zAd"
      }
    },
    {
      "cell_type": "markdown",
      "source": [
        "\n",
        "::: {.column width=\"50%\"}\n",
        "\n",
        "::: {style=\"font-size: 80%;\"}\n"
      ],
      "metadata": {
        "id": "_Kt72G___QX1"
      }
    },
    {
      "cell_type": "code",
      "source": [
        "a = \" Children\"\n",
        "b = \" Played\"\n",
        "c = \" and\"\n",
        "\n",
        "a + b + c + b"
      ],
      "metadata": {
        "colab": {
          "base_uri": "https://localhost:8080/",
          "height": 35
        },
        "id": "nZvGxI__81N4",
        "outputId": "1950afe2-b6bd-4f71-87fd-7a50bab81f9e"
      },
      "execution_count": 32,
      "outputs": [
        {
          "output_type": "execute_result",
          "data": {
            "text/plain": [
              "' Children Played and Played'"
            ],
            "application/vnd.google.colaboratory.intrinsic+json": {
              "type": "string"
            }
          },
          "metadata": {},
          "execution_count": 32
        }
      ]
    },
    {
      "cell_type": "code",
      "source": [
        "\"Go \"*2 +\"before it's late\""
      ],
      "metadata": {
        "colab": {
          "base_uri": "https://localhost:8080/",
          "height": 35
        },
        "id": "w0HbyRQ3-oQi",
        "outputId": "c6cf7c38-6d40-4f6b-c8dd-c7bcba5fbf7e"
      },
      "execution_count": 36,
      "outputs": [
        {
          "output_type": "execute_result",
          "data": {
            "text/plain": [
              "\"Go Go before it's late\""
            ],
            "application/vnd.google.colaboratory.intrinsic+json": {
              "type": "string"
            }
          },
          "metadata": {},
          "execution_count": 36
        }
      ]
    },
    {
      "cell_type": "code",
      "source": [
        "\"First Name \" \"& Last Name\""
      ],
      "metadata": {
        "colab": {
          "base_uri": "https://localhost:8080/",
          "height": 35
        },
        "id": "56_M9NS2-6MD",
        "outputId": "a57a2387-6240-436e-9e1f-19e6bccfdce4"
      },
      "execution_count": 39,
      "outputs": [
        {
          "output_type": "execute_result",
          "data": {
            "text/plain": [
              "'First Name & Last Name'"
            ],
            "application/vnd.google.colaboratory.intrinsic+json": {
              "type": "string"
            }
          },
          "metadata": {},
          "execution_count": 39
        }
      ]
    },
    {
      "cell_type": "code",
      "source": [
        "\"First Name \"*2 \"& Last Name\""
      ],
      "metadata": {
        "colab": {
          "base_uri": "https://localhost:8080/",
          "height": 106
        },
        "id": "OkBcfUQh_Bt2",
        "outputId": "a0604933-30d8-474f-bbba-f186348d3267"
      },
      "execution_count": 42,
      "outputs": [
        {
          "output_type": "error",
          "ename": "SyntaxError",
          "evalue": "invalid syntax (<ipython-input-42-42675f58e5c5>, line 1)",
          "traceback": [
            "\u001b[0;36m  File \u001b[0;32m\"<ipython-input-42-42675f58e5c5>\"\u001b[0;36m, line \u001b[0;32m1\u001b[0m\n\u001b[0;31m    \"First Name \"*2 \"& Last Name\"\u001b[0m\n\u001b[0m                    ^\u001b[0m\n\u001b[0;31mSyntaxError\u001b[0m\u001b[0;31m:\u001b[0m invalid syntax\n"
          ]
        }
      ]
    },
    {
      "cell_type": "markdown",
      "source": [
        "\n",
        ":::\n",
        "\n",
        ":::\n",
        "\n",
        ":::\n"
      ],
      "metadata": {
        "id": "GPWs81h6_UhW"
      }
    },
    {
      "cell_type": "markdown",
      "source": [
        "## Indexing"
      ],
      "metadata": {
        "id": "tXIK9z5JdwiW"
      }
    },
    {
      "cell_type": "markdown",
      "source": [
        "\n",
        "::: columns\n",
        "\n",
        "::: {.column width=\"50%\"}\n",
        "\n",
        "::: {style=\"font-size: 80%;\"}\n"
      ],
      "metadata": {
        "id": "1jrP7ZzUAkME"
      }
    },
    {
      "cell_type": "code",
      "source": [
        "var = \"WORD\"\n",
        "print(var)"
      ],
      "metadata": {
        "colab": {
          "base_uri": "https://localhost:8080/"
        },
        "id": "_875djFndxuC",
        "outputId": "598f1363-e871-465e-ed7b-6929a70ff9b6"
      },
      "execution_count": 47,
      "outputs": [
        {
          "output_type": "stream",
          "name": "stdout",
          "text": [
            "WORD\n"
          ]
        }
      ]
    },
    {
      "cell_type": "code",
      "source": [
        "len(var)"
      ],
      "metadata": {
        "colab": {
          "base_uri": "https://localhost:8080/"
        },
        "id": "sw6ASeRM_wTO",
        "outputId": "fc0b3f46-c1cc-4d0c-de12-465172da9098"
      },
      "execution_count": 48,
      "outputs": [
        {
          "output_type": "execute_result",
          "data": {
            "text/plain": [
              "4"
            ]
          },
          "metadata": {},
          "execution_count": 48
        }
      ]
    },
    {
      "cell_type": "code",
      "source": [
        "print(var[0])\n",
        "print(type(var[0]))\n",
        "print(var[3])"
      ],
      "metadata": {
        "colab": {
          "base_uri": "https://localhost:8080/"
        },
        "id": "PtMv2PDK_waq",
        "outputId": "81d556a2-88df-4836-942b-4b949c0c1235"
      },
      "execution_count": 49,
      "outputs": [
        {
          "output_type": "stream",
          "name": "stdout",
          "text": [
            "W\n",
            "<class 'str'>\n",
            "D\n"
          ]
        }
      ]
    },
    {
      "cell_type": "code",
      "source": [
        "var[4]"
      ],
      "metadata": {
        "colab": {
          "base_uri": "https://localhost:8080/",
          "height": 141
        },
        "id": "zsWHEJ6ACHiM",
        "outputId": "f6983f7c-663f-4559-d5be-1b12c7fbc0f5"
      },
      "execution_count": 51,
      "outputs": [
        {
          "output_type": "error",
          "ename": "IndexError",
          "evalue": "string index out of range",
          "traceback": [
            "\u001b[0;31m---------------------------------------------------------------------------\u001b[0m",
            "\u001b[0;31mIndexError\u001b[0m                                Traceback (most recent call last)",
            "\u001b[0;32m<ipython-input-51-6e0795f01afe>\u001b[0m in \u001b[0;36m<cell line: 1>\u001b[0;34m()\u001b[0m\n\u001b[0;32m----> 1\u001b[0;31m \u001b[0mvar\u001b[0m\u001b[0;34m[\u001b[0m\u001b[0;36m4\u001b[0m\u001b[0;34m]\u001b[0m\u001b[0;34m\u001b[0m\u001b[0;34m\u001b[0m\u001b[0m\n\u001b[0m",
            "\u001b[0;31mIndexError\u001b[0m: string index out of range"
          ]
        }
      ]
    },
    {
      "cell_type": "markdown",
      "source": [
        "\n",
        ":::\n",
        "\n",
        ":::\n"
      ],
      "metadata": {
        "id": "TPsQItnkAnUT"
      }
    },
    {
      "cell_type": "markdown",
      "source": [
        "\n",
        "::: {.column width=\"50%\"}\n",
        "\n",
        "::: {style=\"font-size: 80%;\"}\n"
      ],
      "metadata": {
        "id": "Z8dGoYJVAqlD"
      }
    },
    {
      "cell_type": "code",
      "source": [
        "var[-1]"
      ],
      "metadata": {
        "colab": {
          "base_uri": "https://localhost:8080/",
          "height": 35
        },
        "id": "3ADXLvbsAr_c",
        "outputId": "e8cf3290-25f9-47ed-d771-ddf5d02561a3"
      },
      "execution_count": 50,
      "outputs": [
        {
          "output_type": "execute_result",
          "data": {
            "text/plain": [
              "'D'"
            ],
            "application/vnd.google.colaboratory.intrinsic+json": {
              "type": "string"
            }
          },
          "metadata": {},
          "execution_count": 50
        }
      ]
    },
    {
      "cell_type": "code",
      "source": [
        "var[-2]"
      ],
      "metadata": {
        "colab": {
          "base_uri": "https://localhost:8080/",
          "height": 35
        },
        "id": "_rDKjb9ICFYu",
        "outputId": "c89978ce-db80-46f9-dc1b-8654eda8d601"
      },
      "execution_count": 53,
      "outputs": [
        {
          "output_type": "execute_result",
          "data": {
            "text/plain": [
              "'R'"
            ],
            "application/vnd.google.colaboratory.intrinsic+json": {
              "type": "string"
            }
          },
          "metadata": {},
          "execution_count": 53
        }
      ]
    },
    {
      "cell_type": "code",
      "source": [
        "var[-3]"
      ],
      "metadata": {
        "colab": {
          "base_uri": "https://localhost:8080/",
          "height": 35
        },
        "id": "uF9TM1GOCF4G",
        "outputId": "7c01b2c6-a391-4fa7-ec78-e0dafc9d09c3"
      },
      "execution_count": 54,
      "outputs": [
        {
          "output_type": "execute_result",
          "data": {
            "text/plain": [
              "'O'"
            ],
            "application/vnd.google.colaboratory.intrinsic+json": {
              "type": "string"
            }
          },
          "metadata": {},
          "execution_count": 54
        }
      ]
    },
    {
      "cell_type": "code",
      "source": [
        "var[-4]"
      ],
      "metadata": {
        "colab": {
          "base_uri": "https://localhost:8080/",
          "height": 35
        },
        "id": "pWFv88xFCc2S",
        "outputId": "b55effa8-bc99-42a0-aebb-d21c5e4e4c65"
      },
      "execution_count": 55,
      "outputs": [
        {
          "output_type": "execute_result",
          "data": {
            "text/plain": [
              "'W'"
            ],
            "application/vnd.google.colaboratory.intrinsic+json": {
              "type": "string"
            }
          },
          "metadata": {},
          "execution_count": 55
        }
      ]
    },
    {
      "cell_type": "code",
      "source": [
        "var[-5]"
      ],
      "metadata": {
        "colab": {
          "base_uri": "https://localhost:8080/",
          "height": 141
        },
        "id": "r-_CzWrHCc9I",
        "outputId": "305d28ea-da20-4781-fca8-58f15d4d2239"
      },
      "execution_count": 56,
      "outputs": [
        {
          "output_type": "error",
          "ename": "IndexError",
          "evalue": "string index out of range",
          "traceback": [
            "\u001b[0;31m---------------------------------------------------------------------------\u001b[0m",
            "\u001b[0;31mIndexError\u001b[0m                                Traceback (most recent call last)",
            "\u001b[0;32m<ipython-input-56-8ea7679abd80>\u001b[0m in \u001b[0;36m<cell line: 1>\u001b[0;34m()\u001b[0m\n\u001b[0;32m----> 1\u001b[0;31m \u001b[0mvar\u001b[0m\u001b[0;34m[\u001b[0m\u001b[0;34m-\u001b[0m\u001b[0;36m5\u001b[0m\u001b[0;34m]\u001b[0m\u001b[0;34m\u001b[0m\u001b[0;34m\u001b[0m\u001b[0m\n\u001b[0m",
            "\u001b[0;31mIndexError\u001b[0m: string index out of range"
          ]
        }
      ]
    },
    {
      "cell_type": "markdown",
      "source": [
        "\n",
        ":::\n",
        "\n",
        ":::\n",
        "\n",
        ":::\n"
      ],
      "metadata": {
        "id": "3rKTYDZ8FpPf"
      }
    },
    {
      "cell_type": "markdown",
      "source": [
        "## Slicing"
      ],
      "metadata": {
        "id": "YEqODjDadyYf"
      }
    },
    {
      "cell_type": "markdown",
      "source": [
        "\n",
        "::: columns\n",
        "\n",
        "::: {.column width=\"50%\"}\n",
        "\n",
        "::: {style=\"font-size: 80%;\"}\n"
      ],
      "metadata": {
        "id": "S8m3n7wXFtoW"
      }
    },
    {
      "cell_type": "code",
      "source": [
        "var = \"Slice and Dice Me\"\n",
        "print(var)"
      ],
      "metadata": {
        "colab": {
          "base_uri": "https://localhost:8080/"
        },
        "id": "kYTD4mEmCb_3",
        "outputId": "cd439771-5717-4ef4-9277-4723e70a2086"
      },
      "execution_count": 57,
      "outputs": [
        {
          "output_type": "stream",
          "name": "stdout",
          "text": [
            "Slice and Dice Me\n"
          ]
        }
      ]
    },
    {
      "cell_type": "code",
      "source": [
        "var[0:5]"
      ],
      "metadata": {
        "colab": {
          "base_uri": "https://localhost:8080/",
          "height": 35
        },
        "id": "4sSi_usCCENe",
        "outputId": "d2e48c3c-9c3d-4b2b-d042-c1b33e3b7b63"
      },
      "execution_count": 59,
      "outputs": [
        {
          "output_type": "execute_result",
          "data": {
            "text/plain": [
              "'Slice'"
            ],
            "application/vnd.google.colaboratory.intrinsic+json": {
              "type": "string"
            }
          },
          "metadata": {},
          "execution_count": 59
        }
      ]
    },
    {
      "cell_type": "code",
      "source": [
        "var[:5]"
      ],
      "metadata": {
        "colab": {
          "base_uri": "https://localhost:8080/",
          "height": 35
        },
        "id": "YSy654_NDjNy",
        "outputId": "e7b49b98-95c9-4d8e-825e-a3bea6c74fbf"
      },
      "execution_count": 63,
      "outputs": [
        {
          "output_type": "execute_result",
          "data": {
            "text/plain": [
              "'Slice'"
            ],
            "application/vnd.google.colaboratory.intrinsic+json": {
              "type": "string"
            }
          },
          "metadata": {},
          "execution_count": 63
        }
      ]
    },
    {
      "cell_type": "markdown",
      "source": [
        "[: `end` ] specifies from the beginning to the end offset minus 1"
      ],
      "metadata": {
        "id": "aIJf_c8YDl_c"
      }
    },
    {
      "cell_type": "code",
      "source": [
        "var[6:9]"
      ],
      "metadata": {
        "colab": {
          "base_uri": "https://localhost:8080/",
          "height": 35
        },
        "id": "yL_4r3xBCEeZ",
        "outputId": "2d35fa0f-fed7-4128-f2f6-49117e9dfdb7"
      },
      "execution_count": 61,
      "outputs": [
        {
          "output_type": "execute_result",
          "data": {
            "text/plain": [
              "'and'"
            ],
            "application/vnd.google.colaboratory.intrinsic+json": {
              "type": "string"
            }
          },
          "metadata": {},
          "execution_count": 61
        }
      ]
    },
    {
      "cell_type": "markdown",
      "source": [
        "[ `start` : `end` ] indicates from the start offset to the end offset minus"
      ],
      "metadata": {
        "id": "CHTUp7A9DQc1"
      }
    },
    {
      "cell_type": "code",
      "source": [
        "var[10:]"
      ],
      "metadata": {
        "colab": {
          "base_uri": "https://localhost:8080/",
          "height": 35
        },
        "id": "hR0Z5_q0_vdR",
        "outputId": "26cf86af-0207-4fe9-ba25-89919e9e4813"
      },
      "execution_count": 62,
      "outputs": [
        {
          "output_type": "execute_result",
          "data": {
            "text/plain": [
              "'Dice Me'"
            ],
            "application/vnd.google.colaboratory.intrinsic+json": {
              "type": "string"
            }
          },
          "metadata": {},
          "execution_count": 62
        }
      ]
    },
    {
      "cell_type": "markdown",
      "source": [
        "[ `start` :] specifies from the start offset to the end."
      ],
      "metadata": {
        "id": "hD3wBbScDd6m"
      }
    },
    {
      "cell_type": "markdown",
      "source": [
        "\n",
        ":::\n",
        "\n",
        ":::\n"
      ],
      "metadata": {
        "id": "6ujy77opF0fv"
      }
    },
    {
      "cell_type": "markdown",
      "source": [
        "\n",
        "::: {.column width=\"50%\"}\n",
        "\n",
        "::: {style=\"font-size: 80%;\"}\n"
      ],
      "metadata": {
        "id": "ezZCnNbdF50S"
      }
    },
    {
      "cell_type": "code",
      "source": [
        "var[10:-3]"
      ],
      "metadata": {
        "colab": {
          "base_uri": "https://localhost:8080/",
          "height": 35
        },
        "id": "9gz7UiiLd0CC",
        "outputId": "f03ee3f3-2e88-4a1a-85c0-dbd5a1819a17"
      },
      "execution_count": 65,
      "outputs": [
        {
          "output_type": "execute_result",
          "data": {
            "text/plain": [
              "'Dice'"
            ],
            "application/vnd.google.colaboratory.intrinsic+json": {
              "type": "string"
            }
          },
          "metadata": {},
          "execution_count": 65
        }
      ]
    },
    {
      "cell_type": "code",
      "source": [
        "var[10:-10]"
      ],
      "metadata": {
        "colab": {
          "base_uri": "https://localhost:8080/",
          "height": 35
        },
        "id": "BSOFnOrZD7h1",
        "outputId": "4d2cd211-31b3-4b30-dff3-f59ec0f1d4f5"
      },
      "execution_count": 66,
      "outputs": [
        {
          "output_type": "execute_result",
          "data": {
            "text/plain": [
              "''"
            ],
            "application/vnd.google.colaboratory.intrinsic+json": {
              "type": "string"
            }
          },
          "metadata": {},
          "execution_count": 66
        }
      ]
    },
    {
      "cell_type": "code",
      "source": [
        "var[0:6:2]"
      ],
      "metadata": {
        "colab": {
          "base_uri": "https://localhost:8080/",
          "height": 35
        },
        "id": "Kg8q6LONEA2r",
        "outputId": "9f0480d9-d8dc-4318-bf22-d10bf6956520"
      },
      "execution_count": 67,
      "outputs": [
        {
          "output_type": "execute_result",
          "data": {
            "text/plain": [
              "'Sie'"
            ],
            "application/vnd.google.colaboratory.intrinsic+json": {
              "type": "string"
            }
          },
          "metadata": {},
          "execution_count": 67
        }
      ]
    },
    {
      "cell_type": "code",
      "source": [
        "var[::-1]"
      ],
      "metadata": {
        "colab": {
          "base_uri": "https://localhost:8080/",
          "height": 35
        },
        "id": "BRMoDr8mE2lE",
        "outputId": "f9ad323b-c107-44ef-c6a0-0121d801ff3a"
      },
      "execution_count": 85,
      "outputs": [
        {
          "output_type": "execute_result",
          "data": {
            "text/plain": [
              "'eM eciD dna ecilS'"
            ],
            "application/vnd.google.colaboratory.intrinsic+json": {
              "type": "string"
            }
          },
          "metadata": {},
          "execution_count": 85
        }
      ]
    },
    {
      "cell_type": "code",
      "source": [
        "var[::-1][3:7]"
      ],
      "metadata": {
        "colab": {
          "base_uri": "https://localhost:8080/",
          "height": 35
        },
        "id": "aIGIbTX3E20Y",
        "outputId": "af59d35c-170b-43cd-ee33-385e83f4ad78"
      },
      "execution_count": 90,
      "outputs": [
        {
          "output_type": "execute_result",
          "data": {
            "text/plain": [
              "'eciD'"
            ],
            "application/vnd.google.colaboratory.intrinsic+json": {
              "type": "string"
            }
          },
          "metadata": {},
          "execution_count": 90
        }
      ]
    },
    {
      "cell_type": "markdown",
      "source": [
        "[ `start` : `end` : `step` ] extracts from the start offset to the end offset minus 1, skipping characters by step"
      ],
      "metadata": {
        "id": "3g1ClqllENKF"
      }
    },
    {
      "cell_type": "code",
      "source": [
        "var[3:-3:2]"
      ],
      "metadata": {
        "colab": {
          "base_uri": "https://localhost:8080/",
          "height": 35
        },
        "id": "4yp0L6eWETFx",
        "outputId": "8d28d3b8-dee6-4461-d03b-2b7398fba046"
      },
      "execution_count": 77,
      "outputs": [
        {
          "output_type": "execute_result",
          "data": {
            "text/plain": [
              "'c n ie'"
            ],
            "application/vnd.google.colaboratory.intrinsic+json": {
              "type": "string"
            }
          },
          "metadata": {},
          "execution_count": 77
        }
      ]
    },
    {
      "cell_type": "markdown",
      "source": [
        "\n",
        ":::\n",
        "\n",
        ":::\n",
        "\n",
        ":::\n"
      ],
      "metadata": {
        "id": "3M7PdoEdF9TU"
      }
    },
    {
      "cell_type": "markdown",
      "source": [
        "# Thank You"
      ],
      "metadata": {
        "id": "CL3_E4Vid2J7"
      }
    }
  ]
}