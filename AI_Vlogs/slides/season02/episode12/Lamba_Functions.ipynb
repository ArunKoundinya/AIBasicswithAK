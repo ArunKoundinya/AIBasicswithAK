{
  "nbformat": 4,
  "nbformat_minor": 0,
  "metadata": {
    "colab": {
      "provenance": [],
      "authorship_tag": "ABX9TyNPkslrQBcpSnSQhuvvAhcO",
      "include_colab_link": true
    },
    "kernelspec": {
      "name": "python3",
      "display_name": "Python 3"
    },
    "language_info": {
      "name": "python"
    }
  },
  "cells": [
    {
      "cell_type": "markdown",
      "metadata": {
        "id": "view-in-github",
        "colab_type": "text"
      },
      "source": [
        "<a href=\"https://colab.research.google.com/github/ArunKoundinya/AIBasicswithAK/blob/master/AI_Vlogs/slides/season02/episode12/Lamba_Functions.ipynb\" target=\"_parent\"><img src=\"https://colab.research.google.com/assets/colab-badge.svg\" alt=\"Open In Colab\"/></a>"
      ]
    },
    {
      "cell_type": "code",
      "source": [
        "def my_firstfunction():\n",
        "  print(\"My First Function\")\n",
        "\n",
        "\n",
        "my_firstfunction()"
      ],
      "metadata": {
        "colab": {
          "base_uri": "https://localhost:8080/"
        },
        "id": "UDe2dpvYVjg8",
        "outputId": "e76856bb-8d41-4c6f-a028-017209c6d35e"
      },
      "execution_count": 9,
      "outputs": [
        {
          "output_type": "stream",
          "name": "stdout",
          "text": [
            "My First Function\n"
          ]
        }
      ]
    },
    {
      "cell_type": "code",
      "source": [
        "my_firstfunction = lambda : print(\"My First Function\")\n",
        "my_firstfunction()"
      ],
      "metadata": {
        "colab": {
          "base_uri": "https://localhost:8080/"
        },
        "id": "58lugSQDT59U",
        "outputId": "be30ab78-3043-46dc-c4a3-fe3b6055189d"
      },
      "execution_count": 3,
      "outputs": [
        {
          "output_type": "stream",
          "name": "stdout",
          "text": [
            "My First Function\n"
          ]
        }
      ]
    },
    {
      "cell_type": "code",
      "source": [
        "def sum_of_numbers(num1,num2):\n",
        "  total = num1 + num2\n",
        "  return total\n",
        "\n",
        "sum_of_numbers(30,70)"
      ],
      "metadata": {
        "colab": {
          "base_uri": "https://localhost:8080/"
        },
        "id": "31pialKTVnHU",
        "outputId": "a7f606a4-3244-4eb7-e672-16bd9a71e09c"
      },
      "execution_count": 10,
      "outputs": [
        {
          "output_type": "execute_result",
          "data": {
            "text/plain": [
              "100"
            ]
          },
          "metadata": {},
          "execution_count": 10
        }
      ]
    },
    {
      "cell_type": "code",
      "source": [
        "sum_of_numbers = lambda x, y: x + y\n",
        "sum_of_numbers(30,70)"
      ],
      "metadata": {
        "colab": {
          "base_uri": "https://localhost:8080/"
        },
        "id": "ygS9baPyUP1-",
        "outputId": "e129ad18-0543-4750-9072-b96b7206c765"
      },
      "execution_count": 11,
      "outputs": [
        {
          "output_type": "execute_result",
          "data": {
            "text/plain": [
              "100"
            ]
          },
          "metadata": {},
          "execution_count": 11
        }
      ]
    },
    {
      "cell_type": "code",
      "source": [
        "def area_of_circle(radius):\n",
        "  return 3.14 * radius ** 2\n",
        "\n",
        "area_of_circle(3)"
      ],
      "metadata": {
        "colab": {
          "base_uri": "https://localhost:8080/"
        },
        "id": "C636pMxqVtXI",
        "outputId": "5f8776c0-d445-4e78-f0ef-c8abff7203bf"
      },
      "execution_count": 12,
      "outputs": [
        {
          "output_type": "execute_result",
          "data": {
            "text/plain": [
              "28.26"
            ]
          },
          "metadata": {},
          "execution_count": 12
        }
      ]
    },
    {
      "cell_type": "code",
      "source": [
        "area_of_circle = lambda radius :  3.14 * radius ** 2\n",
        "area_of_circle(3)"
      ],
      "metadata": {
        "colab": {
          "base_uri": "https://localhost:8080/"
        },
        "id": "qciEd2tuU6lc",
        "outputId": "3ba527df-e471-407f-95e4-dde8b3b11320"
      },
      "execution_count": 5,
      "outputs": [
        {
          "output_type": "execute_result",
          "data": {
            "text/plain": [
              "28.26"
            ]
          },
          "metadata": {},
          "execution_count": 5
        }
      ]
    },
    {
      "cell_type": "code",
      "source": [
        "def sum_of_n_numbers(n):\n",
        "  if n == 0:\n",
        "    return 0\n",
        "  else:\n",
        "    return n + sum_of_n_numbers(n-1)\n",
        "\n",
        "sum_of_n_numbers(4)"
      ],
      "metadata": {
        "colab": {
          "base_uri": "https://localhost:8080/"
        },
        "id": "7xEqVp-sVwvT",
        "outputId": "989b1911-486b-47cc-f0e8-6b0eb56553a1"
      },
      "execution_count": 13,
      "outputs": [
        {
          "output_type": "execute_result",
          "data": {
            "text/plain": [
              "10"
            ]
          },
          "metadata": {},
          "execution_count": 13
        }
      ]
    },
    {
      "cell_type": "code",
      "source": [
        "sum_of_n_numbers = lambda n : 0 if n == 0 else n + sum_of_n_numbers(n-1)\n",
        "sum_of_n_numbers(4)"
      ],
      "metadata": {
        "colab": {
          "base_uri": "https://localhost:8080/"
        },
        "id": "rUJ1BDyoVMsc",
        "outputId": "f05b882a-9022-4b5c-93ec-31b1126b173e"
      },
      "execution_count": 8,
      "outputs": [
        {
          "output_type": "execute_result",
          "data": {
            "text/plain": [
              "10"
            ]
          },
          "metadata": {},
          "execution_count": 8
        }
      ]
    },
    {
      "cell_type": "code",
      "source": [
        "def is_even(num):\n",
        "  return num % 2 == 0\n",
        "\n",
        "print(\"UsingFunction:\",is_even(4))\n",
        "is_even = lambda num: num % 2 == 0\n",
        "print(\"Using_LambdaFunction:\",is_even(4))\n"
      ],
      "metadata": {
        "colab": {
          "base_uri": "https://localhost:8080/"
        },
        "id": "-f_Ale5eWAkp",
        "outputId": "151ab348-37e4-4318-ec92-6f70fbbdc556"
      },
      "execution_count": 16,
      "outputs": [
        {
          "output_type": "stream",
          "name": "stdout",
          "text": [
            "UsingFunction: True\n",
            "Using_LambdaFunction: True\n"
          ]
        }
      ]
    },
    {
      "cell_type": "code",
      "source": [
        "def my_sum(*args):\n",
        "  total = 0\n",
        "  for num in args:\n",
        "    total = total + num\n",
        "  return total\n",
        "\n",
        "print(my_sum(1, 2, 3, 4, 5))\n",
        "print(my_sum(30,60))"
      ],
      "metadata": {
        "colab": {
          "base_uri": "https://localhost:8080/"
        },
        "id": "esuvywZPWOe4",
        "outputId": "4c0cb3e0-c394-4de4-a3d4-38e4528b3426"
      },
      "execution_count": 19,
      "outputs": [
        {
          "output_type": "stream",
          "name": "stdout",
          "text": [
            "15\n",
            "90\n"
          ]
        }
      ]
    },
    {
      "cell_type": "code",
      "source": [
        "def my_sum(num1=2,num2=3,*args):\n",
        "  total = num1+num2\n",
        "  for num in args:\n",
        "    total = total + num\n",
        "  return total\n",
        "\n",
        "print(my_sum())\n",
        "print(my_sum(1, 2, 3))\n",
        "print(my_sum(5*6))\n",
        "print(my_sum(5*6,0))"
      ],
      "metadata": {
        "colab": {
          "base_uri": "https://localhost:8080/"
        },
        "id": "168UjeKaW2Vf",
        "outputId": "ef06937f-7c6b-47b8-d7ab-6338d775019e"
      },
      "execution_count": 32,
      "outputs": [
        {
          "output_type": "stream",
          "name": "stdout",
          "text": [
            "5\n",
            "6\n",
            "33\n",
            "30\n"
          ]
        }
      ]
    },
    {
      "cell_type": "code",
      "source": [
        "def my_sum(num1=2,num2=3,*args):\n",
        "  total = num1+num2+sum(args)\n",
        "  return total\n",
        "\n",
        "print(my_sum())\n",
        "print(my_sum(1, 2, 3))\n",
        "print(my_sum(5*6))\n",
        "print(my_sum(5*6,0))"
      ],
      "metadata": {
        "colab": {
          "base_uri": "https://localhost:8080/"
        },
        "id": "UDt50z0UYHF9",
        "outputId": "dc877412-7c3b-4064-e1d5-74f0f02e5d62"
      },
      "execution_count": 33,
      "outputs": [
        {
          "output_type": "stream",
          "name": "stdout",
          "text": [
            "5\n",
            "6\n",
            "33\n",
            "30\n"
          ]
        }
      ]
    },
    {
      "cell_type": "code",
      "source": [
        "my_sum = lambda num1=2,num2=3,*args: num1+num2+sum(args)\n",
        "print(my_sum())\n",
        "print(my_sum(1, 2, 3))\n",
        "print(my_sum(5*6))\n",
        "print(my_sum(5*6,0))"
      ],
      "metadata": {
        "colab": {
          "base_uri": "https://localhost:8080/"
        },
        "id": "k5dRDxulXGsb",
        "outputId": "34e8ed15-5766-430a-eb7e-9bd321af4dfe"
      },
      "execution_count": 34,
      "outputs": [
        {
          "output_type": "stream",
          "name": "stdout",
          "text": [
            "5\n",
            "6\n",
            "33\n",
            "30\n"
          ]
        }
      ]
    },
    {
      "cell_type": "code",
      "source": [
        "def squared(numbers):\n",
        "  squared_list = []\n",
        "  for num in numbers:\n",
        "    squared_list.append(num ** 2)\n",
        "  return squared_list\n",
        "\n",
        "numbers = [1, 2, 3, 4, 5]\n",
        "print(squared(numbers))"
      ],
      "metadata": {
        "colab": {
          "base_uri": "https://localhost:8080/"
        },
        "id": "JIQLLu1yZRRO",
        "outputId": "99be1bd6-1c6f-4749-9c88-ae26a0ab1426"
      },
      "execution_count": 35,
      "outputs": [
        {
          "output_type": "stream",
          "name": "stdout",
          "text": [
            "[1, 4, 9, 16, 25]\n"
          ]
        }
      ]
    },
    {
      "cell_type": "code",
      "source": [
        "[num**2 for num in numbers]"
      ],
      "metadata": {
        "colab": {
          "base_uri": "https://localhost:8080/"
        },
        "id": "kkSXQnC9aIyt",
        "outputId": "11daa5d1-bf35-4044-fc65-6e2447d4ed81"
      },
      "execution_count": 38,
      "outputs": [
        {
          "output_type": "execute_result",
          "data": {
            "text/plain": [
              "[1, 4, 9, 16, 25]"
            ]
          },
          "metadata": {},
          "execution_count": 38
        }
      ]
    },
    {
      "cell_type": "code",
      "source": [
        "squared = lambda numbers: [num ** 2 for num in numbers]\n",
        "print(squared(numbers))"
      ],
      "metadata": {
        "colab": {
          "base_uri": "https://localhost:8080/"
        },
        "id": "q8aizuPKZ3VO",
        "outputId": "9360691e-40fa-437d-bad5-7dd1a4dc07c2"
      },
      "execution_count": 39,
      "outputs": [
        {
          "output_type": "stream",
          "name": "stdout",
          "text": [
            "[1, 4, 9, 16, 25]\n"
          ]
        }
      ]
    }
  ]
}