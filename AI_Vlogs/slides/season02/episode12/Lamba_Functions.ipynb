{
  "cells": [
    {
      "cell_type": "markdown",
      "metadata": {},
      "source": [
        "---\n",
        "title: AI Basics with AK\n",
        "subtitle: Season 02 - Introduction to Python Programming\n",
        "title-slide-attributes:\n",
        "  data-slide-number: none\n",
        "format:\n",
        "  revealjs:\n",
        "    incremental: false\n",
        "auto-stretch: true\n",
        "---"
      ]
    },
    {
      "cell_type": "markdown",
      "metadata": {},
      "source": [
        "# Episode 11 \n",
        "\n",
        "[**LAMBDA FUNCTIONS**]{style=\"color:blue;\"}"
      ]
    },
    {
      "cell_type": "markdown",
      "metadata": {
        "colab_type": "text",
        "id": "view-in-github"
      },
      "source": [
        "## Topics for this Episode\n",
        "\n",
        "-  Regular Function vs Lambda function\n",
        "-  Use of Lambda Functions"
      ]
    },
    {
      "cell_type": "markdown",
      "metadata": {},
      "source": [
        "## Regular Function vs Lambda"
      ]
    },
    {
      "cell_type": "markdown",
      "metadata": {},
      "source": [
        "\n",
        "::: columns\n",
        "\n",
        "::: {.column width=\"50%\"}\n",
        "\n",
        "::: {style=\"font-size: 85%;\"}\n"
      ]
    },
    {
      "cell_type": "code",
      "execution_count": 9,
      "metadata": {
        "colab": {
          "base_uri": "https://localhost:8080/"
        },
        "id": "UDe2dpvYVjg8",
        "outputId": "e76856bb-8d41-4c6f-a028-017209c6d35e"
      },
      "outputs": [
        {
          "name": "stdout",
          "output_type": "stream",
          "text": [
            "My First Function\n"
          ]
        }
      ],
      "source": [
        "def my_firstfunction():\n",
        "  print(\"My First Function\")\n",
        "\n",
        "\n",
        "my_firstfunction()"
      ]
    },
    {
      "cell_type": "markdown",
      "metadata": {},
      "source": [
        "::: {style=\"font-size: 60%;\"}\n",
        "\n",
        "A Python lambda function is an anonymous function expressed as a single statement. You can use it instead of a normal tiny function.\n",
        "\n",
        ":::"
      ]
    },
    {
      "cell_type": "code",
      "execution_count": 3,
      "metadata": {
        "colab": {
          "base_uri": "https://localhost:8080/"
        },
        "id": "58lugSQDT59U",
        "outputId": "be30ab78-3043-46dc-c4a3-fe3b6055189d"
      },
      "outputs": [
        {
          "name": "stdout",
          "output_type": "stream",
          "text": [
            "My First Function\n"
          ]
        }
      ],
      "source": [
        "my_firstfunction = lambda : print(\"My First Function\")\n",
        "my_firstfunction()"
      ]
    },
    {
      "cell_type": "code",
      "execution_count": 10,
      "metadata": {
        "colab": {
          "base_uri": "https://localhost:8080/"
        },
        "id": "31pialKTVnHU",
        "outputId": "a7f606a4-3244-4eb7-e672-16bd9a71e09c"
      },
      "outputs": [
        {
          "data": {
            "text/plain": [
              "100"
            ]
          },
          "execution_count": 10,
          "metadata": {},
          "output_type": "execute_result"
        }
      ],
      "source": [
        "def sum_of_numbers(num1,num2):\n",
        "  total = num1 + num2\n",
        "  return total\n",
        "\n",
        "sum_of_numbers(30,70)"
      ]
    },
    {
      "cell_type": "code",
      "execution_count": 11,
      "metadata": {
        "colab": {
          "base_uri": "https://localhost:8080/"
        },
        "id": "ygS9baPyUP1-",
        "outputId": "e129ad18-0543-4750-9072-b96b7206c765"
      },
      "outputs": [
        {
          "data": {
            "text/plain": [
              "100"
            ]
          },
          "execution_count": 11,
          "metadata": {},
          "output_type": "execute_result"
        }
      ],
      "source": [
        "sum_of_numbers = lambda x, y: x + y\n",
        "sum_of_numbers(30,70)"
      ]
    },
    {
      "cell_type": "markdown",
      "metadata": {},
      "source": [
        "\n",
        ":::\n",
        "\n",
        ":::\n"
      ]
    },
    {
      "cell_type": "markdown",
      "metadata": {},
      "source": [
        "\n",
        "::: {.column width=\"50%\"}\n",
        "\n",
        "::: {style=\"font-size: 85%;\"}\n"
      ]
    },
    {
      "cell_type": "code",
      "execution_count": 12,
      "metadata": {
        "colab": {
          "base_uri": "https://localhost:8080/"
        },
        "id": "C636pMxqVtXI",
        "outputId": "5f8776c0-d445-4e78-f0ef-c8abff7203bf"
      },
      "outputs": [
        {
          "data": {
            "text/plain": [
              "28.26"
            ]
          },
          "execution_count": 12,
          "metadata": {},
          "output_type": "execute_result"
        }
      ],
      "source": [
        "def area_of_circle(radius):\n",
        "  return 3.14 * radius ** 2\n",
        "\n",
        "area_of_circle(3)"
      ]
    },
    {
      "cell_type": "code",
      "execution_count": 5,
      "metadata": {
        "colab": {
          "base_uri": "https://localhost:8080/"
        },
        "id": "qciEd2tuU6lc",
        "outputId": "3ba527df-e471-407f-95e4-dde8b3b11320"
      },
      "outputs": [
        {
          "data": {
            "text/plain": [
              "28.26"
            ]
          },
          "execution_count": 5,
          "metadata": {},
          "output_type": "execute_result"
        }
      ],
      "source": [
        "area_of_circle = lambda radius :  3.14 * radius ** 2\n",
        "area_of_circle(3)"
      ]
    },
    {
      "cell_type": "code",
      "execution_count": 13,
      "metadata": {
        "colab": {
          "base_uri": "https://localhost:8080/"
        },
        "id": "7xEqVp-sVwvT",
        "outputId": "989b1911-486b-47cc-f0e8-6b0eb56553a1"
      },
      "outputs": [
        {
          "data": {
            "text/plain": [
              "10"
            ]
          },
          "execution_count": 13,
          "metadata": {},
          "output_type": "execute_result"
        }
      ],
      "source": [
        "def sum_of_n_numbers(n):\n",
        "  if n == 0:\n",
        "    return 0\n",
        "  else:\n",
        "    return n + sum_of_n_numbers(n-1)\n",
        "\n",
        "sum_of_n_numbers(4)"
      ]
    },
    {
      "cell_type": "code",
      "execution_count": 8,
      "metadata": {
        "colab": {
          "base_uri": "https://localhost:8080/"
        },
        "id": "rUJ1BDyoVMsc",
        "outputId": "f05b882a-9022-4b5c-93ec-31b1126b173e"
      },
      "outputs": [
        {
          "data": {
            "text/plain": [
              "10"
            ]
          },
          "execution_count": 8,
          "metadata": {},
          "output_type": "execute_result"
        }
      ],
      "source": [
        "sum_of_n_numbers = lambda n : 0 if n == 0 else n + sum_of_n_numbers(n-1)\n",
        "sum_of_n_numbers(4)"
      ]
    },
    {
      "cell_type": "markdown",
      "metadata": {},
      "source": [
        "\n",
        ":::\n",
        "\n",
        ":::\n",
        "\n",
        ":::\n"
      ]
    },
    {
      "cell_type": "markdown",
      "metadata": {},
      "source": [
        "## Regular Function vs Lambda - Continued"
      ]
    },
    {
      "cell_type": "markdown",
      "metadata": {},
      "source": [
        "\n",
        "::: columns\n",
        "\n",
        "::: {.column width=\"50%\"}\n",
        "\n",
        "::: {style=\"font-size: 85%;\"}\n"
      ]
    },
    {
      "cell_type": "code",
      "execution_count": 16,
      "metadata": {
        "colab": {
          "base_uri": "https://localhost:8080/"
        },
        "id": "-f_Ale5eWAkp",
        "outputId": "151ab348-37e4-4318-ec92-6f70fbbdc556"
      },
      "outputs": [
        {
          "name": "stdout",
          "output_type": "stream",
          "text": [
            "UsingFunction: True\n",
            "Using_LambdaFunction: True\n"
          ]
        }
      ],
      "source": [
        "def is_even(num):\n",
        "  return num % 2 == 0\n",
        "\n",
        "print(\"UsingFunction:\",is_even(4))\n",
        "is_even = lambda num: num % 2 == 0\n",
        "print(\"Using_LambdaFunction:\",is_even(4))\n"
      ]
    },
    {
      "cell_type": "code",
      "execution_count": 19,
      "metadata": {
        "colab": {
          "base_uri": "https://localhost:8080/"
        },
        "id": "esuvywZPWOe4",
        "outputId": "4c0cb3e0-c394-4de4-a3d4-38e4528b3426"
      },
      "outputs": [
        {
          "name": "stdout",
          "output_type": "stream",
          "text": [
            "15\n",
            "90\n"
          ]
        }
      ],
      "source": [
        "def my_sum(*args):\n",
        "  total = 0\n",
        "  for num in args:\n",
        "    total = total + num\n",
        "  return total\n",
        "\n",
        "print(my_sum(1, 2, 3, 4, 5))\n",
        "print(my_sum(30,60))"
      ]
    },
    {
      "cell_type": "markdown",
      "metadata": {},
      "source": [
        "\n",
        ":::\n",
        "\n",
        ":::\n"
      ]
    },
    {
      "cell_type": "markdown",
      "metadata": {},
      "source": [
        "\n",
        "::: {.column width=\"50%\"}\n",
        "\n",
        "::: {style=\"font-size: 85%;\"}\n"
      ]
    },
    {
      "cell_type": "code",
      "execution_count": 32,
      "metadata": {
        "colab": {
          "base_uri": "https://localhost:8080/"
        },
        "id": "168UjeKaW2Vf",
        "outputId": "ef06937f-7c6b-47b8-d7ab-6338d775019e"
      },
      "outputs": [
        {
          "name": "stdout",
          "output_type": "stream",
          "text": [
            "5\n",
            "6\n",
            "33\n",
            "30\n"
          ]
        }
      ],
      "source": [
        "def my_sum(num1=2,num2=3,*args):\n",
        "  total = num1+num2\n",
        "  for num in args:\n",
        "    total = total + num\n",
        "  return total\n",
        "\n",
        "print(my_sum())\n",
        "print(my_sum(1, 2, 3))\n",
        "print(my_sum(5*6))\n",
        "print(my_sum(5*6,0))"
      ]
    },
    {
      "cell_type": "code",
      "execution_count": 33,
      "metadata": {
        "colab": {
          "base_uri": "https://localhost:8080/"
        },
        "id": "UDt50z0UYHF9",
        "outputId": "dc877412-7c3b-4064-e1d5-74f0f02e5d62"
      },
      "outputs": [
        {
          "name": "stdout",
          "output_type": "stream",
          "text": [
            "5\n",
            "6\n",
            "33\n",
            "30\n"
          ]
        }
      ],
      "source": [
        "def my_sum(num1=2,num2=3,*args):\n",
        "  total = num1+num2+sum(args)\n",
        "  return total\n",
        "\n",
        "print(my_sum())\n",
        "print(my_sum(1, 2, 3))\n",
        "print(my_sum(5*6))\n",
        "print(my_sum(5*6,0))"
      ]
    },
    {
      "cell_type": "markdown",
      "metadata": {},
      "source": [
        "\n",
        ":::\n",
        "\n",
        ":::\n",
        "\n",
        ":::\n"
      ]
    },
    {
      "cell_type": "markdown",
      "metadata": {},
      "source": [
        "## Regular Function vs Lambda - Continued"
      ]
    },
    {
      "cell_type": "markdown",
      "metadata": {},
      "source": [
        "::: {style=\"font-size: 85%;\"}"
      ]
    },
    {
      "cell_type": "code",
      "execution_count": 34,
      "metadata": {
        "colab": {
          "base_uri": "https://localhost:8080/"
        },
        "id": "k5dRDxulXGsb",
        "outputId": "34e8ed15-5766-430a-eb7e-9bd321af4dfe"
      },
      "outputs": [
        {
          "name": "stdout",
          "output_type": "stream",
          "text": [
            "5\n",
            "6\n",
            "33\n",
            "30\n"
          ]
        }
      ],
      "source": [
        "my_sum = lambda num1=2,num2=3,*args: num1+num2+sum(args)\n",
        "print(my_sum())\n",
        "print(my_sum(1, 2, 3))\n",
        "print(my_sum(5*6))\n",
        "print(my_sum(5*6,0))"
      ]
    },
    {
      "cell_type": "code",
      "execution_count": 35,
      "metadata": {
        "colab": {
          "base_uri": "https://localhost:8080/"
        },
        "id": "JIQLLu1yZRRO",
        "outputId": "99be1bd6-1c6f-4749-9c88-ae26a0ab1426"
      },
      "outputs": [
        {
          "name": "stdout",
          "output_type": "stream",
          "text": [
            "[1, 4, 9, 16, 25]\n"
          ]
        }
      ],
      "source": [
        "def squared(numbers):\n",
        "  squared_list = []\n",
        "  for num in numbers:\n",
        "    squared_list.append(num ** 2)\n",
        "  return squared_list\n",
        "\n",
        "numbers = [1, 2, 3, 4, 5]\n",
        "print(squared(numbers))"
      ]
    },
    {
      "cell_type": "code",
      "execution_count": 38,
      "metadata": {
        "colab": {
          "base_uri": "https://localhost:8080/"
        },
        "id": "kkSXQnC9aIyt",
        "outputId": "11daa5d1-bf35-4044-fc65-6e2447d4ed81"
      },
      "outputs": [
        {
          "data": {
            "text/plain": [
              "[1, 4, 9, 16, 25]"
            ]
          },
          "execution_count": 38,
          "metadata": {},
          "output_type": "execute_result"
        }
      ],
      "source": [
        "[num**2 for num in numbers]"
      ]
    },
    {
      "cell_type": "code",
      "execution_count": 39,
      "metadata": {
        "colab": {
          "base_uri": "https://localhost:8080/"
        },
        "id": "q8aizuPKZ3VO",
        "outputId": "9360691e-40fa-437d-bad5-7dd1a4dc07c2"
      },
      "outputs": [
        {
          "name": "stdout",
          "output_type": "stream",
          "text": [
            "[1, 4, 9, 16, 25]\n"
          ]
        }
      ],
      "source": [
        "squared = lambda numbers: [num ** 2 for num in numbers]\n",
        "print(squared(numbers))"
      ]
    },
    {
      "cell_type": "markdown",
      "metadata": {},
      "source": [
        ":::"
      ]
    },
    {
      "cell_type": "markdown",
      "metadata": {},
      "source": [
        "## Lambda Functions\n",
        "\n",
        "::: {style=\"font-size: 85%;\"}\n",
        "\n",
        "- Syntax: lambda arguments: expression\n",
        "- No Explicit Return Statements\n",
        "- Limitation : Logic/Control Statement often has to be simple i.e.; one line.\n",
        "- How often used:\n",
        "\n",
        "      - Very Often used especially while performing data manipulation activations. Especially using higher order functions like `map`,`filter` and `reduce`. { Which we will learn in next episode}\n",
        "      \n",
        "      - When there are multiple rows while performing data manipulation we can use lambda functions instead of creating explicit functions.\n",
        "\n",
        "\n",
        ":::"
      ]
    },
    {
      "cell_type": "markdown",
      "metadata": {},
      "source": [
        "# Thank You\n",
        "<a href=\"https://colab.research.google.com/github/ArunKoundinya/AIBasicswithAK/blob/master/AI_Vlogs/slides/season02/episode12/Lamba_Functions.ipynb\" target=\"_parent\"><img src=\"https://colab.research.google.com/assets/colab-badge.svg\" alt=\"Open In Colab\"/></a>"
      ]
    }
  ],
  "metadata": {
    "colab": {
      "authorship_tag": "ABX9TyNPkslrQBcpSnSQhuvvAhcO",
      "include_colab_link": true,
      "provenance": []
    },
    "kernelspec": {
      "display_name": "Python 3",
      "name": "python3"
    },
    "language_info": {
      "name": "python"
    }
  },
  "nbformat": 4,
  "nbformat_minor": 0
}
