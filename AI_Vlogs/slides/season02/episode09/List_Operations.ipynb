{
  "cells": [
    {
      "cell_type": "markdown",
      "metadata": {},
      "source": [
        "---\n",
        "title: AI Basics with AK\n",
        "subtitle: Season 02 - Introduction to Python Programming\n",
        "title-slide-attributes:\n",
        "  data-slide-number: none\n",
        "format:\n",
        "  revealjs:\n",
        "    incremental: false\n",
        "auto-stretch: true\n",
        "---"
      ]
    },
    {
      "cell_type": "markdown",
      "metadata": {},
      "source": [
        "# Episode 09 \n",
        "\n",
        "[**LISTS OPERATIONS**]{style=\"color:red;\"}"
      ]
    },
    {
      "cell_type": "markdown",
      "metadata": {},
      "source": [
        "## List Operations\n",
        "\n",
        "-  Append\n",
        "-  Extend\n",
        "-  Insert\n",
        "-  Remove\n",
        "-  Pop\n",
        "-  Reverse\n",
        "-  List Comprehenions"
      ]
    },
    {
      "cell_type": "markdown",
      "metadata": {
        "colab_type": "text",
        "id": "view-in-github"
      },
      "source": [
        "## Append & Extend"
      ]
    },
    {
      "cell_type": "markdown",
      "metadata": {},
      "source": [
        "\n",
        "::: columns\n",
        "\n",
        "::: {.column width=\"50%\"}\n",
        "\n",
        "::: {style=\"font-size: 90%;\"}\n"
      ]
    },
    {
      "cell_type": "code",
      "execution_count": 1,
      "metadata": {
        "colab": {
          "base_uri": "https://localhost:8080/"
        },
        "id": "uW4H7ln8k0iN",
        "outputId": "9492dcc4-cafe-4d11-9afe-990e77f81a55"
      },
      "outputs": [
        {
          "name": "stdout",
          "output_type": "stream",
          "text": [
            "[1, 2, 3]\n"
          ]
        }
      ],
      "source": [
        "my_list = []\n",
        "my_list.append(1)\n",
        "my_list.append(2)\n",
        "my_list.append(3)\n",
        "print(my_list)"
      ]
    },
    {
      "cell_type": "markdown",
      "metadata": {},
      "source": [
        "\n",
        "::: {style=\"font-size: 60%;\"}\n",
        "\n",
        "As we know, a list is mutable in Python. We can add an element to the end of a list using the built-in `append()` function\n",
        "\n",
        ":::"
      ]
    },
    {
      "cell_type": "code",
      "execution_count": 7,
      "metadata": {
        "colab": {
          "base_uri": "https://localhost:8080/",
          "height": 141
        },
        "id": "oyEYfhIuk3qO",
        "outputId": "0cac7b70-1b90-449b-909e-d9cef39db9a5"
      },
      "outputs": [
        {
          "ename": "TypeError",
          "evalue": "can only concatenate list (not \"int\") to list",
          "output_type": "error",
          "traceback": [
            "\u001b[0;31m---------------------------------------------------------------------------\u001b[0m",
            "\u001b[0;31mTypeError\u001b[0m                                 Traceback (most recent call last)",
            "\u001b[0;32m<ipython-input-7-40d7fb3750a9>\u001b[0m in \u001b[0;36m<cell line: 1>\u001b[0;34m()\u001b[0m\n\u001b[0;32m----> 1\u001b[0;31m \u001b[0;34m[\u001b[0m\u001b[0;36m1\u001b[0m\u001b[0;34m]\u001b[0m\u001b[0;34m+\u001b[0m\u001b[0;36m2\u001b[0m\u001b[0;34m\u001b[0m\u001b[0;34m\u001b[0m\u001b[0m\n\u001b[0m",
            "\u001b[0;31mTypeError\u001b[0m: can only concatenate list (not \"int\") to list"
          ]
        }
      ],
      "source": [
        "[1]+2"
      ]
    },
    {
      "cell_type": "code",
      "execution_count": 8,
      "metadata": {
        "colab": {
          "base_uri": "https://localhost:8080/"
        },
        "id": "4-4__WAjlOpY",
        "outputId": "4d850226-ccca-4ddc-f23a-fb7c07f21418"
      },
      "outputs": [
        {
          "data": {
            "text/plain": [
              "[1, 2]"
            ]
          },
          "execution_count": 8,
          "metadata": {},
          "output_type": "execute_result"
        }
      ],
      "source": [
        "[1] + [2]"
      ]
    },
    {
      "cell_type": "markdown",
      "metadata": {},
      "source": [
        "\n",
        ":::\n",
        "\n",
        ":::\n"
      ]
    },
    {
      "cell_type": "markdown",
      "metadata": {},
      "source": [
        "\n",
        "::: {.column width=\"50%\"}\n",
        "\n",
        "::: {style=\"font-size: 90%;\"}\n"
      ]
    },
    {
      "cell_type": "markdown",
      "metadata": {},
      "source": [
        "::: {style=\"font-size: 60%;\"}\n",
        "\n",
        "The `extend()` method in Python is handy for adding multiple elements to the end of a list. Let's delve into its functionality by exploring its implementation\n",
        "\n",
        ":::"
      ]
    },
    {
      "cell_type": "code",
      "execution_count": 5,
      "metadata": {
        "colab": {
          "base_uri": "https://localhost:8080/"
        },
        "id": "s_dOTNeWlCbc",
        "outputId": "3c94c47b-cfba-4084-b2e2-df55eb7c65dd"
      },
      "outputs": [
        {
          "name": "stdout",
          "output_type": "stream",
          "text": [
            "[1, 2, 3, 4, 5, 6]\n"
          ]
        }
      ],
      "source": [
        "my_list = [1, 2, 3]\n",
        "another_list = [4, 5, 6]\n",
        "my_list.extend(another_list)\n",
        "print(my_list)"
      ]
    },
    {
      "cell_type": "code",
      "execution_count": 6,
      "metadata": {
        "colab": {
          "base_uri": "https://localhost:8080/"
        },
        "id": "sDwNY9yblKEi",
        "outputId": "50554594-2b2a-44f3-bcb0-54a7f34d1ccb"
      },
      "outputs": [
        {
          "data": {
            "text/plain": [
              "[1, 2, 3, 4, 5, 6]"
            ]
          },
          "execution_count": 6,
          "metadata": {},
          "output_type": "execute_result"
        }
      ],
      "source": [
        "[1, 2, 3] + [4, 5, 6]"
      ]
    },
    {
      "cell_type": "markdown",
      "metadata": {},
      "source": [
        "\n",
        ":::\n",
        "\n",
        ":::\n",
        "\n",
        ":::\n"
      ]
    },
    {
      "cell_type": "markdown",
      "metadata": {},
      "source": [
        "## Insert & Remove"
      ]
    },
    {
      "cell_type": "markdown",
      "metadata": {},
      "source": [
        "\n",
        "::: columns\n",
        "\n",
        "::: {.column width=\"50%\"}\n",
        "\n",
        "::: {style=\"font-size: 90%;\"}\n"
      ]
    },
    {
      "cell_type": "markdown",
      "metadata": {},
      "source": [
        "::: {style=\"font-size: 60%;\"}\n",
        "\n",
        "The `insert()` method in Python allows us to add an element at a specific position within a list. Let's explore its functionality through practical example\n",
        "\n",
        ":::"
      ]
    },
    {
      "cell_type": "code",
      "execution_count": 9,
      "metadata": {
        "colab": {
          "base_uri": "https://localhost:8080/"
        },
        "id": "MN-UIUMBlT98",
        "outputId": "64f658fc-f40a-4bea-b4aa-9ed09ec5bae2"
      },
      "outputs": [
        {
          "name": "stdout",
          "output_type": "stream",
          "text": [
            "[1, 2, 'a', 3, 4, 5]\n"
          ]
        }
      ],
      "source": [
        "my_list = [1, 2, 3, 4, 5]\n",
        "my_list.insert(2, 'a')\n",
        "print(my_list)"
      ]
    },
    {
      "cell_type": "code",
      "execution_count": 17,
      "metadata": {
        "colab": {
          "base_uri": "https://localhost:8080/"
        },
        "id": "JSphZ7hglXOf",
        "outputId": "5b5220cc-42c1-4af3-d05c-c541dec56805"
      },
      "outputs": [
        {
          "name": "stdout",
          "output_type": "stream",
          "text": [
            "['a', 1, 2, 3, 4, 5]\n"
          ]
        }
      ],
      "source": [
        "my_list = [1, 2, 3, 4, 5]\n",
        "my_list.insert(0, 'a')\n",
        "print(my_list)"
      ]
    },
    {
      "cell_type": "markdown",
      "metadata": {},
      "source": [
        "\n",
        ":::\n",
        "\n",
        ":::\n"
      ]
    },
    {
      "cell_type": "markdown",
      "metadata": {},
      "source": [
        "\n",
        "::: {.column width=\"50%\"}\n",
        "\n",
        "::: {style=\"font-size: 90%;\"}\n"
      ]
    },
    {
      "cell_type": "markdown",
      "metadata": {},
      "source": [
        "::: {style=\"font-size: 60%;\"}\n",
        "\n",
        "The `remove()` method in Python facilitates the removal of a specific element from a list. Let's delve into how this method works\n",
        "\n",
        "::: "
      ]
    },
    {
      "cell_type": "code",
      "execution_count": 18,
      "metadata": {
        "colab": {
          "base_uri": "https://localhost:8080/"
        },
        "id": "QOVYfCRolh-f",
        "outputId": "0d07a540-d69d-4a4e-94ca-3c125bb46619"
      },
      "outputs": [
        {
          "name": "stdout",
          "output_type": "stream",
          "text": [
            "[1, 2, 3, 4, 5]\n"
          ]
        }
      ],
      "source": [
        "my_list.remove('a')\n",
        "print(my_list)"
      ]
    },
    {
      "cell_type": "code",
      "execution_count": 19,
      "metadata": {
        "colab": {
          "base_uri": "https://localhost:8080/"
        },
        "id": "BL5B9Yf1llB1",
        "outputId": "08286a7e-ad03-41ad-a410-66bda103a52a"
      },
      "outputs": [
        {
          "name": "stdout",
          "output_type": "stream",
          "text": [
            "[2, 3, 4, 5]\n"
          ]
        }
      ],
      "source": [
        "my_list.remove(1)\n",
        "print(my_list)"
      ]
    },
    {
      "cell_type": "markdown",
      "metadata": {},
      "source": [
        "\n",
        ":::\n",
        "\n",
        ":::\n",
        "\n",
        ":::\n"
      ]
    },
    {
      "cell_type": "markdown",
      "metadata": {},
      "source": [
        "## Pop, Reverse & List Comprehensions"
      ]
    },
    {
      "cell_type": "markdown",
      "metadata": {},
      "source": [
        "\n",
        "::: columns\n",
        "\n",
        "::: {.column width=\"50%\"}\n",
        "\n",
        "::: {style=\"font-size: 90%;\"}\n"
      ]
    },
    {
      "cell_type": "markdown",
      "metadata": {},
      "source": [
        "::: {style=\"font-size: 60%;\"}\n",
        "\n",
        "In Python, `pop()` method provides a way to remove and return an element from a specific index in a list.\n",
        "::: "
      ]
    },
    {
      "cell_type": "code",
      "execution_count": 20,
      "metadata": {
        "colab": {
          "base_uri": "https://localhost:8080/"
        },
        "id": "hGt4mmAApRQz",
        "outputId": "ff7757c4-9c24-4447-b6f1-04779e919ecd"
      },
      "outputs": [
        {
          "name": "stdout",
          "output_type": "stream",
          "text": [
            "[1, 2, 3, 4]\n",
            "5\n"
          ]
        }
      ],
      "source": [
        "my_list = [1, 2, 3, 4, 5]\n",
        "popped_element = my_list.pop()\n",
        "print(my_list)\n",
        "print(popped_element)"
      ]
    },
    {
      "cell_type": "code",
      "execution_count": 21,
      "metadata": {
        "colab": {
          "base_uri": "https://localhost:8080/"
        },
        "id": "VG55OzNrpUCn",
        "outputId": "d79b354f-1f22-418b-8edf-3ec1e1a960da"
      },
      "outputs": [
        {
          "data": {
            "text/plain": [
              "4"
            ]
          },
          "execution_count": 21,
          "metadata": {},
          "output_type": "execute_result"
        }
      ],
      "source": [
        "my_list.pop()"
      ]
    },
    {
      "cell_type": "code",
      "execution_count": 22,
      "metadata": {
        "colab": {
          "base_uri": "https://localhost:8080/"
        },
        "id": "k9NhqL03pVoW",
        "outputId": "2ff52352-1a6a-4f7d-c113-e57081ea3632"
      },
      "outputs": [
        {
          "data": {
            "text/plain": [
              "[1, 2, 3]"
            ]
          },
          "execution_count": 22,
          "metadata": {},
          "output_type": "execute_result"
        }
      ],
      "source": [
        "my_list"
      ]
    },
    {
      "cell_type": "markdown",
      "metadata": {},
      "source": [
        "::: {style=\"font-size: 60%;\"}\n",
        "\n",
        "The `reverse()` method in Python offers a  way to reverse the order of elements in a list.\n",
        "::: "
      ]
    },
    {
      "cell_type": "code",
      "execution_count": 23,
      "metadata": {
        "id": "pMCO0nbrpX1c"
      },
      "outputs": [],
      "source": [
        "my_list = [1, 2, 3, 4, 5]\n",
        "my_list.reverse()"
      ]
    },
    {
      "cell_type": "code",
      "execution_count": 24,
      "metadata": {
        "colab": {
          "base_uri": "https://localhost:8080/"
        },
        "id": "lnJP_qG7qvb1",
        "outputId": "586ce9e6-f0a0-455d-dc1e-7291d52b24bd"
      },
      "outputs": [
        {
          "data": {
            "text/plain": [
              "[5, 4, 3, 2, 1]"
            ]
          },
          "execution_count": 24,
          "metadata": {},
          "output_type": "execute_result"
        }
      ],
      "source": [
        "my_list"
      ]
    },
    {
      "cell_type": "markdown",
      "metadata": {},
      "source": [
        "\n",
        ":::\n",
        "\n",
        ":::\n"
      ]
    },
    {
      "cell_type": "markdown",
      "metadata": {},
      "source": [
        "\n",
        "::: {.column width=\"50%\"}\n",
        "\n",
        "::: {style=\"font-size: 90%;\"}\n"
      ]
    },
    {
      "cell_type": "code",
      "execution_count": 25,
      "metadata": {
        "colab": {
          "base_uri": "https://localhost:8080/"
        },
        "id": "Sdrfkv8Hqygz",
        "outputId": "c55dd5e0-b04d-4017-9ab7-f73f11280243"
      },
      "outputs": [
        {
          "name": "stdout",
          "output_type": "stream",
          "text": [
            "9\n",
            "10\n",
            "90\n"
          ]
        }
      ],
      "source": [
        "my_list = [10, 20, 30, 40, 50, 60, 70, 80, 90]\n",
        "print(len(my_list))\n",
        "print(min(my_list))\n",
        "print(max(my_list))"
      ]
    },
    {
      "cell_type": "markdown",
      "metadata": {},
      "source": [
        "::: {style=\"font-size: 60%;\"}\n",
        "\n",
        "`List comprehensions` in Python offer a concise and elegant way to create lists based on existing ones or other iterable objects\n",
        "\n",
        "::: "
      ]
    },
    {
      "cell_type": "code",
      "execution_count": 26,
      "metadata": {
        "colab": {
          "base_uri": "https://localhost:8080/"
        },
        "id": "BS5b0IPRq4-m",
        "outputId": "86c353d4-00e0-4c41-e9a7-3ec0bc9ebd80"
      },
      "outputs": [
        {
          "name": "stdout",
          "output_type": "stream",
          "text": [
            "[0, 1, 2, 3, 4]\n"
          ]
        }
      ],
      "source": [
        "my_list = []\n",
        "for i in range(5):\n",
        "  my_list.append(i)\n",
        "\n",
        "print(my_list)"
      ]
    },
    {
      "cell_type": "code",
      "execution_count": 27,
      "metadata": {
        "colab": {
          "base_uri": "https://localhost:8080/"
        },
        "id": "2xQ3WMtorBqJ",
        "outputId": "b6efc984-3142-4b9c-a732-5a174531c736"
      },
      "outputs": [
        {
          "name": "stdout",
          "output_type": "stream",
          "text": [
            "[0, 1, 2, 3, 4]\n"
          ]
        }
      ],
      "source": [
        "my_list = [i for i in range(5)]\n",
        "print(my_list)"
      ]
    },
    {
      "cell_type": "markdown",
      "metadata": {},
      "source": [
        "\n",
        ":::\n",
        "\n",
        ":::\n",
        "\n",
        ":::\n"
      ]
    },
    {
      "cell_type": "markdown",
      "metadata": {},
      "source": [
        "# Thank You\n",
        "<a href=\"https://colab.research.google.com/github/ArunKoundinya/AIBasicswithAK/blob/master/AI_Vlogs/slides/season02/episode09/List_Operations.ipynb\" target=\"_parent\"><img src=\"https://colab.research.google.com/assets/colab-badge.svg\" alt=\"Open In Colab\"/></a>"
      ]
    }
  ],
  "metadata": {
    "colab": {
      "authorship_tag": "ABX9TyNfI3UyZ4Z6Pe4ev73HHiB0",
      "include_colab_link": true,
      "provenance": []
    },
    "kernelspec": {
      "display_name": "Python 3",
      "name": "python3"
    },
    "language_info": {
      "name": "python"
    }
  },
  "nbformat": 4,
  "nbformat_minor": 0
}
