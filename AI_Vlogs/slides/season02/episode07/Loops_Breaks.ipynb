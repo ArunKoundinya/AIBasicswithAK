{
  "nbformat": 4,
  "nbformat_minor": 0,
  "metadata": {
    "colab": {
      "provenance": [],
      "authorship_tag": "ABX9TyMqxrwCNuH1RJRn469eD/cP",
      "include_colab_link": true
    },
    "kernelspec": {
      "name": "python3",
      "display_name": "Python 3"
    },
    "language_info": {
      "name": "python"
    }
  },
  "cells": [
    {
      "cell_type": "markdown",
      "metadata": {
        "id": "view-in-github",
        "colab_type": "text"
      },
      "source": [
        "<a href=\"https://colab.research.google.com/github/ArunKoundinya/AIBasicswithAK/blob/master/AI_Vlogs/slides/season02/episode07/Loops_Breaks.ipynb\" target=\"_parent\"><img src=\"https://colab.research.google.com/assets/colab-badge.svg\" alt=\"Open In Colab\"/></a>"
      ]
    },
    {
      "cell_type": "markdown",
      "source": [
        "## Purpose of Loops?\n",
        "\n",
        "1.   Execution Control\n",
        "2.   Trigger a Reaction\n",
        "3.   Respond to an event.\n",
        "\n",
        "\n",
        "If has two parts:\n",
        "\n",
        "1.   Control Statement\n",
        "2.   What to Do and What not to do.\n",
        "\n",
        "\n"
      ],
      "metadata": {
        "id": "1X1ePNUhOgQj"
      }
    },
    {
      "cell_type": "markdown",
      "source": [
        "## IFs\n"
      ],
      "metadata": {
        "id": "f-6sRcNexZvG"
      }
    },
    {
      "cell_type": "code",
      "execution_count": 1,
      "metadata": {
        "id": "kEOIVYIaNjCd",
        "colab": {
          "base_uri": "https://localhost:8080/"
        },
        "outputId": "aea13533-288f-47e6-907b-9df10d1cf40f"
      },
      "outputs": [
        {
          "output_type": "stream",
          "name": "stdout",
          "text": [
            "This is always printed\n"
          ]
        }
      ],
      "source": [
        "if True:\n",
        "  print(\"This is always printed\")"
      ]
    },
    {
      "cell_type": "code",
      "source": [
        "if False:\n",
        "  print(\"This is never printed\")"
      ],
      "metadata": {
        "id": "uad0Hm8Xy-SU"
      },
      "execution_count": 2,
      "outputs": []
    },
    {
      "cell_type": "code",
      "source": [
        "x = 2\n",
        "if x == 2:\n",
        "  print(\"x equals 2\")\n",
        "else:\n",
        "  print(\"x does not equal 2\")"
      ],
      "metadata": {
        "colab": {
          "base_uri": "https://localhost:8080/"
        },
        "id": "hw_Y8FEgzG76",
        "outputId": "3a206afb-2bd2-47fe-e5a8-8b46d72f73c6"
      },
      "execution_count": 8,
      "outputs": [
        {
          "output_type": "stream",
          "name": "stdout",
          "text": [
            "x equals 2\n"
          ]
        }
      ]
    },
    {
      "cell_type": "code",
      "source": [
        "if False:\n",
        "  print(\"This is never printed\")\n",
        "else:\n",
        "  print(\"This is always printed\")"
      ],
      "metadata": {
        "colab": {
          "base_uri": "https://localhost:8080/"
        },
        "id": "tjG_vzInzf8r",
        "outputId": "54c0ef12-c975-48e8-dd15-506a0f7af8b9"
      },
      "execution_count": 9,
      "outputs": [
        {
          "output_type": "stream",
          "name": "stdout",
          "text": [
            "This is always printed\n"
          ]
        }
      ]
    },
    {
      "cell_type": "code",
      "source": [
        "x = 2\n",
        "if x == 2:\n",
        "  print(\"x equals 2\")\n",
        "if x == 3:\n",
        "  print(\"x equals 3\")\n",
        "else:\n",
        "  print(\"x does not equal 2\")"
      ],
      "metadata": {
        "colab": {
          "base_uri": "https://localhost:8080/"
        },
        "id": "NAkNDjOQzXcb",
        "outputId": "5bf91142-3654-49e4-d935-d3a9a32ad204"
      },
      "execution_count": 10,
      "outputs": [
        {
          "output_type": "stream",
          "name": "stdout",
          "text": [
            "x equals 2\n",
            "x does not equal 2\n"
          ]
        }
      ]
    },
    {
      "cell_type": "code",
      "source": [
        "if x == 2:\n",
        "  print(\"First block\")\n",
        "elif x == 3:\n",
        "  print(\"Second block\")\n",
        "else:\n",
        "  print(\"Third block\")\n"
      ],
      "metadata": {
        "colab": {
          "base_uri": "https://localhost:8080/"
        },
        "id": "kXmd-se_y46A",
        "outputId": "ac718a21-1e27-442c-c375-c25f17ab370b"
      },
      "execution_count": 11,
      "outputs": [
        {
          "output_type": "stream",
          "name": "stdout",
          "text": [
            "First block\n"
          ]
        }
      ]
    },
    {
      "cell_type": "code",
      "source": [
        "ControlBlock = 10\n",
        "x = 4\n",
        "if ControlBlock >= 10:\n",
        "  if x == 2:\n",
        "    print(\"First block\")\n",
        "  elif x == 3:\n",
        "    print(\"Second block\")\n",
        "  else:\n",
        "    print(\"Third block\")\n",
        "else:\n",
        "  print(\"Fourth block\")"
      ],
      "metadata": {
        "colab": {
          "base_uri": "https://localhost:8080/"
        },
        "id": "5ReytF2vz8Cf",
        "outputId": "893f0dc4-7b27-41f8-9e4e-b70064e3d132"
      },
      "execution_count": 16,
      "outputs": [
        {
          "output_type": "stream",
          "name": "stdout",
          "text": [
            "Third block\n"
          ]
        }
      ]
    },
    {
      "cell_type": "code",
      "source": [
        "ControlBlock = 8\n",
        "x = 2\n",
        "if ControlBlock >= 10:\n",
        "  if x == 2:\n",
        "    print(\"First block\")\n",
        "  elif x == 3:\n",
        "    print(\"Second block\")\n",
        "  else:\n",
        "    print(\"Third block\")\n",
        "else:\n",
        "  print(\"Fourth block\")"
      ],
      "metadata": {
        "colab": {
          "base_uri": "https://localhost:8080/"
        },
        "id": "BV53l8va0P02",
        "outputId": "d2793136-3108-4fdd-b6c0-0ba8ccae889c"
      },
      "execution_count": 18,
      "outputs": [
        {
          "output_type": "stream",
          "name": "stdout",
          "text": [
            "Fourth block\n"
          ]
        }
      ]
    },
    {
      "cell_type": "markdown",
      "source": [
        "## FORs"
      ],
      "metadata": {
        "id": "wkUyBuhXxcpx"
      }
    },
    {
      "cell_type": "code",
      "source": [
        "for item in [0, 1, 2, 3, 4]:\n",
        "  print(item)"
      ],
      "metadata": {
        "colab": {
          "base_uri": "https://localhost:8080/"
        },
        "id": "wjyXAxxOxePr",
        "outputId": "865f92e0-d24a-40c8-a43c-5a3b2d5abbdb"
      },
      "execution_count": 35,
      "outputs": [
        {
          "output_type": "stream",
          "name": "stdout",
          "text": [
            "0\n",
            "1\n",
            "2\n",
            "3\n",
            "4\n"
          ]
        }
      ]
    },
    {
      "cell_type": "code",
      "source": [
        "print(list(range(5)))"
      ],
      "metadata": {
        "colab": {
          "base_uri": "https://localhost:8080/"
        },
        "id": "xkvF0oql1YfH",
        "outputId": "89c400de-fa88-41f5-db8c-98cb4a1815b2"
      },
      "execution_count": 34,
      "outputs": [
        {
          "output_type": "stream",
          "name": "stdout",
          "text": [
            "[0, 1, 2, 3, 4]\n"
          ]
        }
      ]
    },
    {
      "cell_type": "code",
      "source": [
        "for i in range(5):\n",
        "  print(\"This is printed every time\")"
      ],
      "metadata": {
        "colab": {
          "base_uri": "https://localhost:8080/"
        },
        "id": "yGSxFYc91dgZ",
        "outputId": "db9e4346-0096-4efd-ba39-9a9b9874a1d2"
      },
      "execution_count": 30,
      "outputs": [
        {
          "output_type": "stream",
          "name": "stdout",
          "text": [
            "This is printed every time\n",
            "This is printed every time\n",
            "This is printed every time\n",
            "This is printed every time\n",
            "This is printed every time\n"
          ]
        }
      ]
    },
    {
      "cell_type": "code",
      "source": [
        "for i in range(5):\n",
        "  if i == 1:\n",
        "    print(i)\n",
        "  print(\"This is printed every time\")"
      ],
      "metadata": {
        "colab": {
          "base_uri": "https://localhost:8080/"
        },
        "id": "IFpQx5341f-r",
        "outputId": "b6ba7b3b-49ed-42bc-e6d9-55f0064356e7"
      },
      "execution_count": 32,
      "outputs": [
        {
          "output_type": "stream",
          "name": "stdout",
          "text": [
            "This is printed every time\n",
            "1\n",
            "This is printed every time\n",
            "This is printed every time\n",
            "This is printed every time\n",
            "This is printed every time\n"
          ]
        }
      ]
    },
    {
      "cell_type": "code",
      "source": [
        "for i in range(5):\n",
        "  if i == 1:\n",
        "    print(i)\n",
        "    break\n",
        "  print(\"This is printed every time\")"
      ],
      "metadata": {
        "colab": {
          "base_uri": "https://localhost:8080/"
        },
        "id": "fO9Ba7Zu13ZK",
        "outputId": "72a14399-2c97-4f20-fdfc-0b648838334f"
      },
      "execution_count": 33,
      "outputs": [
        {
          "output_type": "stream",
          "name": "stdout",
          "text": [
            "This is printed every time\n",
            "1\n"
          ]
        }
      ]
    },
    {
      "cell_type": "markdown",
      "source": [
        "## WHILEs"
      ],
      "metadata": {
        "id": "PCEEOLBRxe0D"
      }
    },
    {
      "cell_type": "code",
      "source": [
        "# Infinite Loop\n",
        "#while True:\n",
        "  #print(\"This is printed every time\")"
      ],
      "metadata": {
        "id": "4gHG2W4V2bOI"
      },
      "execution_count": 41,
      "outputs": []
    },
    {
      "cell_type": "code",
      "source": [
        "i = 0\n",
        "while True:\n",
        "  print(\"This is printed every time\")\n",
        "  i += 1\n",
        "  if i == 2:\n",
        "    break"
      ],
      "metadata": {
        "colab": {
          "base_uri": "https://localhost:8080/"
        },
        "id": "N2s6vmQt2nct",
        "outputId": "2a94f6d2-9e6f-4bfb-97b4-6908fddfcbf3"
      },
      "execution_count": 43,
      "outputs": [
        {
          "output_type": "stream",
          "name": "stdout",
          "text": [
            "This is printed every time\n",
            "This is printed every time\n"
          ]
        }
      ]
    },
    {
      "cell_type": "code",
      "source": [
        "# No Loop\n",
        "while False:\n",
        "  print(\"This is never printed\")"
      ],
      "metadata": {
        "id": "nxgZzgAv2VZJ"
      },
      "execution_count": 45,
      "outputs": []
    },
    {
      "cell_type": "code",
      "source": [
        "i = 0\n",
        "while i < 5:\n",
        "  for j in range(i):\n",
        "    print(\"This is printed every time\",j,i)\n",
        "  i += 1"
      ],
      "metadata": {
        "colab": {
          "base_uri": "https://localhost:8080/"
        },
        "id": "n28Xo1V3281c",
        "outputId": "491e23fc-d9dc-4f74-8254-608ecd6dd582"
      },
      "execution_count": 46,
      "outputs": [
        {
          "output_type": "stream",
          "name": "stdout",
          "text": [
            "This is printed every time 0 1\n",
            "This is printed every time 0 2\n",
            "This is printed every time 1 2\n",
            "This is printed every time 0 3\n",
            "This is printed every time 1 3\n",
            "This is printed every time 2 3\n",
            "This is printed every time 0 4\n",
            "This is printed every time 1 4\n",
            "This is printed every time 2 4\n",
            "This is printed every time 3 4\n"
          ]
        }
      ]
    },
    {
      "cell_type": "markdown",
      "source": [
        "# Thank You"
      ],
      "metadata": {
        "id": "qaIu-qwuxhNx"
      }
    }
  ]
}