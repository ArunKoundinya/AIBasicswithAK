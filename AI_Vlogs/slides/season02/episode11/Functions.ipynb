{
  "cells": [
    {
      "cell_type": "markdown",
      "metadata": {},
      "source": [
        "---\n",
        "title: AI Basics with AK\n",
        "subtitle: Season 02 - Introduction to Python Programming\n",
        "title-slide-attributes:\n",
        "  data-slide-number: none\n",
        "format:\n",
        "  revealjs:\n",
        "    incremental: false\n",
        "auto-stretch: true\n",
        "---"
      ]
    },
    {
      "cell_type": "markdown",
      "metadata": {},
      "source": [
        "# Episode 11 \n",
        "\n",
        "[**FUNCTIONS**]{style=\"color:blue;\"}"
      ]
    },
    {
      "cell_type": "markdown",
      "metadata": {},
      "source": [
        "## Topics for this Episode\n",
        "\n",
        "-  Defining a function\n",
        "-  Calling Function using a function\n",
        "-  Inner Function\n",
        "-  Generator Function using yield"
      ]
    },
    {
      "cell_type": "markdown",
      "metadata": {
        "colab_type": "text",
        "id": "view-in-github"
      },
      "source": [
        "## Defining a function"
      ]
    },
    {
      "cell_type": "markdown",
      "metadata": {},
      "source": [
        "\n",
        "::: columns\n",
        "\n",
        "::: {.column width=\"50%\"}\n",
        "\n",
        "::: {style=\"font-size: 80%;\"}\n"
      ]
    },
    {
      "cell_type": "markdown",
      "metadata": {},
      "source": [
        "::: {style=\"font-size: 60%;\"}\n",
        "\n",
        "Basic rules Function names have the same rules as variable names (they must start with a letter or _ and contain only letters, numbers, or _).\n",
        "\n",
        "::: "
      ]
    },
    {
      "cell_type": "code",
      "execution_count": 1,
      "metadata": {
        "colab": {
          "base_uri": "https://localhost:8080/"
        },
        "id": "-BgPTN2bj3Bs",
        "outputId": "2f392146-76f9-46c8-8dfd-c77b4571ab46"
      },
      "outputs": [
        {
          "name": "stdout",
          "output_type": "stream",
          "text": [
            "My First Function\n"
          ]
        }
      ],
      "source": [
        "def my_firstfunction():\n",
        "  print(\"My First Function\")\n",
        "\n",
        "\n",
        "my_firstfunction()"
      ]
    },
    {
      "cell_type": "code",
      "execution_count": 2,
      "metadata": {
        "id": "qQ5vLZZskCs3"
      },
      "outputs": [],
      "source": [
        "def my_secondfunction(num):\n",
        "  print(f\"Number called in function is {num}\")"
      ]
    },
    {
      "cell_type": "code",
      "execution_count": 3,
      "metadata": {
        "colab": {
          "base_uri": "https://localhost:8080/"
        },
        "id": "jOq8Ch_ZkL17",
        "outputId": "893b92c0-d528-42c1-d81d-2287d0957183"
      },
      "outputs": [
        {
          "name": "stdout",
          "output_type": "stream",
          "text": [
            "Number called in function is 1\n",
            "Number called in function is 10\n"
          ]
        }
      ],
      "source": [
        "my_secondfunction(1)\n",
        "my_secondfunction(10)"
      ]
    },
    {
      "cell_type": "code",
      "execution_count": 4,
      "metadata": {
        "id": "r47m5kiJlHwt"
      },
      "outputs": [],
      "source": [
        "def my_thirdfunction(num1,num2):\n",
        "  print(f\"Numbers called in function is {num1} & {num2}; And their total is {num1+num2}\")"
      ]
    },
    {
      "cell_type": "code",
      "execution_count": 5,
      "metadata": {
        "colab": {
          "base_uri": "https://localhost:8080/"
        },
        "id": "WwTcrUYkmfDf",
        "outputId": "ef3332ad-9ef7-4490-a4ec-b87ae587a3f9"
      },
      "outputs": [
        {
          "name": "stdout",
          "output_type": "stream",
          "text": [
            "Numbers called in function is 1 & 10; And their total is 11\n",
            "Numbers called in function is 30 & 70; And their total is 100\n"
          ]
        }
      ],
      "source": [
        "my_thirdfunction(1,10)\n",
        "my_thirdfunction(30,70)"
      ]
    },
    {
      "cell_type": "markdown",
      "metadata": {},
      "source": [
        "\n",
        ":::\n",
        "\n",
        ":::\n"
      ]
    },
    {
      "cell_type": "markdown",
      "metadata": {},
      "source": [
        "\n",
        "::: {.column width=\"50%\"}\n",
        "\n",
        "::: {style=\"font-size: 80%;\"}\n"
      ]
    },
    {
      "cell_type": "markdown",
      "metadata": {},
      "source": [
        "::: {style=\"font-size: 60%;\"}\n",
        "\n",
        "We can return a value from the function using `return` keyword.\n",
        "\n",
        "::: "
      ]
    },
    {
      "cell_type": "code",
      "execution_count": 6,
      "metadata": {
        "id": "gddm4f1SmryK"
      },
      "outputs": [],
      "source": [
        "def sum_of_numbers(num1,num2):\n",
        "  total = num1 + num2\n",
        "\n",
        "sum_of_numbers(30,70)"
      ]
    },
    {
      "cell_type": "code",
      "execution_count": 7,
      "metadata": {
        "colab": {
          "base_uri": "https://localhost:8080/"
        },
        "id": "hS6liX3jnB2z",
        "outputId": "4acd9d1a-4acf-406f-d523-a6f4d50c88eb"
      },
      "outputs": [
        {
          "data": {
            "text/plain": [
              "100"
            ]
          },
          "execution_count": 7,
          "metadata": {},
          "output_type": "execute_result"
        }
      ],
      "source": [
        "def sum_of_numbers(num1,num2):\n",
        "  total = num1 + num2\n",
        "  return total\n",
        "\n",
        "sum_of_numbers(30,70)"
      ]
    },
    {
      "cell_type": "code",
      "execution_count": 8,
      "metadata": {
        "colab": {
          "base_uri": "https://localhost:8080/"
        },
        "id": "lRb58MycnIGj",
        "outputId": "3bc8c3da-44da-4454-8bb1-96b8daf00402"
      },
      "outputs": [
        {
          "data": {
            "text/plain": [
              "100"
            ]
          },
          "execution_count": 8,
          "metadata": {},
          "output_type": "execute_result"
        }
      ],
      "source": [
        "def sum_of_numbers(num1,num2):\n",
        "  return num1 + num2\n",
        "\n",
        "sum_of_numbers(30,70)"
      ]
    },
    {
      "cell_type": "code",
      "execution_count": 9,
      "metadata": {
        "colab": {
          "base_uri": "https://localhost:8080/"
        },
        "id": "3Ddd2IWjnPjP",
        "outputId": "de715f48-02ec-4731-cac0-e637ed41f52e"
      },
      "outputs": [
        {
          "data": {
            "text/plain": [
              "28.26"
            ]
          },
          "execution_count": 9,
          "metadata": {},
          "output_type": "execute_result"
        }
      ],
      "source": [
        "def area_of_circle(radius):\n",
        "  return 3.14 * radius ** 2\n",
        "\n",
        "area_of_circle(3)"
      ]
    },
    {
      "cell_type": "markdown",
      "metadata": {},
      "source": [
        "\n",
        ":::\n",
        "\n",
        ":::\n",
        "\n",
        ":::\n"
      ]
    },
    {
      "cell_type": "markdown",
      "metadata": {},
      "source": [
        "## Calling Function Inside a Function"
      ]
    },
    {
      "cell_type": "markdown",
      "metadata": {},
      "source": [
        "\n",
        "::: columns\n",
        "\n",
        "::: {.column width=\"50%\"}\n",
        "\n",
        "::: {style=\"font-size: 90%;\"}\n"
      ]
    },
    {
      "cell_type": "code",
      "execution_count": 18,
      "metadata": {
        "colab": {
          "base_uri": "https://localhost:8080/"
        },
        "id": "HUBYvVavGdKI",
        "outputId": "49aa8336-79c6-49d9-d83d-6b796f086f88"
      },
      "outputs": [
        {
          "data": {
            "text/plain": [
              "10"
            ]
          },
          "execution_count": 18,
          "metadata": {},
          "output_type": "execute_result"
        }
      ],
      "source": [
        "def sum_of_n_numbers(n):\n",
        "  total = 0\n",
        "  for i in range(n+1):\n",
        "    total = total + i\n",
        "  return total\n",
        "\n",
        "sum_of_n_numbers(4)"
      ]
    },
    {
      "cell_type": "code",
      "execution_count": 20,
      "metadata": {
        "colab": {
          "base_uri": "https://localhost:8080/"
        },
        "id": "G-tdsqw7G8gK",
        "outputId": "5377260b-c99e-4d95-d821-5927a4b17e2a"
      },
      "outputs": [
        {
          "data": {
            "text/plain": [
              "10"
            ]
          },
          "execution_count": 20,
          "metadata": {},
          "output_type": "execute_result"
        }
      ],
      "source": [
        "def sum_of_n_numbers(n):\n",
        "  if n == 0:\n",
        "    return 0\n",
        "  else:\n",
        "    return n + sum_of_n_numbers(n-1)\n",
        "\n",
        "sum_of_n_numbers(4)"
      ]
    },
    {
      "cell_type": "markdown",
      "metadata": {},
      "source": [
        "\n",
        ":::\n",
        "\n",
        ":::\n"
      ]
    },
    {
      "cell_type": "markdown",
      "metadata": {},
      "source": [
        "\n",
        "::: {.column width=\"50%\"}\n",
        "\n",
        "::: {style=\"font-size: 90%;\"}\n"
      ]
    },
    {
      "cell_type": "code",
      "execution_count": 22,
      "metadata": {
        "colab": {
          "base_uri": "https://localhost:8080/"
        },
        "id": "6IsyoTFaHnbb",
        "outputId": "85d823d7-9a75-4c97-cd93-b55a890caf5d"
      },
      "outputs": [
        {
          "data": {
            "text/plain": [
              "120"
            ]
          },
          "execution_count": 22,
          "metadata": {},
          "output_type": "execute_result"
        }
      ],
      "source": [
        "def factorial(num):\n",
        "  total = 1\n",
        "  for i in range(1, num + 1):\n",
        "    total = total * i\n",
        "  return total\n",
        "\n",
        "factorial(5)"
      ]
    },
    {
      "cell_type": "code",
      "execution_count": 23,
      "metadata": {
        "colab": {
          "base_uri": "https://localhost:8080/"
        },
        "id": "jHq1BdxUHhvQ",
        "outputId": "b16976ba-c0fb-4d52-a1ff-0d5f6730c33e"
      },
      "outputs": [
        {
          "data": {
            "text/plain": [
              "120"
            ]
          },
          "execution_count": 23,
          "metadata": {},
          "output_type": "execute_result"
        }
      ],
      "source": [
        "def factorial(n):\n",
        "  if n == 0:\n",
        "    return 1\n",
        "  else:\n",
        "    return n * factorial(n-1)\n",
        "\n",
        "factorial(5)"
      ]
    },
    {
      "cell_type": "markdown",
      "metadata": {},
      "source": [
        "\n",
        ":::\n",
        "\n",
        ":::\n",
        "\n",
        ":::\n"
      ]
    },
    {
      "cell_type": "markdown",
      "metadata": {},
      "source": [
        "## Inner Function"
      ]
    },
    {
      "cell_type": "markdown",
      "metadata": {},
      "source": [
        "::: {style=\"font-size: 80%;\"}"
      ]
    },
    {
      "cell_type": "code",
      "execution_count": 14,
      "metadata": {
        "colab": {
          "base_uri": "https://localhost:8080/"
        },
        "id": "weXtl7x-nTgD",
        "outputId": "4f6d31e8-da94-42ba-aa28-ac501ef47e0d"
      },
      "outputs": [
        {
          "data": {
            "text/plain": [
              "12"
            ]
          },
          "execution_count": 14,
          "metadata": {},
          "output_type": "execute_result"
        }
      ],
      "source": [
        "def multiply(num1,num2):\n",
        "  def sum_of_numbers(num3):\n",
        "    return num3 + num3\n",
        "  return sum_of_numbers(num2) * num1\n",
        "\n",
        "multiply(2,3)"
      ]
    },
    {
      "cell_type": "code",
      "execution_count": 68,
      "metadata": {
        "colab": {
          "base_uri": "https://localhost:8080/"
        },
        "id": "UUKqNVn6LumV",
        "outputId": "44076fb8-7917-4af1-ce92-b9c6667d7e20"
      },
      "outputs": [
        {
          "data": {
            "text/plain": [
              "12"
            ]
          },
          "execution_count": 68,
          "metadata": {},
          "output_type": "execute_result"
        }
      ],
      "source": [
        "def multiply(num1=2,num2=3):\n",
        "  def sum_of_numbers(num3):\n",
        "    return num3 + num3\n",
        "  return sum_of_numbers(num2) * num1\n",
        "\n",
        "multiply()"
      ]
    },
    {
      "cell_type": "code",
      "execution_count": 74,
      "metadata": {
        "colab": {
          "base_uri": "https://localhost:8080/"
        },
        "id": "COSSEJkzMKEg",
        "outputId": "ad8c358a-120e-48a3-b852-0789321ca04e"
      },
      "outputs": [
        {
          "name": "stdout",
          "output_type": "stream",
          "text": [
            "60\n",
            "60\n",
            "1200\n",
            "1200\n",
            "180\n",
            "120\n"
          ]
        }
      ],
      "source": [
        "print(multiply(10))\n",
        "print(multiply(num1=10))\n",
        "print(multiply(20,30))\n",
        "print(multiply(num1=20,num2=30))\n",
        "print(multiply(30))\n",
        "print(multiply(num2=30))"
      ]
    },
    {
      "cell_type": "markdown",
      "metadata": {},
      "source": [
        ":::"
      ]
    },
    {
      "cell_type": "markdown",
      "metadata": {},
      "source": [
        "## Generator Function Using Yield"
      ]
    },
    {
      "cell_type": "markdown",
      "metadata": {},
      "source": [
        "\n",
        "::: columns\n",
        "\n",
        "::: {.column width=\"50%\"}\n",
        "\n",
        "::: {style=\"font-size: 70%;\"}\n"
      ]
    },
    {
      "cell_type": "code",
      "execution_count": 38,
      "metadata": {
        "colab": {
          "base_uri": "https://localhost:8080/"
        },
        "id": "SIiSO_8JJE-T",
        "outputId": "a5e78e18-eb66-4ec9-e326-598aec7464ae"
      },
      "outputs": [
        {
          "data": {
            "text/plain": [
              "<generator object my_generator at 0x783de8ec80b0>"
            ]
          },
          "execution_count": 38,
          "metadata": {},
          "output_type": "execute_result"
        }
      ],
      "source": [
        "def my_generator():\n",
        "  n = 1\n",
        "  yield n\n",
        "  n += 1\n",
        "  yield n\n",
        "  n += 1\n",
        "  yield n\n",
        "\n",
        "my_generator()"
      ]
    },
    {
      "cell_type": "code",
      "execution_count": 31,
      "metadata": {
        "colab": {
          "base_uri": "https://localhost:8080/"
        },
        "id": "kPe7UiHoJbT7",
        "outputId": "84aecc6c-fe6e-4233-c176-7464b950d244"
      },
      "outputs": [
        {
          "name": "stdout",
          "output_type": "stream",
          "text": [
            "1\n",
            "2\n",
            "3\n"
          ]
        }
      ],
      "source": [
        "for range in my_generator():\n",
        "  print(range)"
      ]
    },
    {
      "cell_type": "code",
      "execution_count": 39,
      "metadata": {
        "colab": {
          "base_uri": "https://localhost:8080/"
        },
        "id": "UM0z91QVJjLF",
        "outputId": "d12e6d13-dc76-4151-ad31-7f8e39026ba6"
      },
      "outputs": [
        {
          "data": {
            "text/plain": [
              "1"
            ]
          },
          "execution_count": 39,
          "metadata": {},
          "output_type": "execute_result"
        }
      ],
      "source": [
        "next(my_generator())"
      ]
    },
    {
      "cell_type": "code",
      "execution_count": 46,
      "metadata": {
        "id": "ZiXzt-WzKRQH"
      },
      "outputs": [],
      "source": [
        "g = my_generator()"
      ]
    },
    {
      "cell_type": "code",
      "execution_count": 47,
      "metadata": {
        "colab": {
          "base_uri": "https://localhost:8080/"
        },
        "id": "Xkxdln_IKTyA",
        "outputId": "b63dfc5e-f5c6-4ab7-cf71-452d10e5bf84"
      },
      "outputs": [
        {
          "data": {
            "text/plain": [
              "1"
            ]
          },
          "execution_count": 47,
          "metadata": {},
          "output_type": "execute_result"
        }
      ],
      "source": [
        "next(g)"
      ]
    },
    {
      "cell_type": "code",
      "execution_count": 48,
      "metadata": {
        "colab": {
          "base_uri": "https://localhost:8080/"
        },
        "id": "s35x9EUdKbTX",
        "outputId": "307b68fd-2b86-4231-f919-aa4ce8f1c95d"
      },
      "outputs": [
        {
          "data": {
            "text/plain": [
              "2"
            ]
          },
          "execution_count": 48,
          "metadata": {},
          "output_type": "execute_result"
        }
      ],
      "source": [
        "next(g)"
      ]
    },
    {
      "cell_type": "code",
      "execution_count": 49,
      "metadata": {
        "colab": {
          "base_uri": "https://localhost:8080/"
        },
        "id": "W2eFHWXcKdIG",
        "outputId": "13063a6a-206b-4272-b78d-0c5017c6a3b3"
      },
      "outputs": [
        {
          "data": {
            "text/plain": [
              "3"
            ]
          },
          "execution_count": 49,
          "metadata": {},
          "output_type": "execute_result"
        }
      ],
      "source": [
        "next(g)"
      ]
    },
    {
      "cell_type": "markdown",
      "metadata": {},
      "source": [
        "\n",
        ":::\n",
        "\n",
        ":::\n"
      ]
    },
    {
      "cell_type": "markdown",
      "metadata": {},
      "source": [
        "\n",
        "::: {.column width=\"50%\"}\n",
        "\n",
        "::: {style=\"font-size: 70%;\"}\n"
      ]
    },
    {
      "cell_type": "code",
      "execution_count": 50,
      "metadata": {
        "colab": {
          "base_uri": "https://localhost:8080/",
          "height": 141
        },
        "id": "pUz3wVMWKPgo",
        "outputId": "5e76bb5e-22ce-4581-d660-3ed4b9a9a63f"
      },
      "outputs": [
        {
          "ename": "StopIteration",
          "evalue": "",
          "output_type": "error",
          "traceback": [
            "\u001b[0;31m---------------------------------------------------------------------------\u001b[0m",
            "\u001b[0;31mStopIteration\u001b[0m                             Traceback (most recent call last)",
            "\u001b[0;32m<ipython-input-50-e734f8aca5ac>\u001b[0m in \u001b[0;36m<cell line: 1>\u001b[0;34m()\u001b[0m\n\u001b[0;32m----> 1\u001b[0;31m \u001b[0mnext\u001b[0m\u001b[0;34m(\u001b[0m\u001b[0mg\u001b[0m\u001b[0;34m)\u001b[0m\u001b[0;34m\u001b[0m\u001b[0;34m\u001b[0m\u001b[0m\n\u001b[0m",
            "\u001b[0;31mStopIteration\u001b[0m: "
          ]
        }
      ],
      "source": [
        "next(g)"
      ]
    },
    {
      "cell_type": "code",
      "execution_count": 51,
      "metadata": {
        "id": "GN8DJHFVKkgV"
      },
      "outputs": [],
      "source": [
        "def my_generator(start,last):\n",
        "  n = start\n",
        "  while n < last:\n",
        "    yield n\n",
        "    n = n + 1"
      ]
    },
    {
      "cell_type": "code",
      "execution_count": 52,
      "metadata": {
        "id": "bvBO4CNOLiin"
      },
      "outputs": [],
      "source": [
        "g=my_generator(1,3)"
      ]
    },
    {
      "cell_type": "code",
      "execution_count": 53,
      "metadata": {
        "colab": {
          "base_uri": "https://localhost:8080/"
        },
        "id": "jG8H6FuLLkt0",
        "outputId": "bc5a79b7-1f84-4d9b-93a9-8c710b641a24"
      },
      "outputs": [
        {
          "name": "stdout",
          "output_type": "stream",
          "text": [
            "1\n",
            "2\n"
          ]
        }
      ],
      "source": [
        "for range in g:\n",
        "  print(range)"
      ]
    },
    {
      "cell_type": "code",
      "execution_count": 54,
      "metadata": {
        "colab": {
          "base_uri": "https://localhost:8080/"
        },
        "id": "8UPkqFsTLnJZ",
        "outputId": "4c171e07-61b3-42e0-c6c0-b03fbc953e61"
      },
      "outputs": [
        {
          "name": "stdout",
          "output_type": "stream",
          "text": [
            "1\n",
            "2\n",
            "3\n",
            "4\n",
            "5\n",
            "6\n",
            "7\n",
            "8\n",
            "9\n"
          ]
        }
      ],
      "source": [
        "g=my_generator(1,10)\n",
        "\n",
        "for range in g:\n",
        "  print(range)"
      ]
    },
    {
      "cell_type": "markdown",
      "metadata": {},
      "source": [
        "\n",
        ":::\n",
        "\n",
        ":::\n",
        "\n",
        ":::\n"
      ]
    },
    {
      "cell_type": "markdown",
      "metadata": {},
      "source": [
        "# Thank You\n",
        "<a href=\"https://colab.research.google.com/github/ArunKoundinya/AIBasicswithAK/blob/master/AI_Vlogs/slides/season02/episode11/Functions.ipynb\" target=\"_parent\"><img src=\"https://colab.research.google.com/assets/colab-badge.svg\" alt=\"Open In Colab\"/></a>"
      ]
    }
  ],
  "metadata": {
    "colab": {
      "authorship_tag": "ABX9TyN2LcR80Yej8zcu7H4LoTs3",
      "include_colab_link": true,
      "provenance": []
    },
    "kernelspec": {
      "display_name": "Python 3",
      "name": "python3"
    },
    "language_info": {
      "name": "python"
    }
  },
  "nbformat": 4,
  "nbformat_minor": 0
}
