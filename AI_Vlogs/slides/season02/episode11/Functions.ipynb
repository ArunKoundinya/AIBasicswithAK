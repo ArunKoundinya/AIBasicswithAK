{
  "nbformat": 4,
  "nbformat_minor": 0,
  "metadata": {
    "colab": {
      "provenance": [],
      "authorship_tag": "ABX9TyN2LcR80Yej8zcu7H4LoTs3",
      "include_colab_link": true
    },
    "kernelspec": {
      "name": "python3",
      "display_name": "Python 3"
    },
    "language_info": {
      "name": "python"
    }
  },
  "cells": [
    {
      "cell_type": "markdown",
      "metadata": {
        "id": "view-in-github",
        "colab_type": "text"
      },
      "source": [
        "<a href=\"https://colab.research.google.com/github/ArunKoundinya/AIBasicswithAK/blob/master/AI_Vlogs/slides/seasons02/episode11/Functions.ipynb\" target=\"_parent\"><img src=\"https://colab.research.google.com/assets/colab-badge.svg\" alt=\"Open In Colab\"/></a>"
      ]
    },
    {
      "cell_type": "code",
      "source": [
        "def my_firstfunction():\n",
        "  print(\"My First Function\")\n",
        "\n",
        "\n",
        "my_firstfunction()"
      ],
      "metadata": {
        "colab": {
          "base_uri": "https://localhost:8080/"
        },
        "id": "-BgPTN2bj3Bs",
        "outputId": "2f392146-76f9-46c8-8dfd-c77b4571ab46"
      },
      "execution_count": 1,
      "outputs": [
        {
          "output_type": "stream",
          "name": "stdout",
          "text": [
            "My First Function\n"
          ]
        }
      ]
    },
    {
      "cell_type": "code",
      "source": [
        "def my_secondfunction(num):\n",
        "  print(f\"Number called in function is {num}\")"
      ],
      "metadata": {
        "id": "qQ5vLZZskCs3"
      },
      "execution_count": 2,
      "outputs": []
    },
    {
      "cell_type": "code",
      "source": [
        "my_secondfunction(1)\n",
        "my_secondfunction(10)"
      ],
      "metadata": {
        "colab": {
          "base_uri": "https://localhost:8080/"
        },
        "id": "jOq8Ch_ZkL17",
        "outputId": "893b92c0-d528-42c1-d81d-2287d0957183"
      },
      "execution_count": 3,
      "outputs": [
        {
          "output_type": "stream",
          "name": "stdout",
          "text": [
            "Number called in function is 1\n",
            "Number called in function is 10\n"
          ]
        }
      ]
    },
    {
      "cell_type": "code",
      "source": [
        "def my_thirdfunction(num1,num2):\n",
        "  print(f\"Numbers called in function is {num1} & {num2}; And their total is {num1+num2}\")"
      ],
      "metadata": {
        "id": "r47m5kiJlHwt"
      },
      "execution_count": 4,
      "outputs": []
    },
    {
      "cell_type": "code",
      "source": [
        "my_thirdfunction(1,10)\n",
        "my_thirdfunction(30,70)"
      ],
      "metadata": {
        "colab": {
          "base_uri": "https://localhost:8080/"
        },
        "id": "WwTcrUYkmfDf",
        "outputId": "ef3332ad-9ef7-4490-a4ec-b87ae587a3f9"
      },
      "execution_count": 5,
      "outputs": [
        {
          "output_type": "stream",
          "name": "stdout",
          "text": [
            "Numbers called in function is 1 & 10; And their total is 11\n",
            "Numbers called in function is 30 & 70; And their total is 100\n"
          ]
        }
      ]
    },
    {
      "cell_type": "code",
      "source": [
        "def sum_of_numbers(num1,num2):\n",
        "  total = num1 + num2\n",
        "\n",
        "sum_of_numbers(30,70)"
      ],
      "metadata": {
        "id": "gddm4f1SmryK"
      },
      "execution_count": 6,
      "outputs": []
    },
    {
      "cell_type": "code",
      "source": [
        "def sum_of_numbers(num1,num2):\n",
        "  total = num1 + num2\n",
        "  return total\n",
        "\n",
        "sum_of_numbers(30,70)"
      ],
      "metadata": {
        "colab": {
          "base_uri": "https://localhost:8080/"
        },
        "id": "hS6liX3jnB2z",
        "outputId": "4acd9d1a-4acf-406f-d523-a6f4d50c88eb"
      },
      "execution_count": 7,
      "outputs": [
        {
          "output_type": "execute_result",
          "data": {
            "text/plain": [
              "100"
            ]
          },
          "metadata": {},
          "execution_count": 7
        }
      ]
    },
    {
      "cell_type": "code",
      "source": [
        "def sum_of_numbers(num1,num2):\n",
        "  return num1 + num2\n",
        "\n",
        "sum_of_numbers(30,70)"
      ],
      "metadata": {
        "colab": {
          "base_uri": "https://localhost:8080/"
        },
        "id": "lRb58MycnIGj",
        "outputId": "3bc8c3da-44da-4454-8bb1-96b8daf00402"
      },
      "execution_count": 8,
      "outputs": [
        {
          "output_type": "execute_result",
          "data": {
            "text/plain": [
              "100"
            ]
          },
          "metadata": {},
          "execution_count": 8
        }
      ]
    },
    {
      "cell_type": "code",
      "source": [
        "def area_of_circle(radius):\n",
        "  return 3.14 * radius ** 2\n",
        "\n",
        "area_of_circle(3)"
      ],
      "metadata": {
        "colab": {
          "base_uri": "https://localhost:8080/"
        },
        "id": "3Ddd2IWjnPjP",
        "outputId": "de715f48-02ec-4731-cac0-e637ed41f52e"
      },
      "execution_count": 9,
      "outputs": [
        {
          "output_type": "execute_result",
          "data": {
            "text/plain": [
              "28.26"
            ]
          },
          "metadata": {},
          "execution_count": 9
        }
      ]
    },
    {
      "cell_type": "code",
      "source": [
        "def sum_of_n_numbers(n):\n",
        "  total = 0\n",
        "  for i in range(n+1):\n",
        "    total = total + i\n",
        "  return total\n",
        "\n",
        "sum_of_n_numbers(4)"
      ],
      "metadata": {
        "colab": {
          "base_uri": "https://localhost:8080/"
        },
        "id": "HUBYvVavGdKI",
        "outputId": "49aa8336-79c6-49d9-d83d-6b796f086f88"
      },
      "execution_count": 18,
      "outputs": [
        {
          "output_type": "execute_result",
          "data": {
            "text/plain": [
              "10"
            ]
          },
          "metadata": {},
          "execution_count": 18
        }
      ]
    },
    {
      "cell_type": "code",
      "source": [
        "def sum_of_n_numbers(n):\n",
        "  if n == 0:\n",
        "    return 0\n",
        "  else:\n",
        "    return n + sum_of_n_numbers(n-1)\n",
        "\n",
        "sum_of_n_numbers(4)"
      ],
      "metadata": {
        "colab": {
          "base_uri": "https://localhost:8080/"
        },
        "id": "G-tdsqw7G8gK",
        "outputId": "5377260b-c99e-4d95-d821-5927a4b17e2a"
      },
      "execution_count": 20,
      "outputs": [
        {
          "output_type": "execute_result",
          "data": {
            "text/plain": [
              "10"
            ]
          },
          "metadata": {},
          "execution_count": 20
        }
      ]
    },
    {
      "cell_type": "code",
      "source": [
        "def factorial(num):\n",
        "  total = 1\n",
        "  for i in range(1, num + 1):\n",
        "    total = total * i\n",
        "  return total\n",
        "\n",
        "factorial(5)"
      ],
      "metadata": {
        "colab": {
          "base_uri": "https://localhost:8080/"
        },
        "id": "6IsyoTFaHnbb",
        "outputId": "85d823d7-9a75-4c97-cd93-b55a890caf5d"
      },
      "execution_count": 22,
      "outputs": [
        {
          "output_type": "execute_result",
          "data": {
            "text/plain": [
              "120"
            ]
          },
          "metadata": {},
          "execution_count": 22
        }
      ]
    },
    {
      "cell_type": "code",
      "source": [
        "def factorial(n):\n",
        "  if n == 0:\n",
        "    return 1\n",
        "  else:\n",
        "    return n * factorial(n-1)\n",
        "\n",
        "factorial(5)"
      ],
      "metadata": {
        "colab": {
          "base_uri": "https://localhost:8080/"
        },
        "id": "jHq1BdxUHhvQ",
        "outputId": "b16976ba-c0fb-4d52-a1ff-0d5f6730c33e"
      },
      "execution_count": 23,
      "outputs": [
        {
          "output_type": "execute_result",
          "data": {
            "text/plain": [
              "120"
            ]
          },
          "metadata": {},
          "execution_count": 23
        }
      ]
    },
    {
      "cell_type": "code",
      "source": [
        "def multiply(num1,num2):\n",
        "  def sum_of_numbers(num3):\n",
        "    return num3 + num3\n",
        "  return sum_of_numbers(num2) * num1\n",
        "\n",
        "multiply(2,3)"
      ],
      "metadata": {
        "colab": {
          "base_uri": "https://localhost:8080/"
        },
        "id": "weXtl7x-nTgD",
        "outputId": "4f6d31e8-da94-42ba-aa28-ac501ef47e0d"
      },
      "execution_count": 14,
      "outputs": [
        {
          "output_type": "execute_result",
          "data": {
            "text/plain": [
              "12"
            ]
          },
          "metadata": {},
          "execution_count": 14
        }
      ]
    },
    {
      "cell_type": "code",
      "source": [
        "def multiply(num1=2,num2=3):\n",
        "  def sum_of_numbers(num3):\n",
        "    return num3 + num3\n",
        "  return sum_of_numbers(num2) * num1\n",
        "\n",
        "multiply()"
      ],
      "metadata": {
        "colab": {
          "base_uri": "https://localhost:8080/"
        },
        "id": "UUKqNVn6LumV",
        "outputId": "44076fb8-7917-4af1-ce92-b9c6667d7e20"
      },
      "execution_count": 68,
      "outputs": [
        {
          "output_type": "execute_result",
          "data": {
            "text/plain": [
              "12"
            ]
          },
          "metadata": {},
          "execution_count": 68
        }
      ]
    },
    {
      "cell_type": "code",
      "source": [
        "print(multiply(10))\n",
        "print(multiply(num1=10))\n",
        "print(multiply(20,30))\n",
        "print(multiply(num1=20,num2=30))\n",
        "print(multiply(30))\n",
        "print(multiply(num2=30))"
      ],
      "metadata": {
        "colab": {
          "base_uri": "https://localhost:8080/"
        },
        "id": "COSSEJkzMKEg",
        "outputId": "ad8c358a-120e-48a3-b852-0789321ca04e"
      },
      "execution_count": 74,
      "outputs": [
        {
          "output_type": "stream",
          "name": "stdout",
          "text": [
            "60\n",
            "60\n",
            "1200\n",
            "1200\n",
            "180\n",
            "120\n"
          ]
        }
      ]
    },
    {
      "cell_type": "code",
      "source": [
        "def my_generator():\n",
        "  n = 1\n",
        "  yield n\n",
        "  n += 1\n",
        "  yield n\n",
        "  n += 1\n",
        "  yield n\n",
        "\n",
        "my_generator()"
      ],
      "metadata": {
        "colab": {
          "base_uri": "https://localhost:8080/"
        },
        "id": "SIiSO_8JJE-T",
        "outputId": "a5e78e18-eb66-4ec9-e326-598aec7464ae"
      },
      "execution_count": 38,
      "outputs": [
        {
          "output_type": "execute_result",
          "data": {
            "text/plain": [
              "<generator object my_generator at 0x783de8ec80b0>"
            ]
          },
          "metadata": {},
          "execution_count": 38
        }
      ]
    },
    {
      "cell_type": "code",
      "source": [
        "for range in my_generator():\n",
        "  print(range)"
      ],
      "metadata": {
        "colab": {
          "base_uri": "https://localhost:8080/"
        },
        "id": "kPe7UiHoJbT7",
        "outputId": "84aecc6c-fe6e-4233-c176-7464b950d244"
      },
      "execution_count": 31,
      "outputs": [
        {
          "output_type": "stream",
          "name": "stdout",
          "text": [
            "1\n",
            "2\n",
            "3\n"
          ]
        }
      ]
    },
    {
      "cell_type": "code",
      "source": [
        "next(my_generator())"
      ],
      "metadata": {
        "colab": {
          "base_uri": "https://localhost:8080/"
        },
        "id": "UM0z91QVJjLF",
        "outputId": "d12e6d13-dc76-4151-ad31-7f8e39026ba6"
      },
      "execution_count": 39,
      "outputs": [
        {
          "output_type": "execute_result",
          "data": {
            "text/plain": [
              "1"
            ]
          },
          "metadata": {},
          "execution_count": 39
        }
      ]
    },
    {
      "cell_type": "code",
      "source": [
        "g = my_generator()"
      ],
      "metadata": {
        "id": "ZiXzt-WzKRQH"
      },
      "execution_count": 46,
      "outputs": []
    },
    {
      "cell_type": "code",
      "source": [
        "next(g)"
      ],
      "metadata": {
        "colab": {
          "base_uri": "https://localhost:8080/"
        },
        "id": "Xkxdln_IKTyA",
        "outputId": "b63dfc5e-f5c6-4ab7-cf71-452d10e5bf84"
      },
      "execution_count": 47,
      "outputs": [
        {
          "output_type": "execute_result",
          "data": {
            "text/plain": [
              "1"
            ]
          },
          "metadata": {},
          "execution_count": 47
        }
      ]
    },
    {
      "cell_type": "code",
      "source": [
        "next(g)"
      ],
      "metadata": {
        "colab": {
          "base_uri": "https://localhost:8080/"
        },
        "id": "s35x9EUdKbTX",
        "outputId": "307b68fd-2b86-4231-f919-aa4ce8f1c95d"
      },
      "execution_count": 48,
      "outputs": [
        {
          "output_type": "execute_result",
          "data": {
            "text/plain": [
              "2"
            ]
          },
          "metadata": {},
          "execution_count": 48
        }
      ]
    },
    {
      "cell_type": "code",
      "source": [
        "next(g)"
      ],
      "metadata": {
        "colab": {
          "base_uri": "https://localhost:8080/"
        },
        "id": "W2eFHWXcKdIG",
        "outputId": "13063a6a-206b-4272-b78d-0c5017c6a3b3"
      },
      "execution_count": 49,
      "outputs": [
        {
          "output_type": "execute_result",
          "data": {
            "text/plain": [
              "3"
            ]
          },
          "metadata": {},
          "execution_count": 49
        }
      ]
    },
    {
      "cell_type": "code",
      "source": [
        "next(g)"
      ],
      "metadata": {
        "colab": {
          "base_uri": "https://localhost:8080/",
          "height": 141
        },
        "id": "pUz3wVMWKPgo",
        "outputId": "5e76bb5e-22ce-4581-d660-3ed4b9a9a63f"
      },
      "execution_count": 50,
      "outputs": [
        {
          "output_type": "error",
          "ename": "StopIteration",
          "evalue": "",
          "traceback": [
            "\u001b[0;31m---------------------------------------------------------------------------\u001b[0m",
            "\u001b[0;31mStopIteration\u001b[0m                             Traceback (most recent call last)",
            "\u001b[0;32m<ipython-input-50-e734f8aca5ac>\u001b[0m in \u001b[0;36m<cell line: 1>\u001b[0;34m()\u001b[0m\n\u001b[0;32m----> 1\u001b[0;31m \u001b[0mnext\u001b[0m\u001b[0;34m(\u001b[0m\u001b[0mg\u001b[0m\u001b[0;34m)\u001b[0m\u001b[0;34m\u001b[0m\u001b[0;34m\u001b[0m\u001b[0m\n\u001b[0m",
            "\u001b[0;31mStopIteration\u001b[0m: "
          ]
        }
      ]
    },
    {
      "cell_type": "code",
      "source": [
        "def my_generator(start,last):\n",
        "  n = start\n",
        "  while n < last:\n",
        "    yield n\n",
        "    n = n + 1"
      ],
      "metadata": {
        "id": "GN8DJHFVKkgV"
      },
      "execution_count": 51,
      "outputs": []
    },
    {
      "cell_type": "code",
      "source": [
        "g=my_generator(1,3)"
      ],
      "metadata": {
        "id": "bvBO4CNOLiin"
      },
      "execution_count": 52,
      "outputs": []
    },
    {
      "cell_type": "code",
      "source": [
        "for range in g:\n",
        "  print(range)"
      ],
      "metadata": {
        "colab": {
          "base_uri": "https://localhost:8080/"
        },
        "id": "jG8H6FuLLkt0",
        "outputId": "bc5a79b7-1f84-4d9b-93a9-8c710b641a24"
      },
      "execution_count": 53,
      "outputs": [
        {
          "output_type": "stream",
          "name": "stdout",
          "text": [
            "1\n",
            "2\n"
          ]
        }
      ]
    },
    {
      "cell_type": "code",
      "source": [
        "g=my_generator(1,10)\n",
        "\n",
        "for range in g:\n",
        "  print(range)"
      ],
      "metadata": {
        "colab": {
          "base_uri": "https://localhost:8080/"
        },
        "id": "8UPkqFsTLnJZ",
        "outputId": "4c171e07-61b3-42e0-c6c0-b03fbc953e61"
      },
      "execution_count": 54,
      "outputs": [
        {
          "output_type": "stream",
          "name": "stdout",
          "text": [
            "1\n",
            "2\n",
            "3\n",
            "4\n",
            "5\n",
            "6\n",
            "7\n",
            "8\n",
            "9\n"
          ]
        }
      ]
    }
  ]
}