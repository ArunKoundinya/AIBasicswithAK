{
  "nbformat": 4,
  "nbformat_minor": 0,
  "metadata": {
    "colab": {
      "provenance": [],
      "authorship_tag": "ABX9TyO/r75K0yWV39sbU3lNZY/P",
      "include_colab_link": true
    },
    "kernelspec": {
      "name": "python3",
      "display_name": "Python 3"
    },
    "language_info": {
      "name": "python"
    }
  },
  "cells": [
    {
      "cell_type": "markdown",
      "metadata": {
        "id": "view-in-github",
        "colab_type": "text"
      },
      "source": [
        "<a href=\"https://colab.research.google.com/github/ArunKoundinya/AIBasicswithAK/blob/master/AI_Vlogs/slides/season02/episode05/Strings_2.ipynb\" target=\"_parent\"><img src=\"https://colab.research.google.com/assets/colab-badge.svg\" alt=\"Open In Colab\"/></a>"
      ]
    },
    {
      "cell_type": "markdown",
      "source": [
        "---\n",
        "title: AI Basics with AK\n",
        "subtitle: Season 02 - Introduction to Python Programming\n",
        "title-slide-attributes:\n",
        "  data-slide-number: none\n",
        "format:\n",
        "  revealjs:\n",
        "    incremental: false\n",
        "auto-stretch: true\n",
        "---"
      ],
      "metadata": {
        "id": "ndg_zIcSGzkG"
      }
    },
    {
      "cell_type": "markdown",
      "source": [
        "# Episode 05\n",
        "\n",
        "Strings & Characters - Part2"
      ],
      "metadata": {
        "id": "grBwGfvbECcF"
      }
    },
    {
      "cell_type": "markdown",
      "source": [
        "## Agenda\n",
        "\n",
        "-   Strings { Last Episode }\n",
        "-   String Mathematical Operations { Last Episode }\n",
        "-   Indexing { Last Episode }\n",
        "-   Slicing { Last Episode }\n",
        "-   String Operations\n",
        "-   New Style Operators { Next Episode }"
      ],
      "metadata": {
        "id": "XmecoVPcEpbX"
      }
    },
    {
      "cell_type": "markdown",
      "source": [
        "## String Operations\n",
        "\n"
      ],
      "metadata": {
        "id": "RQfzP_bKE1Dk"
      }
    },
    {
      "cell_type": "markdown",
      "source": [
        "::: panel-tabset"
      ],
      "metadata": {
        "id": "sqn4QKP1JLmQ"
      }
    },
    {
      "cell_type": "markdown",
      "source": [
        "### Split\n",
        "\n"
      ],
      "metadata": {
        "id": "cxKka4D5F6GU"
      }
    },
    {
      "cell_type": "markdown",
      "source": [
        "\n",
        "::: columns\n",
        "\n",
        "::: {.column width=\"50%\"}\n",
        "\n",
        "::: {style=\"font-size: 80%;\"}\n"
      ],
      "metadata": {
        "id": "XVhcXymRIzXF"
      }
    },
    {
      "cell_type": "code",
      "execution_count": 1,
      "metadata": {
        "id": "pOCdaY8WmU1A",
        "colab": {
          "base_uri": "https://localhost:8080/"
        },
        "outputId": "e3827c07-6d29-4f97-b00d-ccfa9da8054d"
      },
      "outputs": [
        {
          "output_type": "stream",
          "name": "stdout",
          "text": [
            "It is a very beautiful day!\n",
            "\n",
            " ['It', 'is', 'a', 'very', 'beautiful', 'day!']\n",
            "\n",
            " 6\n"
          ]
        }
      ],
      "source": [
        "var = \"It is a very beautiful day!\"\n",
        "print(var)\n",
        "splitvariable = var.split()\n",
        "print(\"\\n\",splitvariable)\n",
        "print(\"\\n\",len(splitvariable))"
      ]
    },
    {
      "cell_type": "code",
      "source": [
        "print(var.split('d'))\n",
        "print(\"\\n\",len(var.split('d')))"
      ],
      "metadata": {
        "colab": {
          "base_uri": "https://localhost:8080/"
        },
        "id": "ywrPEiH5F4Hz",
        "outputId": "7ee13be8-5887-467f-83ef-f713aa9ba2e7"
      },
      "execution_count": 2,
      "outputs": [
        {
          "output_type": "stream",
          "name": "stdout",
          "text": [
            "['It is a very beautiful ', 'ay!']\n",
            "\n",
            " 2\n"
          ]
        }
      ]
    },
    {
      "cell_type": "code",
      "source": [
        "print(var.split('!'))\n",
        "print(\"\\n\",len(var.split('!')))"
      ],
      "metadata": {
        "colab": {
          "base_uri": "https://localhost:8080/"
        },
        "id": "TL68KgctHJkB",
        "outputId": "5072af2d-d8bc-456d-a4b5-ba12e2eeb0cf"
      },
      "execution_count": 3,
      "outputs": [
        {
          "output_type": "stream",
          "name": "stdout",
          "text": [
            "['It is a very beautiful day', '']\n",
            "\n",
            " 2\n"
          ]
        }
      ]
    },
    {
      "cell_type": "markdown",
      "source": [
        "\n",
        ":::\n",
        "\n",
        ":::\n"
      ],
      "metadata": {
        "id": "u0BAzA2KI4X6"
      }
    },
    {
      "cell_type": "markdown",
      "source": [
        "\n",
        "::: {.column width=\"50%\"}\n",
        "\n",
        "::: {style=\"font-size: 80%;\"}\n"
      ],
      "metadata": {
        "id": "IlDAm3vsI7ha"
      }
    },
    {
      "cell_type": "code",
      "source": [
        "var = \"I have 10$ cash with me!\"\n",
        "print(var)\n",
        "splitvariable = var.split('$')\n",
        "print(\"\\n\",splitvariable)\n",
        "print(\"\\n\",len(splitvariable))"
      ],
      "metadata": {
        "colab": {
          "base_uri": "https://localhost:8080/"
        },
        "id": "3Jwril5IGHkL",
        "outputId": "13038611-1dc4-4234-9677-256d4fba3c52"
      },
      "execution_count": 4,
      "outputs": [
        {
          "output_type": "stream",
          "name": "stdout",
          "text": [
            "I have 10$ cash with me!\n",
            "\n",
            " ['I have 10', ' cash with me!']\n",
            "\n",
            " 2\n"
          ]
        }
      ]
    },
    {
      "cell_type": "code",
      "source": [
        "splitvariable[0]"
      ],
      "metadata": {
        "colab": {
          "base_uri": "https://localhost:8080/",
          "height": 35
        },
        "id": "EqcJcGZBGzek",
        "outputId": "87fabdf8-77cb-4112-a4d7-3ea740f15d58"
      },
      "execution_count": 5,
      "outputs": [
        {
          "output_type": "execute_result",
          "data": {
            "text/plain": [
              "'I have 10'"
            ],
            "application/vnd.google.colaboratory.intrinsic+json": {
              "type": "string"
            }
          },
          "metadata": {},
          "execution_count": 5
        }
      ]
    },
    {
      "cell_type": "code",
      "source": [
        "splitvariable[0].split()"
      ],
      "metadata": {
        "colab": {
          "base_uri": "https://localhost:8080/"
        },
        "id": "0AfyOSF8G2Xa",
        "outputId": "cea80d89-1bc2-437a-f84a-bcc56b61a3fc"
      },
      "execution_count": 6,
      "outputs": [
        {
          "output_type": "execute_result",
          "data": {
            "text/plain": [
              "['I', 'have', '10']"
            ]
          },
          "metadata": {},
          "execution_count": 6
        }
      ]
    },
    {
      "cell_type": "code",
      "source": [
        "splitvariable[0].split()[2]"
      ],
      "metadata": {
        "colab": {
          "base_uri": "https://localhost:8080/",
          "height": 35
        },
        "id": "iAlAGpgAG8Ur",
        "outputId": "fe264440-d149-4a5f-a945-29401cd97ad9"
      },
      "execution_count": 7,
      "outputs": [
        {
          "output_type": "execute_result",
          "data": {
            "text/plain": [
              "'10'"
            ],
            "application/vnd.google.colaboratory.intrinsic+json": {
              "type": "string"
            }
          },
          "metadata": {},
          "execution_count": 7
        }
      ]
    },
    {
      "cell_type": "markdown",
      "source": [
        "\n",
        ":::\n",
        "\n",
        ":::\n",
        "\n",
        ":::\n"
      ],
      "metadata": {
        "id": "uDI8GxdjI-BD"
      }
    },
    {
      "cell_type": "markdown",
      "source": [
        "### Join\n",
        "\n"
      ],
      "metadata": {
        "id": "NevydDgwHnFb"
      }
    },
    {
      "cell_type": "markdown",
      "source": [
        "\n",
        "::: columns\n",
        "\n",
        "::: {.column width=\"50%\"}\n",
        "\n",
        "::: {style=\"font-size: 80%;\"}\n"
      ],
      "metadata": {
        "id": "jt7cGKGzJWaM"
      }
    },
    {
      "cell_type": "code",
      "source": [
        "print(splitvariable)\n",
        "\n",
        "''.join(splitvariable)"
      ],
      "metadata": {
        "colab": {
          "base_uri": "https://localhost:8080/",
          "height": 53
        },
        "id": "8RVLTMUbHo5v",
        "outputId": "1e76e175-c286-48eb-88a3-cf266e0c113b"
      },
      "execution_count": 8,
      "outputs": [
        {
          "output_type": "stream",
          "name": "stdout",
          "text": [
            "['I have 10', ' cash with me!']\n"
          ]
        },
        {
          "output_type": "execute_result",
          "data": {
            "text/plain": [
              "'I have 10 cash with me!'"
            ],
            "application/vnd.google.colaboratory.intrinsic+json": {
              "type": "string"
            }
          },
          "metadata": {},
          "execution_count": 8
        }
      ]
    },
    {
      "cell_type": "code",
      "source": [
        "'$'.join(splitvariable)"
      ],
      "metadata": {
        "colab": {
          "base_uri": "https://localhost:8080/",
          "height": 35
        },
        "id": "feJR09PLKbZK",
        "outputId": "24f8a083-446e-4a6f-ec4d-7d9cd03a5402"
      },
      "execution_count": 9,
      "outputs": [
        {
          "output_type": "execute_result",
          "data": {
            "text/plain": [
              "'I have 10$ cash with me!'"
            ],
            "application/vnd.google.colaboratory.intrinsic+json": {
              "type": "string"
            }
          },
          "metadata": {},
          "execution_count": 9
        }
      ]
    },
    {
      "cell_type": "code",
      "source": [
        "var = [\"I\",\"want\",\"to\",\"dance\",\"now!\"]\n",
        "\n",
        "' '.join(var)"
      ],
      "metadata": {
        "colab": {
          "base_uri": "https://localhost:8080/",
          "height": 35
        },
        "id": "-Cd10h7fKv8q",
        "outputId": "d166f646-0046-467c-cecc-2592ee8615a7"
      },
      "execution_count": 10,
      "outputs": [
        {
          "output_type": "execute_result",
          "data": {
            "text/plain": [
              "'I want to dance now!'"
            ],
            "application/vnd.google.colaboratory.intrinsic+json": {
              "type": "string"
            }
          },
          "metadata": {},
          "execution_count": 10
        }
      ]
    },
    {
      "cell_type": "markdown",
      "source": [
        "\n",
        ":::\n",
        "\n",
        ":::\n"
      ],
      "metadata": {
        "id": "7M4NIrHTJZgz"
      }
    },
    {
      "cell_type": "markdown",
      "source": [
        "\n",
        "::: {.column width=\"50%\"}\n",
        "\n",
        "::: {style=\"font-size: 80%;\"}\n"
      ],
      "metadata": {
        "id": "-U_G7lRLJgwQ"
      }
    },
    {
      "cell_type": "code",
      "source": [
        "'space'.join(var)"
      ],
      "metadata": {
        "colab": {
          "base_uri": "https://localhost:8080/",
          "height": 35
        },
        "id": "JwoFwW9JFNkL",
        "outputId": "e788faeb-b99b-4ded-af2d-10b81adeb006"
      },
      "execution_count": 11,
      "outputs": [
        {
          "output_type": "execute_result",
          "data": {
            "text/plain": [
              "'Ispacewantspacetospacedancespacenow!'"
            ],
            "application/vnd.google.colaboratory.intrinsic+json": {
              "type": "string"
            }
          },
          "metadata": {},
          "execution_count": 11
        }
      ]
    },
    {
      "cell_type": "code",
      "source": [
        "join_seperator = \" %& \"\n",
        "var = [\"This\",\"is\",\"just\",\"an\",\"Example\"]\n",
        "print(join_seperator.join(var))\n",
        "print(\" \")\n",
        "print(type(join_seperator.join(var)))"
      ],
      "metadata": {
        "colab": {
          "base_uri": "https://localhost:8080/"
        },
        "id": "vlqv3butFwf4",
        "outputId": "6b785c1b-5b86-4d62-9620-19a913ccec8e"
      },
      "execution_count": 12,
      "outputs": [
        {
          "output_type": "stream",
          "name": "stdout",
          "text": [
            "This %& is %& just %& an %& Example\n",
            " \n",
            "<class 'str'>\n"
          ]
        }
      ]
    },
    {
      "cell_type": "code",
      "source": [
        "print(type(var))"
      ],
      "metadata": {
        "colab": {
          "base_uri": "https://localhost:8080/"
        },
        "id": "XAdChlW1F1Nh",
        "outputId": "11c1b0af-e3a0-47ba-eb23-7d80f0eea938"
      },
      "execution_count": 13,
      "outputs": [
        {
          "output_type": "stream",
          "name": "stdout",
          "text": [
            "<class 'list'>\n"
          ]
        }
      ]
    },
    {
      "cell_type": "markdown",
      "source": [
        "this is list variable type which we wil discuss in future episodes."
      ],
      "metadata": {
        "id": "WJTtZSm7GP5r"
      }
    },
    {
      "cell_type": "markdown",
      "source": [
        "\n",
        ":::\n",
        "\n",
        ":::\n",
        "\n",
        ":::\n"
      ],
      "metadata": {
        "id": "9i4uZnzhJSC5"
      }
    },
    {
      "cell_type": "markdown",
      "source": [
        ":::"
      ],
      "metadata": {
        "id": "guMqs5qPJQMm"
      }
    },
    {
      "cell_type": "markdown",
      "source": [
        "## String Operations\n"
      ],
      "metadata": {
        "id": "VpWiSDZ5MAkS"
      }
    },
    {
      "cell_type": "markdown",
      "source": [
        "### Strip"
      ],
      "metadata": {
        "id": "CR_yKnsXMGvy"
      }
    },
    {
      "cell_type": "markdown",
      "source": [
        "\n",
        "::: columns\n",
        "\n",
        "::: {.column width=\"50%\"}\n",
        "\n",
        "::: {style=\"font-size: 80%;\"}\n"
      ],
      "metadata": {
        "id": "bYBpDu7KUnxj"
      }
    },
    {
      "cell_type": "code",
      "source": [
        "new_var = \"  Wow! there is a tree!! over there! \"\n",
        "print(new_var)"
      ],
      "metadata": {
        "colab": {
          "base_uri": "https://localhost:8080/"
        },
        "id": "Te4hdDNDMFo1",
        "outputId": "b67aa217-9485-43b3-efc9-df68cae4a4f9"
      },
      "execution_count": 14,
      "outputs": [
        {
          "output_type": "stream",
          "name": "stdout",
          "text": [
            "  Wow! there is a tree!! over there! \n"
          ]
        }
      ]
    },
    {
      "cell_type": "code",
      "source": [
        "new_var.strip()"
      ],
      "metadata": {
        "colab": {
          "base_uri": "https://localhost:8080/",
          "height": 35
        },
        "id": "SBqjUu6MPJUS",
        "outputId": "241e8de7-fc8b-458f-bb62-3edb7ae04ebc"
      },
      "execution_count": 15,
      "outputs": [
        {
          "output_type": "execute_result",
          "data": {
            "text/plain": [
              "'Wow! there is a tree!! over there!'"
            ],
            "application/vnd.google.colaboratory.intrinsic+json": {
              "type": "string"
            }
          },
          "metadata": {},
          "execution_count": 15
        }
      ]
    },
    {
      "cell_type": "code",
      "source": [
        "new_var.lstrip()"
      ],
      "metadata": {
        "colab": {
          "base_uri": "https://localhost:8080/",
          "height": 35
        },
        "id": "wQyRi_gRPNCP",
        "outputId": "fa67d33c-64b4-479d-ca6c-4e35e6efcbba"
      },
      "execution_count": 16,
      "outputs": [
        {
          "output_type": "execute_result",
          "data": {
            "text/plain": [
              "'Wow! there is a tree!! over there! '"
            ],
            "application/vnd.google.colaboratory.intrinsic+json": {
              "type": "string"
            }
          },
          "metadata": {},
          "execution_count": 16
        }
      ]
    },
    {
      "cell_type": "code",
      "source": [
        "new_var.rstrip()"
      ],
      "metadata": {
        "colab": {
          "base_uri": "https://localhost:8080/",
          "height": 35
        },
        "id": "MiNrjxgSPQNG",
        "outputId": "a2d1584d-f285-4eb6-e876-042e13851b30"
      },
      "execution_count": 17,
      "outputs": [
        {
          "output_type": "execute_result",
          "data": {
            "text/plain": [
              "'  Wow! there is a tree!! over there!'"
            ],
            "application/vnd.google.colaboratory.intrinsic+json": {
              "type": "string"
            }
          },
          "metadata": {},
          "execution_count": 17
        }
      ]
    },
    {
      "cell_type": "markdown",
      "source": [
        "\n",
        ":::\n",
        "\n",
        ":::\n"
      ],
      "metadata": {
        "id": "F27VzSEgUk6L"
      }
    },
    {
      "cell_type": "markdown",
      "source": [
        "\n",
        "::: {.column width=\"50%\"}\n",
        "\n",
        "::: {style=\"font-size: 80%;\"}\n"
      ],
      "metadata": {
        "id": "fGO4LWybUiHC"
      }
    },
    {
      "cell_type": "code",
      "source": [
        "new_var2 = \"What the program \\\\ \"\n",
        "print(new_var2)"
      ],
      "metadata": {
        "colab": {
          "base_uri": "https://localhost:8080/"
        },
        "id": "ZlsTYjOJPSXy",
        "outputId": "a27a75ea-2914-4135-96c2-40bea88cab42"
      },
      "execution_count": 18,
      "outputs": [
        {
          "output_type": "stream",
          "name": "stdout",
          "text": [
            "What the program \\ \n"
          ]
        }
      ]
    },
    {
      "cell_type": "code",
      "source": [
        "new_var2.strip(' \\\\ ')"
      ],
      "metadata": {
        "colab": {
          "base_uri": "https://localhost:8080/",
          "height": 35
        },
        "id": "16NkKTM0Q4MO",
        "outputId": "f6e26798-c0ae-47e3-8c22-862da1774633"
      },
      "execution_count": 19,
      "outputs": [
        {
          "output_type": "execute_result",
          "data": {
            "text/plain": [
              "'What the program'"
            ],
            "application/vnd.google.colaboratory.intrinsic+json": {
              "type": "string"
            }
          },
          "metadata": {},
          "execution_count": 19
        }
      ]
    },
    {
      "cell_type": "code",
      "source": [
        "new_var3 = \"Hi!!! I Miss you a lot ..:)\"\n",
        "new_var3.strip(':().!')"
      ],
      "metadata": {
        "colab": {
          "base_uri": "https://localhost:8080/",
          "height": 35
        },
        "id": "SPQR8ROPRGnr",
        "outputId": "ea53a97a-02cf-428f-8829-f640650ad690"
      },
      "execution_count": 20,
      "outputs": [
        {
          "output_type": "execute_result",
          "data": {
            "text/plain": [
              "'Hi!!! I Miss you a lot '"
            ],
            "application/vnd.google.colaboratory.intrinsic+json": {
              "type": "string"
            }
          },
          "metadata": {},
          "execution_count": 20
        }
      ]
    },
    {
      "cell_type": "code",
      "source": [
        "new_var3.strip(':().!' + ' ')"
      ],
      "metadata": {
        "colab": {
          "base_uri": "https://localhost:8080/",
          "height": 35
        },
        "id": "QEkhyptaRajg",
        "outputId": "870b713f-5d03-4e05-81ab-638fd1c01e97"
      },
      "execution_count": 21,
      "outputs": [
        {
          "output_type": "execute_result",
          "data": {
            "text/plain": [
              "'Hi!!! I Miss you a lot'"
            ],
            "application/vnd.google.colaboratory.intrinsic+json": {
              "type": "string"
            }
          },
          "metadata": {},
          "execution_count": 21
        }
      ]
    },
    {
      "cell_type": "markdown",
      "source": [
        "\n",
        ":::\n",
        "\n",
        ":::\n",
        "\n",
        ":::\n"
      ],
      "metadata": {
        "id": "fQU0vI0GUefC"
      }
    },
    {
      "cell_type": "markdown",
      "source": [
        "## String Operations\n"
      ],
      "metadata": {
        "id": "JdnXpJ9xxkuR"
      }
    },
    {
      "cell_type": "markdown",
      "source": [
        "::: panel-tabset"
      ],
      "metadata": {
        "id": "sBWtGFQExpGz"
      }
    },
    {
      "cell_type": "markdown",
      "source": [
        "### Find"
      ],
      "metadata": {
        "id": "EWVhHRNzxqp2"
      }
    },
    {
      "cell_type": "markdown",
      "source": [
        "\n",
        "::: columns\n",
        "\n",
        "::: {.column width=\"50%\"}\n",
        "\n",
        "::: {style=\"font-size: 80%;\"}\n"
      ],
      "metadata": {
        "id": "EFg1Xq9k1utC"
      }
    },
    {
      "cell_type": "code",
      "source": [
        "var = '''You know my name\n",
        "You know my name\n",
        "You know my name\n",
        "You know my name\n",
        "You know my name\n",
        "You know my name\n",
        "'''"
      ],
      "metadata": {
        "id": "LdRNVYTgxlCb"
      },
      "execution_count": 41,
      "outputs": []
    },
    {
      "cell_type": "code",
      "source": [
        "var.find('You')"
      ],
      "metadata": {
        "colab": {
          "base_uri": "https://localhost:8080/"
        },
        "id": "H6faTD0Gz089",
        "outputId": "1cc4b02b-c5ec-4298-d65e-fe3a8aaef9bd"
      },
      "execution_count": 43,
      "outputs": [
        {
          "output_type": "execute_result",
          "data": {
            "text/plain": [
              "0"
            ]
          },
          "metadata": {},
          "execution_count": 43
        }
      ]
    },
    {
      "cell_type": "code",
      "source": [
        "var.rfind('You')"
      ],
      "metadata": {
        "colab": {
          "base_uri": "https://localhost:8080/"
        },
        "id": "Pggm5c_Wz7ea",
        "outputId": "a11a6252-d1f7-4b11-c42a-51ec4038f976"
      },
      "execution_count": 44,
      "outputs": [
        {
          "output_type": "execute_result",
          "data": {
            "text/plain": [
              "85"
            ]
          },
          "metadata": {},
          "execution_count": 44
        }
      ]
    },
    {
      "cell_type": "markdown",
      "source": [
        "\n",
        ":::\n",
        "\n",
        ":::\n"
      ],
      "metadata": {
        "id": "qMxHX-4o1-IC"
      }
    },
    {
      "cell_type": "markdown",
      "source": [
        "\n",
        "::: {.column width=\"50%\"}\n",
        "\n",
        "::: {style=\"font-size: 80%;\"}\n"
      ],
      "metadata": {
        "id": "dCG5JeUV2F-v"
      }
    },
    {
      "cell_type": "code",
      "source": [
        "var.find('you')"
      ],
      "metadata": {
        "colab": {
          "base_uri": "https://localhost:8080/"
        },
        "id": "pnbTsSVK0scV",
        "outputId": "41ae3651-31e0-4214-b623-6e80f4477c40"
      },
      "execution_count": 45,
      "outputs": [
        {
          "output_type": "execute_result",
          "data": {
            "text/plain": [
              "-1"
            ]
          },
          "metadata": {},
          "execution_count": 45
        }
      ]
    },
    {
      "cell_type": "code",
      "source": [
        "var.startswith('You')"
      ],
      "metadata": {
        "colab": {
          "base_uri": "https://localhost:8080/"
        },
        "id": "94hDkZQO01PP",
        "outputId": "cf7bea65-3d0c-49c9-9d2c-20b94bd3f795"
      },
      "execution_count": 46,
      "outputs": [
        {
          "output_type": "execute_result",
          "data": {
            "text/plain": [
              "True"
            ]
          },
          "metadata": {},
          "execution_count": 46
        }
      ]
    },
    {
      "cell_type": "code",
      "source": [
        "var.endswith('name')"
      ],
      "metadata": {
        "colab": {
          "base_uri": "https://localhost:8080/"
        },
        "id": "FtuJUXDl1DNv",
        "outputId": "c63dc011-45bf-4319-b383-ac62f8c2072b"
      },
      "execution_count": 51,
      "outputs": [
        {
          "output_type": "execute_result",
          "data": {
            "text/plain": [
              "False"
            ]
          },
          "metadata": {},
          "execution_count": 51
        }
      ]
    },
    {
      "cell_type": "code",
      "source": [
        "var.endswith('\\n')"
      ],
      "metadata": {
        "colab": {
          "base_uri": "https://localhost:8080/"
        },
        "id": "SVEMa5ft1OkL",
        "outputId": "70889e51-c4fa-4731-febd-db2fec63e010"
      },
      "execution_count": 52,
      "outputs": [
        {
          "output_type": "execute_result",
          "data": {
            "text/plain": [
              "True"
            ]
          },
          "metadata": {},
          "execution_count": 52
        }
      ]
    },
    {
      "cell_type": "code",
      "source": [
        "var"
      ],
      "metadata": {
        "colab": {
          "base_uri": "https://localhost:8080/",
          "height": 35
        },
        "id": "91jGuucc1Q5M",
        "outputId": "bba5a89f-9ecb-45bd-a01b-d456748c3147"
      },
      "execution_count": 53,
      "outputs": [
        {
          "output_type": "execute_result",
          "data": {
            "text/plain": [
              "'You know my name\\nYou know my name\\nYou know my name\\nYou know my name\\nYou know my name\\nYou know my name\\n'"
            ],
            "application/vnd.google.colaboratory.intrinsic+json": {
              "type": "string"
            }
          },
          "metadata": {},
          "execution_count": 53
        }
      ]
    },
    {
      "cell_type": "code",
      "source": [
        "var.count('You know my name')"
      ],
      "metadata": {
        "colab": {
          "base_uri": "https://localhost:8080/"
        },
        "id": "VlzP3a071XWe",
        "outputId": "86d3804d-301f-49de-cb5b-6ea748ebcf11"
      },
      "execution_count": 58,
      "outputs": [
        {
          "output_type": "execute_result",
          "data": {
            "text/plain": [
              "6"
            ]
          },
          "metadata": {},
          "execution_count": 58
        }
      ]
    },
    {
      "cell_type": "markdown",
      "source": [
        "\n",
        ":::\n",
        "\n",
        ":::\n",
        "\n",
        ":::\n"
      ],
      "metadata": {
        "id": "l8_cKyCB13fz"
      }
    },
    {
      "cell_type": "markdown",
      "source": [
        "### Replace & Case"
      ],
      "metadata": {
        "id": "QHj0-b1Vx5TA"
      }
    },
    {
      "cell_type": "markdown",
      "source": [
        "\n",
        "::: columns\n",
        "\n",
        "::: {.column width=\"50%\"}\n",
        "\n",
        "::: {style=\"font-size: 80%;\"}\n"
      ],
      "metadata": {
        "id": "tyhEEIhv2KFK"
      }
    },
    {
      "cell_type": "markdown",
      "source": [
        "#### Replace"
      ],
      "metadata": {
        "id": "D1jMBmbr3Xjr"
      }
    },
    {
      "cell_type": "code",
      "source": [
        "print(var)"
      ],
      "metadata": {
        "colab": {
          "base_uri": "https://localhost:8080/"
        },
        "id": "s6bNeNZ-x6nX",
        "outputId": "083124d1-e84c-4e33-e329-22bad0de1353"
      },
      "execution_count": 59,
      "outputs": [
        {
          "output_type": "stream",
          "name": "stdout",
          "text": [
            "You know my name\n",
            "You know my name\n",
            "You know my name\n",
            "You know my name\n",
            "You know my name\n",
            "You know my name\n",
            "\n"
          ]
        }
      ]
    },
    {
      "cell_type": "code",
      "source": [
        "new_var = var.replace('You','I')\n",
        "\n",
        "print(new_var)"
      ],
      "metadata": {
        "colab": {
          "base_uri": "https://localhost:8080/"
        },
        "id": "McvGYSOB3sli",
        "outputId": "107b262c-bdc5-42d7-b832-3acaf55a2824"
      },
      "execution_count": 61,
      "outputs": [
        {
          "output_type": "stream",
          "name": "stdout",
          "text": [
            "I know my name\n",
            "I know my name\n",
            "I know my name\n",
            "I know my name\n",
            "I know my name\n",
            "I know my name\n",
            "\n"
          ]
        }
      ]
    },
    {
      "cell_type": "code",
      "source": [
        "print(var.replace('You','I',3))"
      ],
      "metadata": {
        "colab": {
          "base_uri": "https://localhost:8080/"
        },
        "id": "u5nVMy6F37r6",
        "outputId": "2f3212c3-4172-4e40-93b0-87ace857416a"
      },
      "execution_count": 65,
      "outputs": [
        {
          "output_type": "stream",
          "name": "stdout",
          "text": [
            "I know my name\n",
            "I know my name\n",
            "I know my name\n",
            "You know my name\n",
            "You know my name\n",
            "You know my name\n",
            "\n"
          ]
        }
      ]
    },
    {
      "cell_type": "markdown",
      "source": [
        "\n",
        ":::\n",
        "\n",
        ":::\n"
      ],
      "metadata": {
        "id": "Kc_muNQE3kdy"
      }
    },
    {
      "cell_type": "markdown",
      "source": [
        "\n",
        "::: {.column width=\"50%\"}\n",
        "\n",
        "::: {style=\"font-size: 80%;\"}\n"
      ],
      "metadata": {
        "id": "aKBZSZiD3ndM"
      }
    },
    {
      "cell_type": "markdown",
      "source": [
        "#### CaseStatement"
      ],
      "metadata": {
        "id": "ZaLb1FpbyHE0"
      }
    },
    {
      "cell_type": "code",
      "source": [
        "var = \"i am a spiritual cognitive scientist.\"\n",
        "var.capitalize()"
      ],
      "metadata": {
        "colab": {
          "base_uri": "https://localhost:8080/",
          "height": 35
        },
        "id": "pcIKFdLWyKKY",
        "outputId": "af6661b4-1b88-40b3-b119-f271767452f6"
      },
      "execution_count": 73,
      "outputs": [
        {
          "output_type": "execute_result",
          "data": {
            "text/plain": [
              "'I am a spiritual cognitive scientist.'"
            ],
            "application/vnd.google.colaboratory.intrinsic+json": {
              "type": "string"
            }
          },
          "metadata": {},
          "execution_count": 73
        }
      ]
    },
    {
      "cell_type": "code",
      "source": [
        "print( var.upper() )\n",
        "print(\" \")\n",
        "print(var.lower())"
      ],
      "metadata": {
        "colab": {
          "base_uri": "https://localhost:8080/"
        },
        "id": "amcYGa9Y4sJe",
        "outputId": "a79bf9e2-777f-4381-d212-a135cad19b66"
      },
      "execution_count": 72,
      "outputs": [
        {
          "output_type": "stream",
          "name": "stdout",
          "text": [
            "I AM A SPIRITUAL COGNITIVE SCIENTIST.\n",
            " \n",
            "i am a spiritual cognitive scientist.\n"
          ]
        }
      ]
    },
    {
      "cell_type": "code",
      "source": [
        "print(var.title())\n",
        "print(\"\")\n",
        "print(var.title().swapcase())"
      ],
      "metadata": {
        "colab": {
          "base_uri": "https://localhost:8080/"
        },
        "id": "n0_g-wv-4yKD",
        "outputId": "30797905-a036-4370-900c-f5bf650971d6"
      },
      "execution_count": 77,
      "outputs": [
        {
          "output_type": "stream",
          "name": "stdout",
          "text": [
            "I Am A Spiritual Cognitive Scientist.\n",
            "\n",
            "i aM a sPIRITUAL cOGNITIVE sCIENTIST.\n"
          ]
        }
      ]
    },
    {
      "cell_type": "markdown",
      "source": [
        "\n",
        ":::\n",
        "\n",
        ":::\n",
        "\n",
        ":::\n"
      ],
      "metadata": {
        "id": "UD69ZSmc1zBM"
      }
    },
    {
      "cell_type": "markdown",
      "source": [
        ":::"
      ],
      "metadata": {
        "id": "osdB4UYKx7Mo"
      }
    },
    {
      "cell_type": "markdown",
      "source": [
        "# Thank You"
      ],
      "metadata": {
        "id": "nrOg7XJ3x8qD"
      }
    }
  ]
}