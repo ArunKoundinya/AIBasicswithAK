{
  "cells": [
    {
      "cell_type": "markdown",
      "metadata": {
        "id": "ndg_zIcSGzkG"
      },
      "source": [
        "---\n",
        "title: AI Basics with AK\n",
        "subtitle: Season 02 - Introduction to Python Programming\n",
        "title-slide-attributes:\n",
        "  data-slide-number: none\n",
        "format:\n",
        "  revealjs:\n",
        "    incremental: false\n",
        "auto-stretch: true\n",
        "---"
      ]
    },
    {
      "cell_type": "markdown",
      "metadata": {
        "id": "grBwGfvbECcF"
      },
      "source": [
        "# Episode 05\n",
        "\n",
        "Strings & Characters - Part2"
      ]
    },
    {
      "cell_type": "markdown",
      "metadata": {
        "id": "XmecoVPcEpbX"
      },
      "source": [
        "## Agenda\n",
        "\n",
        "-   Strings { Last Episode }\n",
        "-   String Mathematical Operations { Last Episode }\n",
        "-   Indexing { Last Episode }\n",
        "-   Slicing { Last Episode }\n",
        "-   String Operations\n",
        "-   New Style Operators { Next Episode }"
      ]
    },
    {
      "cell_type": "markdown",
      "metadata": {
        "id": "RQfzP_bKE1Dk"
      },
      "source": [
        "## String Operations\n",
        "\n"
      ]
    },
    {
      "cell_type": "markdown",
      "metadata": {
        "id": "sqn4QKP1JLmQ"
      },
      "source": [
        "::: panel-tabset"
      ]
    },
    {
      "cell_type": "markdown",
      "metadata": {
        "id": "cxKka4D5F6GU"
      },
      "source": [
        "### Split\n",
        "\n"
      ]
    },
    {
      "cell_type": "markdown",
      "metadata": {
        "id": "XVhcXymRIzXF"
      },
      "source": [
        "\n",
        "::: columns\n",
        "\n",
        "::: {.column width=\"50%\"}\n",
        "\n",
        "::: {style=\"font-size: 80%;\"}\n"
      ]
    },
    {
      "cell_type": "code",
      "execution_count": 1,
      "metadata": {
        "colab": {
          "base_uri": "https://localhost:8080/"
        },
        "id": "pOCdaY8WmU1A",
        "outputId": "e3827c07-6d29-4f97-b00d-ccfa9da8054d"
      },
      "outputs": [
        {
          "name": "stdout",
          "output_type": "stream",
          "text": [
            "It is a very beautiful day!\n",
            "\n",
            " ['It', 'is', 'a', 'very', 'beautiful', 'day!']\n",
            "\n",
            " 6\n"
          ]
        }
      ],
      "source": [
        "var = \"It is a very beautiful day!\"\n",
        "print(var)\n",
        "splitvariable = var.split()\n",
        "print(\"\\n\",splitvariable)\n",
        "print(\"\\n\",len(splitvariable))"
      ]
    },
    {
      "cell_type": "code",
      "execution_count": 2,
      "metadata": {
        "colab": {
          "base_uri": "https://localhost:8080/"
        },
        "id": "ywrPEiH5F4Hz",
        "outputId": "7ee13be8-5887-467f-83ef-f713aa9ba2e7"
      },
      "outputs": [
        {
          "name": "stdout",
          "output_type": "stream",
          "text": [
            "['It is a very beautiful ', 'ay!']\n",
            "\n",
            " 2\n"
          ]
        }
      ],
      "source": [
        "print(var.split('d'))\n",
        "print(\"\\n\",len(var.split('d')))"
      ]
    },
    {
      "cell_type": "code",
      "execution_count": 3,
      "metadata": {
        "colab": {
          "base_uri": "https://localhost:8080/"
        },
        "id": "TL68KgctHJkB",
        "outputId": "5072af2d-d8bc-456d-a4b5-ba12e2eeb0cf"
      },
      "outputs": [
        {
          "name": "stdout",
          "output_type": "stream",
          "text": [
            "['It is a very beautiful day', '']\n",
            "\n",
            " 2\n"
          ]
        }
      ],
      "source": [
        "print(var.split('!'))\n",
        "print(\"\\n\",len(var.split('!')))"
      ]
    },
    {
      "cell_type": "markdown",
      "metadata": {
        "id": "u0BAzA2KI4X6"
      },
      "source": [
        "\n",
        ":::\n",
        "\n",
        ":::\n"
      ]
    },
    {
      "cell_type": "markdown",
      "metadata": {
        "id": "IlDAm3vsI7ha"
      },
      "source": [
        "\n",
        "::: {.column width=\"50%\"}\n",
        "\n",
        "::: {style=\"font-size: 80%;\"}\n"
      ]
    },
    {
      "cell_type": "code",
      "execution_count": 4,
      "metadata": {
        "colab": {
          "base_uri": "https://localhost:8080/"
        },
        "id": "3Jwril5IGHkL",
        "outputId": "13038611-1dc4-4234-9677-256d4fba3c52"
      },
      "outputs": [
        {
          "name": "stdout",
          "output_type": "stream",
          "text": [
            "I have 10$ cash with me!\n",
            "\n",
            " ['I have 10', ' cash with me!']\n",
            "\n",
            " 2\n"
          ]
        }
      ],
      "source": [
        "var = \"I have 10$ cash with me!\"\n",
        "print(var)\n",
        "splitvariable = var.split('$')\n",
        "print(\"\\n\",splitvariable)\n",
        "print(\"\\n\",len(splitvariable))"
      ]
    },
    {
      "cell_type": "code",
      "execution_count": 5,
      "metadata": {
        "colab": {
          "base_uri": "https://localhost:8080/",
          "height": 35
        },
        "id": "EqcJcGZBGzek",
        "outputId": "87fabdf8-77cb-4112-a4d7-3ea740f15d58"
      },
      "outputs": [
        {
          "data": {
            "text/plain": [
              "'I have 10'"
            ]
          },
          "execution_count": 5,
          "metadata": {},
          "output_type": "execute_result"
        }
      ],
      "source": [
        "splitvariable[0]"
      ]
    },
    {
      "cell_type": "code",
      "execution_count": 6,
      "metadata": {
        "colab": {
          "base_uri": "https://localhost:8080/"
        },
        "id": "0AfyOSF8G2Xa",
        "outputId": "cea80d89-1bc2-437a-f84a-bcc56b61a3fc"
      },
      "outputs": [
        {
          "data": {
            "text/plain": [
              "['I', 'have', '10']"
            ]
          },
          "execution_count": 6,
          "metadata": {},
          "output_type": "execute_result"
        }
      ],
      "source": [
        "splitvariable[0].split()"
      ]
    },
    {
      "cell_type": "code",
      "execution_count": 7,
      "metadata": {
        "colab": {
          "base_uri": "https://localhost:8080/",
          "height": 35
        },
        "id": "iAlAGpgAG8Ur",
        "outputId": "fe264440-d149-4a5f-a945-29401cd97ad9"
      },
      "outputs": [
        {
          "data": {
            "text/plain": [
              "'10'"
            ]
          },
          "execution_count": 7,
          "metadata": {},
          "output_type": "execute_result"
        }
      ],
      "source": [
        "splitvariable[0].split()[2]"
      ]
    },
    {
      "cell_type": "markdown",
      "metadata": {
        "id": "uDI8GxdjI-BD"
      },
      "source": [
        "\n",
        ":::\n",
        "\n",
        ":::\n",
        "\n",
        ":::\n"
      ]
    },
    {
      "cell_type": "markdown",
      "metadata": {
        "id": "NevydDgwHnFb"
      },
      "source": [
        "### Join\n",
        "\n"
      ]
    },
    {
      "cell_type": "markdown",
      "metadata": {
        "id": "jt7cGKGzJWaM"
      },
      "source": [
        "\n",
        "::: columns\n",
        "\n",
        "::: {.column width=\"50%\"}\n",
        "\n",
        "::: {style=\"font-size: 80%;\"}\n"
      ]
    },
    {
      "cell_type": "code",
      "execution_count": 8,
      "metadata": {
        "colab": {
          "base_uri": "https://localhost:8080/",
          "height": 53
        },
        "id": "8RVLTMUbHo5v",
        "outputId": "1e76e175-c286-48eb-88a3-cf266e0c113b"
      },
      "outputs": [
        {
          "name": "stdout",
          "output_type": "stream",
          "text": [
            "['I have 10', ' cash with me!']\n"
          ]
        },
        {
          "data": {
            "text/plain": [
              "'I have 10 cash with me!'"
            ]
          },
          "execution_count": 8,
          "metadata": {},
          "output_type": "execute_result"
        }
      ],
      "source": [
        "print(splitvariable)\n",
        "\n",
        "''.join(splitvariable)"
      ]
    },
    {
      "cell_type": "code",
      "execution_count": 9,
      "metadata": {
        "colab": {
          "base_uri": "https://localhost:8080/",
          "height": 35
        },
        "id": "feJR09PLKbZK",
        "outputId": "24f8a083-446e-4a6f-ec4d-7d9cd03a5402"
      },
      "outputs": [
        {
          "data": {
            "text/plain": [
              "'I have 10$ cash with me!'"
            ]
          },
          "execution_count": 9,
          "metadata": {},
          "output_type": "execute_result"
        }
      ],
      "source": [
        "'$'.join(splitvariable)"
      ]
    },
    {
      "cell_type": "code",
      "execution_count": 10,
      "metadata": {
        "colab": {
          "base_uri": "https://localhost:8080/",
          "height": 35
        },
        "id": "-Cd10h7fKv8q",
        "outputId": "d166f646-0046-467c-cecc-2592ee8615a7"
      },
      "outputs": [
        {
          "data": {
            "text/plain": [
              "'I want to dance now!'"
            ]
          },
          "execution_count": 10,
          "metadata": {},
          "output_type": "execute_result"
        }
      ],
      "source": [
        "var = [\"I\",\"want\",\"to\",\"dance\",\"now!\"]\n",
        "\n",
        "' '.join(var)"
      ]
    },
    {
      "cell_type": "markdown",
      "metadata": {
        "id": "7M4NIrHTJZgz"
      },
      "source": [
        "\n",
        ":::\n",
        "\n",
        ":::\n"
      ]
    },
    {
      "cell_type": "markdown",
      "metadata": {
        "id": "-U_G7lRLJgwQ"
      },
      "source": [
        "\n",
        "::: {.column width=\"50%\"}\n",
        "\n",
        "::: {style=\"font-size: 80%;\"}\n"
      ]
    },
    {
      "cell_type": "code",
      "execution_count": 11,
      "metadata": {
        "colab": {
          "base_uri": "https://localhost:8080/",
          "height": 35
        },
        "id": "JwoFwW9JFNkL",
        "outputId": "e788faeb-b99b-4ded-af2d-10b81adeb006"
      },
      "outputs": [
        {
          "data": {
            "text/plain": [
              "'Ispacewantspacetospacedancespacenow!'"
            ]
          },
          "execution_count": 11,
          "metadata": {},
          "output_type": "execute_result"
        }
      ],
      "source": [
        "'space'.join(var)"
      ]
    },
    {
      "cell_type": "code",
      "execution_count": 12,
      "metadata": {
        "colab": {
          "base_uri": "https://localhost:8080/"
        },
        "id": "vlqv3butFwf4",
        "outputId": "6b785c1b-5b86-4d62-9620-19a913ccec8e"
      },
      "outputs": [
        {
          "name": "stdout",
          "output_type": "stream",
          "text": [
            "This %& is %& just %& an %& Example\n",
            " \n",
            "<class 'str'>\n"
          ]
        }
      ],
      "source": [
        "join_seperator = \" %& \"\n",
        "var = [\"This\",\"is\",\"just\",\"an\",\"Example\"]\n",
        "print(join_seperator.join(var))\n",
        "print(\" \")\n",
        "print(type(join_seperator.join(var)))"
      ]
    },
    {
      "cell_type": "code",
      "execution_count": 13,
      "metadata": {
        "colab": {
          "base_uri": "https://localhost:8080/"
        },
        "id": "XAdChlW1F1Nh",
        "outputId": "11c1b0af-e3a0-47ba-eb23-7d80f0eea938"
      },
      "outputs": [
        {
          "name": "stdout",
          "output_type": "stream",
          "text": [
            "<class 'list'>\n"
          ]
        }
      ],
      "source": [
        "print(type(var))"
      ]
    },
    {
      "cell_type": "markdown",
      "metadata": {},
      "source": [
        "\n",
        "::: {style=\"font-size: 65%;\"}\n"
      ]
    },
    {
      "cell_type": "markdown",
      "metadata": {
        "id": "WJTtZSm7GP5r"
      },
      "source": [
        "this is list variable type which we wil discuss in future episodes."
      ]
    },
    {
      "cell_type": "markdown",
      "metadata": {},
      "source": [
        ":::"
      ]
    },
    {
      "cell_type": "markdown",
      "metadata": {
        "id": "9i4uZnzhJSC5"
      },
      "source": [
        "\n",
        ":::\n",
        "\n",
        ":::\n",
        "\n",
        ":::\n"
      ]
    },
    {
      "cell_type": "markdown",
      "metadata": {
        "id": "guMqs5qPJQMm"
      },
      "source": [
        ":::"
      ]
    },
    {
      "cell_type": "markdown",
      "metadata": {
        "id": "VpWiSDZ5MAkS"
      },
      "source": [
        "## String Operations\n"
      ]
    },
    {
      "cell_type": "markdown",
      "metadata": {
        "id": "CR_yKnsXMGvy"
      },
      "source": [
        "### Strip"
      ]
    },
    {
      "cell_type": "markdown",
      "metadata": {
        "id": "bYBpDu7KUnxj"
      },
      "source": [
        "\n",
        "::: columns\n",
        "\n",
        "::: {.column width=\"50%\"}\n",
        "\n",
        "::: {style=\"font-size: 80%;\"}\n"
      ]
    },
    {
      "cell_type": "code",
      "execution_count": 14,
      "metadata": {
        "colab": {
          "base_uri": "https://localhost:8080/"
        },
        "id": "Te4hdDNDMFo1",
        "outputId": "b67aa217-9485-43b3-efc9-df68cae4a4f9"
      },
      "outputs": [
        {
          "name": "stdout",
          "output_type": "stream",
          "text": [
            "  Wow! there is a tree!! over there! \n"
          ]
        }
      ],
      "source": [
        "new_var = \"  Wow! there is a tree!! over there! \"\n",
        "print(new_var)"
      ]
    },
    {
      "cell_type": "code",
      "execution_count": 15,
      "metadata": {
        "colab": {
          "base_uri": "https://localhost:8080/",
          "height": 35
        },
        "id": "SBqjUu6MPJUS",
        "outputId": "241e8de7-fc8b-458f-bb62-3edb7ae04ebc"
      },
      "outputs": [
        {
          "data": {
            "text/plain": [
              "'Wow! there is a tree!! over there!'"
            ]
          },
          "execution_count": 15,
          "metadata": {},
          "output_type": "execute_result"
        }
      ],
      "source": [
        "new_var.strip()"
      ]
    },
    {
      "cell_type": "code",
      "execution_count": 16,
      "metadata": {
        "colab": {
          "base_uri": "https://localhost:8080/",
          "height": 35
        },
        "id": "wQyRi_gRPNCP",
        "outputId": "fa67d33c-64b4-479d-ca6c-4e35e6efcbba"
      },
      "outputs": [
        {
          "data": {
            "text/plain": [
              "'Wow! there is a tree!! over there! '"
            ]
          },
          "execution_count": 16,
          "metadata": {},
          "output_type": "execute_result"
        }
      ],
      "source": [
        "new_var.lstrip()"
      ]
    },
    {
      "cell_type": "code",
      "execution_count": 17,
      "metadata": {
        "colab": {
          "base_uri": "https://localhost:8080/",
          "height": 35
        },
        "id": "MiNrjxgSPQNG",
        "outputId": "a2d1584d-f285-4eb6-e876-042e13851b30"
      },
      "outputs": [
        {
          "data": {
            "text/plain": [
              "'  Wow! there is a tree!! over there!'"
            ]
          },
          "execution_count": 17,
          "metadata": {},
          "output_type": "execute_result"
        }
      ],
      "source": [
        "new_var.rstrip()"
      ]
    },
    {
      "cell_type": "markdown",
      "metadata": {
        "id": "F27VzSEgUk6L"
      },
      "source": [
        "\n",
        ":::\n",
        "\n",
        ":::\n"
      ]
    },
    {
      "cell_type": "markdown",
      "metadata": {
        "id": "fGO4LWybUiHC"
      },
      "source": [
        "\n",
        "::: {.column width=\"50%\"}\n",
        "\n",
        "::: {style=\"font-size: 80%;\"}\n"
      ]
    },
    {
      "cell_type": "code",
      "execution_count": 18,
      "metadata": {
        "colab": {
          "base_uri": "https://localhost:8080/"
        },
        "id": "ZlsTYjOJPSXy",
        "outputId": "a27a75ea-2914-4135-96c2-40bea88cab42"
      },
      "outputs": [
        {
          "name": "stdout",
          "output_type": "stream",
          "text": [
            "What the program \\ \n"
          ]
        }
      ],
      "source": [
        "new_var2 = \"What the program \\\\ \"\n",
        "print(new_var2)"
      ]
    },
    {
      "cell_type": "code",
      "execution_count": 19,
      "metadata": {
        "colab": {
          "base_uri": "https://localhost:8080/",
          "height": 35
        },
        "id": "16NkKTM0Q4MO",
        "outputId": "f6e26798-c0ae-47e3-8c22-862da1774633"
      },
      "outputs": [
        {
          "data": {
            "text/plain": [
              "'What the program'"
            ]
          },
          "execution_count": 19,
          "metadata": {},
          "output_type": "execute_result"
        }
      ],
      "source": [
        "new_var2.strip(' \\\\ ')"
      ]
    },
    {
      "cell_type": "code",
      "execution_count": 20,
      "metadata": {
        "colab": {
          "base_uri": "https://localhost:8080/",
          "height": 35
        },
        "id": "SPQR8ROPRGnr",
        "outputId": "ea53a97a-02cf-428f-8829-f640650ad690"
      },
      "outputs": [
        {
          "data": {
            "text/plain": [
              "'Hi!!! I Miss you a lot '"
            ]
          },
          "execution_count": 20,
          "metadata": {},
          "output_type": "execute_result"
        }
      ],
      "source": [
        "new_var3 = \"Hi!!! I Miss you a lot ..:)\"\n",
        "new_var3.strip(':().!')"
      ]
    },
    {
      "cell_type": "code",
      "execution_count": 21,
      "metadata": {
        "colab": {
          "base_uri": "https://localhost:8080/",
          "height": 35
        },
        "id": "QEkhyptaRajg",
        "outputId": "870b713f-5d03-4e05-81ab-638fd1c01e97"
      },
      "outputs": [
        {
          "data": {
            "text/plain": [
              "'Hi!!! I Miss you a lot'"
            ]
          },
          "execution_count": 21,
          "metadata": {},
          "output_type": "execute_result"
        }
      ],
      "source": [
        "new_var3.strip(':().!' + ' ')"
      ]
    },
    {
      "cell_type": "markdown",
      "metadata": {
        "id": "fQU0vI0GUefC"
      },
      "source": [
        "\n",
        ":::\n",
        "\n",
        ":::\n",
        "\n",
        ":::\n"
      ]
    },
    {
      "cell_type": "markdown",
      "metadata": {
        "id": "JdnXpJ9xxkuR"
      },
      "source": [
        "## String Operations\n"
      ]
    },
    {
      "cell_type": "markdown",
      "metadata": {
        "id": "sBWtGFQExpGz"
      },
      "source": [
        "::: panel-tabset"
      ]
    },
    {
      "cell_type": "markdown",
      "metadata": {
        "id": "EWVhHRNzxqp2"
      },
      "source": [
        "### Find"
      ]
    },
    {
      "cell_type": "markdown",
      "metadata": {
        "id": "EFg1Xq9k1utC"
      },
      "source": [
        "\n",
        "::: columns\n",
        "\n",
        "::: {.column width=\"50%\"}\n",
        "\n",
        "::: {style=\"font-size: 80%;\"}\n"
      ]
    },
    {
      "cell_type": "code",
      "execution_count": 22,
      "metadata": {
        "id": "LdRNVYTgxlCb"
      },
      "outputs": [],
      "source": [
        "var = '''You know my name\n",
        "You know my name\n",
        "You know my name\n",
        "You know my name\n",
        "You know my name\n",
        "You know my name\n",
        "'''"
      ]
    },
    {
      "cell_type": "code",
      "execution_count": 23,
      "metadata": {
        "colab": {
          "base_uri": "https://localhost:8080/"
        },
        "id": "H6faTD0Gz089",
        "outputId": "1cc4b02b-c5ec-4298-d65e-fe3a8aaef9bd"
      },
      "outputs": [
        {
          "data": {
            "text/plain": [
              "0"
            ]
          },
          "execution_count": 23,
          "metadata": {},
          "output_type": "execute_result"
        }
      ],
      "source": [
        "var.find('You')"
      ]
    },
    {
      "cell_type": "code",
      "execution_count": 24,
      "metadata": {
        "colab": {
          "base_uri": "https://localhost:8080/"
        },
        "id": "Pggm5c_Wz7ea",
        "outputId": "a11a6252-d1f7-4b11-c42a-51ec4038f976"
      },
      "outputs": [
        {
          "data": {
            "text/plain": [
              "85"
            ]
          },
          "execution_count": 24,
          "metadata": {},
          "output_type": "execute_result"
        }
      ],
      "source": [
        "var.rfind('You')"
      ]
    },
    {
      "cell_type": "markdown",
      "metadata": {
        "id": "qMxHX-4o1-IC"
      },
      "source": [
        "\n",
        ":::\n",
        "\n",
        ":::\n"
      ]
    },
    {
      "cell_type": "markdown",
      "metadata": {
        "id": "dCG5JeUV2F-v"
      },
      "source": [
        "\n",
        "::: {.column width=\"50%\"}\n",
        "\n",
        "::: {style=\"font-size: 80%;\"}\n"
      ]
    },
    {
      "cell_type": "code",
      "execution_count": 25,
      "metadata": {
        "colab": {
          "base_uri": "https://localhost:8080/"
        },
        "id": "pnbTsSVK0scV",
        "outputId": "41ae3651-31e0-4214-b623-6e80f4477c40"
      },
      "outputs": [
        {
          "data": {
            "text/plain": [
              "-1"
            ]
          },
          "execution_count": 25,
          "metadata": {},
          "output_type": "execute_result"
        }
      ],
      "source": [
        "var.find('you')"
      ]
    },
    {
      "cell_type": "code",
      "execution_count": 26,
      "metadata": {
        "colab": {
          "base_uri": "https://localhost:8080/"
        },
        "id": "94hDkZQO01PP",
        "outputId": "cf7bea65-3d0c-49c9-9d2c-20b94bd3f795"
      },
      "outputs": [
        {
          "data": {
            "text/plain": [
              "True"
            ]
          },
          "execution_count": 26,
          "metadata": {},
          "output_type": "execute_result"
        }
      ],
      "source": [
        "var.startswith('You')"
      ]
    },
    {
      "cell_type": "code",
      "execution_count": 27,
      "metadata": {
        "colab": {
          "base_uri": "https://localhost:8080/"
        },
        "id": "FtuJUXDl1DNv",
        "outputId": "c63dc011-45bf-4319-b383-ac62f8c2072b"
      },
      "outputs": [
        {
          "data": {
            "text/plain": [
              "False"
            ]
          },
          "execution_count": 27,
          "metadata": {},
          "output_type": "execute_result"
        }
      ],
      "source": [
        "var.endswith('name')"
      ]
    },
    {
      "cell_type": "code",
      "execution_count": 28,
      "metadata": {
        "colab": {
          "base_uri": "https://localhost:8080/"
        },
        "id": "SVEMa5ft1OkL",
        "outputId": "70889e51-c4fa-4731-febd-db2fec63e010"
      },
      "outputs": [
        {
          "data": {
            "text/plain": [
              "True"
            ]
          },
          "execution_count": 28,
          "metadata": {},
          "output_type": "execute_result"
        }
      ],
      "source": [
        "var.endswith('\\n')"
      ]
    },
    {
      "cell_type": "code",
      "execution_count": 29,
      "metadata": {
        "colab": {
          "base_uri": "https://localhost:8080/",
          "height": 35
        },
        "id": "91jGuucc1Q5M",
        "outputId": "bba5a89f-9ecb-45bd-a01b-d456748c3147"
      },
      "outputs": [
        {
          "data": {
            "text/plain": [
              "'You know my name\\nYou know my name\\nYou know my name\\nYou know my name\\nYou know my name\\nYou know my name\\n'"
            ]
          },
          "execution_count": 29,
          "metadata": {},
          "output_type": "execute_result"
        }
      ],
      "source": [
        "var"
      ]
    },
    {
      "cell_type": "code",
      "execution_count": 30,
      "metadata": {
        "colab": {
          "base_uri": "https://localhost:8080/"
        },
        "id": "VlzP3a071XWe",
        "outputId": "86d3804d-301f-49de-cb5b-6ea748ebcf11"
      },
      "outputs": [
        {
          "data": {
            "text/plain": [
              "6"
            ]
          },
          "execution_count": 30,
          "metadata": {},
          "output_type": "execute_result"
        }
      ],
      "source": [
        "var.count('You know my name')"
      ]
    },
    {
      "cell_type": "markdown",
      "metadata": {
        "id": "l8_cKyCB13fz"
      },
      "source": [
        "\n",
        ":::\n",
        "\n",
        ":::\n",
        "\n",
        ":::\n"
      ]
    },
    {
      "cell_type": "markdown",
      "metadata": {
        "id": "QHj0-b1Vx5TA"
      },
      "source": [
        "### Replace & Case"
      ]
    },
    {
      "cell_type": "markdown",
      "metadata": {
        "id": "tyhEEIhv2KFK"
      },
      "source": [
        "\n",
        "::: columns\n",
        "\n",
        "::: {.column width=\"50%\"}\n",
        "\n",
        "::: {style=\"font-size: 80%;\"}\n"
      ]
    },
    {
      "cell_type": "markdown",
      "metadata": {
        "id": "D1jMBmbr3Xjr"
      },
      "source": [
        "#### Replace"
      ]
    },
    {
      "cell_type": "code",
      "execution_count": 32,
      "metadata": {
        "colab": {
          "base_uri": "https://localhost:8080/"
        },
        "id": "McvGYSOB3sli",
        "outputId": "107b262c-bdc5-42d7-b832-3acaf55a2824"
      },
      "outputs": [
        {
          "name": "stdout",
          "output_type": "stream",
          "text": [
            "I know my name\n",
            "I know my name\n",
            "I know my name\n",
            "I know my name\n",
            "I know my name\n",
            "I know my name\n",
            "\n"
          ]
        }
      ],
      "source": [
        "new_var = var.replace('You','I')\n",
        "\n",
        "print(new_var)"
      ]
    },
    {
      "cell_type": "code",
      "execution_count": 33,
      "metadata": {
        "colab": {
          "base_uri": "https://localhost:8080/"
        },
        "id": "u5nVMy6F37r6",
        "outputId": "2f3212c3-4172-4e40-93b0-87ace857416a"
      },
      "outputs": [
        {
          "name": "stdout",
          "output_type": "stream",
          "text": [
            "I know my name\n",
            "I know my name\n",
            "I know my name\n",
            "You know my name\n",
            "You know my name\n",
            "You know my name\n",
            "\n"
          ]
        }
      ],
      "source": [
        "print(var.replace('You','I',3))"
      ]
    },
    {
      "cell_type": "markdown",
      "metadata": {
        "id": "Kc_muNQE3kdy"
      },
      "source": [
        "\n",
        ":::\n",
        "\n",
        ":::\n"
      ]
    },
    {
      "cell_type": "markdown",
      "metadata": {
        "id": "aKBZSZiD3ndM"
      },
      "source": [
        "\n",
        "::: {.column width=\"50%\"}\n",
        "\n",
        "::: {style=\"font-size: 80%;\"}\n"
      ]
    },
    {
      "cell_type": "markdown",
      "metadata": {
        "id": "ZaLb1FpbyHE0"
      },
      "source": [
        "#### CaseStatement"
      ]
    },
    {
      "cell_type": "code",
      "execution_count": 34,
      "metadata": {
        "colab": {
          "base_uri": "https://localhost:8080/",
          "height": 35
        },
        "id": "pcIKFdLWyKKY",
        "outputId": "af6661b4-1b88-40b3-b119-f271767452f6"
      },
      "outputs": [
        {
          "data": {
            "text/plain": [
              "'I am a spiritual cognitive scientist.'"
            ]
          },
          "execution_count": 34,
          "metadata": {},
          "output_type": "execute_result"
        }
      ],
      "source": [
        "var = \"i am a spiritual cognitive scientist.\"\n",
        "var.capitalize()"
      ]
    },
    {
      "cell_type": "code",
      "execution_count": 35,
      "metadata": {
        "colab": {
          "base_uri": "https://localhost:8080/"
        },
        "id": "amcYGa9Y4sJe",
        "outputId": "a79bf9e2-777f-4381-d212-a135cad19b66"
      },
      "outputs": [
        {
          "name": "stdout",
          "output_type": "stream",
          "text": [
            "I AM A SPIRITUAL COGNITIVE SCIENTIST.\n",
            " \n",
            "i am a spiritual cognitive scientist.\n"
          ]
        }
      ],
      "source": [
        "print( var.upper() )\n",
        "print(\" \")\n",
        "print(var.lower())"
      ]
    },
    {
      "cell_type": "code",
      "execution_count": 36,
      "metadata": {
        "colab": {
          "base_uri": "https://localhost:8080/"
        },
        "id": "n0_g-wv-4yKD",
        "outputId": "30797905-a036-4370-900c-f5bf650971d6"
      },
      "outputs": [
        {
          "name": "stdout",
          "output_type": "stream",
          "text": [
            "I Am A Spiritual Cognitive Scientist.\n",
            "\n",
            "i aM a sPIRITUAL cOGNITIVE sCIENTIST.\n"
          ]
        }
      ],
      "source": [
        "print(var.title())\n",
        "print(\"\")\n",
        "print(var.title().swapcase())"
      ]
    },
    {
      "cell_type": "markdown",
      "metadata": {
        "id": "UD69ZSmc1zBM"
      },
      "source": [
        "\n",
        ":::\n",
        "\n",
        ":::\n",
        "\n",
        ":::\n"
      ]
    },
    {
      "cell_type": "markdown",
      "metadata": {
        "id": "osdB4UYKx7Mo"
      },
      "source": [
        ":::"
      ]
    },
    {
      "cell_type": "markdown",
      "metadata": {
        "id": "nrOg7XJ3x8qD"
      },
      "source": [
        "# Thank You\n",
        "\n",
        "<a href=\"https://colab.research.google.com/github/ArunKoundinya/AIBasicswithAK/blob/master/AI_Vlogs/slides/season02/episode05/strings_characters_2.ipynb\" target=\"_parent\"><img src=\"https://colab.research.google.com/assets/colab-badge.svg\" alt=\"Open In Colab\"/></a>"
      ]
    }
  ],
  "metadata": {
    "colab": {
      "authorship_tag": "ABX9TyO/r75K0yWV39sbU3lNZY/P",
      "include_colab_link": true,
      "provenance": []
    },
    "kernelspec": {
      "display_name": "Python 3",
      "name": "python3"
    },
    "language_info": {
      "codemirror_mode": {
        "name": "ipython",
        "version": 3
      },
      "file_extension": ".py",
      "mimetype": "text/x-python",
      "name": "python",
      "nbconvert_exporter": "python",
      "pygments_lexer": "ipython3",
      "version": "3.11.2"
    }
  },
  "nbformat": 4,
  "nbformat_minor": 0
}
