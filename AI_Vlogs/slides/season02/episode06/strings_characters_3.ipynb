{
  "cells": [
    {
      "cell_type": "markdown",
      "metadata": {
        "id": "YfO3oWwcwxHW"
      },
      "source": [
        "---\n",
        "title: AI Basics with AK\n",
        "subtitle: Season 02 - Introduction to Python Programming\n",
        "title-slide-attributes:\n",
        "  data-slide-number: none\n",
        "format:\n",
        "  revealjs:\n",
        "    incremental: false\n",
        "auto-stretch: true\n",
        "---"
      ]
    },
    {
      "cell_type": "markdown",
      "metadata": {
        "id": "69-f3Tsnwzl_"
      },
      "source": [
        "# Episode 06\n",
        "\n",
        "Strings & Characters - Part3"
      ]
    },
    {
      "cell_type": "markdown",
      "metadata": {
        "id": "ibFTR_umw27v"
      },
      "source": [
        "## Agenda\n",
        "\n",
        "-   Strings {Part1}\n",
        "-   String Mathematical Operations {Part1}\n",
        "-   Indexing {Part1}\n",
        "-   Slicing {Part1}\n",
        "-   String Operations { Part2 }\n",
        "-   New Style Operators { Part3 }"
      ]
    },
    {
      "cell_type": "markdown",
      "metadata": {
        "id": "A0ce45pSw92A"
      },
      "source": [
        "## f-Style Operators"
      ]
    },
    {
      "cell_type": "markdown",
      "metadata": {
        "id": "e8jv-Y54xCDq"
      },
      "source": [
        "\n",
        "::: columns\n",
        "\n",
        "::: {.column width=\"50%\"}\n",
        "\n",
        "::: {style=\"font-size: 80%;\"}\n"
      ]
    },
    {
      "cell_type": "code",
      "execution_count": 16,
      "metadata": {
        "colab": {
          "base_uri": "https://localhost:8080/"
        },
        "id": "7z8XqZp0rkBc",
        "outputId": "c81fd573-2538-46b4-c6dc-267cd06f5b3d"
      },
      "outputs": [
        {
          "name": "stdout",
          "output_type": "stream",
          "text": [
            "My name is Python_Strings, & I'm fom Earth\n"
          ]
        }
      ],
      "source": [
        "name = \"Python_Strings\"\n",
        "place = \"Earth\"\n",
        "\n",
        "print(f\"My name is {name}, & I'm fom {place}\")"
      ]
    },
    {
      "cell_type": "code",
      "execution_count": 17,
      "metadata": {
        "colab": {
          "base_uri": "https://localhost:8080/"
        },
        "id": "UsYl6VUZuEnN",
        "outputId": "26fcf387-e7b2-4b68-9063-931069b2f94e"
      },
      "outputs": [
        {
          "name": "stdout",
          "output_type": "stream",
          "text": [
            "My name is Python_Strings , & I'm from Earth\n"
          ]
        }
      ],
      "source": [
        "print(\"My name is\",name,\", & I'm from\",place)"
      ]
    },
    {
      "cell_type": "code",
      "execution_count": 23,
      "metadata": {
        "colab": {
          "base_uri": "https://localhost:8080/"
        },
        "id": "IjINtcwEuUEA",
        "outputId": "be264a10-9a12-4265-a781-91305df64d2c"
      },
      "outputs": [
        {
          "name": "stdout",
          "output_type": "stream",
          "text": [
            "My name is       Python_Strings, & I'm fom Earth\n"
          ]
        }
      ],
      "source": [
        "print(f\"My name is {name:>20}, & I'm fom {place}\")"
      ]
    },
    {
      "cell_type": "code",
      "execution_count": 27,
      "metadata": {
        "colab": {
          "base_uri": "https://localhost:8080/"
        },
        "id": "qXEQlMpqvMvP",
        "outputId": "eb1b24ba-d7bc-41f7-bd29-b5ed0f174b06"
      },
      "outputs": [
        {
          "name": "stdout",
          "output_type": "stream",
          "text": [
            "My name is ..Python_Strings.., & I'm fom Earth\n"
          ]
        }
      ],
      "source": [
        "print(f\"My name is {name:.^18}, & I'm fom {place}\")"
      ]
    },
    {
      "cell_type": "markdown",
      "metadata": {
        "id": "KnYcL0dZxHqF"
      },
      "source": [
        "\n",
        ":::\n",
        "\n",
        ":::\n"
      ]
    },
    {
      "cell_type": "markdown",
      "metadata": {
        "id": "I47H7jICxKjk"
      },
      "source": [
        "\n",
        "::: {.column width=\"50%\"}\n",
        "\n",
        "::: {style=\"font-size: 80%;\"}\n"
      ]
    },
    {
      "cell_type": "code",
      "execution_count": 21,
      "metadata": {
        "colab": {
          "base_uri": "https://localhost:8080/"
        },
        "id": "mappI3gSukoe",
        "outputId": "503b9409-e68e-44d8-a979-fa0862bdd9af"
      },
      "outputs": [
        {
          "name": "stdout",
          "output_type": "stream",
          "text": [
            "My name is Python, & I'm fom Earth\n"
          ]
        }
      ],
      "source": [
        "print(f\"My name is {name[0:6]}, & I'm fom {place}\")"
      ]
    },
    {
      "cell_type": "code",
      "execution_count": 28,
      "metadata": {
        "colab": {
          "base_uri": "https://localhost:8080/"
        },
        "id": "KG589pegvfTj",
        "outputId": "8c5e0829-343d-4cc2-ce2b-90acecad3c43"
      },
      "outputs": [
        {
          "name": "stdout",
          "output_type": "stream",
          "text": [
            "Sum of all variables is 15\n"
          ]
        }
      ],
      "source": [
        "var1 = 4\n",
        "var2 = 5\n",
        "var3 = 6\n",
        "\n",
        "print(f\"Sum of all variables is {var1 + var2 + var3}\")"
      ]
    },
    {
      "cell_type": "code",
      "execution_count": 35,
      "metadata": {
        "colab": {
          "base_uri": "https://localhost:8080/"
        },
        "id": "jh5K3KWzwFCV",
        "outputId": "9c204445-74fd-412a-cf92-748e3cee7d03"
      },
      "outputs": [
        {
          "name": "stdout",
          "output_type": "stream",
          "text": [
            "Sum of all variables is 15.0\n"
          ]
        }
      ],
      "source": [
        "print(f\"Sum of all variables is {var1 + var2 + var3:.1f}\")"
      ]
    },
    {
      "cell_type": "markdown",
      "metadata": {
        "id": "Km3AaVe4xOpN"
      },
      "source": [
        "\n",
        ":::\n",
        "\n",
        ":::\n",
        "\n",
        ":::\n"
      ]
    },
    {
      "cell_type": "markdown",
      "metadata": {
        "id": "BzrBHNF8xQTT"
      },
      "source": [
        "# Jump to Demo\n",
        "\n",
        "<a href=\"https://colab.research.google.com/github/ArunKoundinya/AIBasicswithAK/blob/master/AI_Vlogs/slides/season02/episode06/strings_characters_3.ipynb\" target=\"_parent\"><img src=\"https://colab.research.google.com/assets/colab-badge.svg\" alt=\"Open In Colab\"/></a>"
      ]
    }
  ],
  "metadata": {
    "colab": {
      "authorship_tag": "ABX9TyPq7Ag3vwBZtOaEx7FQAckK",
      "include_colab_link": true,
      "provenance": []
    },
    "kernelspec": {
      "display_name": "Python 3",
      "name": "python3"
    },
    "language_info": {
      "name": "python"
    }
  },
  "nbformat": 4,
  "nbformat_minor": 0
}
