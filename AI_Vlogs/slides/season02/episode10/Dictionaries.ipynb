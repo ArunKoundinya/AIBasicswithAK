{
  "cells": [
    {
      "cell_type": "markdown",
      "metadata": {},
      "source": [
        "---\n",
        "title: AI Basics with AK\n",
        "subtitle: Season 02 - Introduction to Python Programming\n",
        "title-slide-attributes:\n",
        "  data-slide-number: none\n",
        "format:\n",
        "  revealjs:\n",
        "    incremental: false\n",
        "auto-stretch: true\n",
        "---"
      ]
    },
    {
      "cell_type": "markdown",
      "metadata": {},
      "source": [
        "# Episode 09 \n",
        "\n",
        "[**DICTIONARIES**]{style=\"color:red;\"}"
      ]
    },
    {
      "cell_type": "markdown",
      "metadata": {
        "colab_type": "text",
        "id": "view-in-github"
      },
      "source": [
        "## List Operations\n",
        "\n",
        "-  Dictionary\n",
        "-  Dictionary Operations\n",
        "-  Dictionary Comprehenions"
      ]
    },
    {
      "cell_type": "markdown",
      "metadata": {},
      "source": [
        "## Dictionary"
      ]
    },
    {
      "cell_type": "markdown",
      "metadata": {},
      "source": [
        "\n",
        "::: columns\n",
        "\n",
        "::: {.column width=\"50%\"}\n",
        "\n",
        "::: {style=\"font-size: 80%;\"}\n"
      ]
    },
    {
      "cell_type": "code",
      "execution_count": 1,
      "metadata": {
        "colab": {
          "base_uri": "https://localhost:8080/"
        },
        "id": "hYKTILycp8nd",
        "outputId": "a4ab90f8-ad3c-4eb6-d732-976d2b77214e"
      },
      "outputs": [
        {
          "name": "stdout",
          "output_type": "stream",
          "text": [
            "{'name': 'Arun Koundinya', 'age': 37, 'birthcountry': 'India'}\n"
          ]
        }
      ],
      "source": [
        "\n",
        "my_dict = {\n",
        "  \"name\": \"Arun Koundinya\",\n",
        "  \"age\": 37,\n",
        "  \"birthcountry\": \"India\"\n",
        "}\n",
        "\n",
        "print(my_dict)"
      ]
    },
    {
      "cell_type": "code",
      "execution_count": 3,
      "metadata": {
        "colab": {
          "base_uri": "https://localhost:8080/"
        },
        "id": "o-j5iChwqW7V",
        "outputId": "b3d5c930-6643-44ec-f986-3f563dd2efb5"
      },
      "outputs": [
        {
          "data": {
            "text/plain": [
              "dict"
            ]
          },
          "execution_count": 3,
          "metadata": {},
          "output_type": "execute_result"
        }
      ],
      "source": [
        "type(my_dict)"
      ]
    },
    {
      "cell_type": "code",
      "execution_count": 4,
      "metadata": {
        "colab": {
          "base_uri": "https://localhost:8080/",
          "height": 141
        },
        "id": "55OkdlA3qZly",
        "outputId": "bd83aff1-f293-4d08-e657-31fddd098402"
      },
      "outputs": [
        {
          "ename": "KeyError",
          "evalue": "0",
          "output_type": "error",
          "traceback": [
            "\u001b[0;31m---------------------------------------------------------------------------\u001b[0m",
            "\u001b[0;31mKeyError\u001b[0m                                  Traceback (most recent call last)",
            "\u001b[0;32m<ipython-input-4-2e042f7087f7>\u001b[0m in \u001b[0;36m<cell line: 1>\u001b[0;34m()\u001b[0m\n\u001b[0;32m----> 1\u001b[0;31m \u001b[0mmy_dict\u001b[0m\u001b[0;34m[\u001b[0m\u001b[0;36m0\u001b[0m\u001b[0;34m]\u001b[0m\u001b[0;34m\u001b[0m\u001b[0;34m\u001b[0m\u001b[0m\n\u001b[0m",
            "\u001b[0;31mKeyError\u001b[0m: 0"
          ]
        }
      ],
      "source": [
        "my_dict[0]"
      ]
    },
    {
      "cell_type": "code",
      "execution_count": 5,
      "metadata": {
        "colab": {
          "base_uri": "https://localhost:8080/"
        },
        "id": "IBlxdEmOqecj",
        "outputId": "cc52e01c-a570-4529-a3ff-6880f6876355"
      },
      "outputs": [
        {
          "data": {
            "text/plain": [
              "37"
            ]
          },
          "execution_count": 5,
          "metadata": {},
          "output_type": "execute_result"
        }
      ],
      "source": [
        "my_dict['age']"
      ]
    },
    {
      "cell_type": "markdown",
      "metadata": {},
      "source": [
        "\n",
        ":::\n",
        "\n",
        ":::\n"
      ]
    },
    {
      "cell_type": "markdown",
      "metadata": {},
      "source": [
        "\n",
        "::: {.column width=\"50%\"}\n",
        "\n",
        "::: {style=\"font-size: 80%;\"}\n"
      ]
    },
    {
      "cell_type": "code",
      "execution_count": 6,
      "metadata": {
        "colab": {
          "base_uri": "https://localhost:8080/"
        },
        "id": "_ha7sk-zqiLz",
        "outputId": "c90b6ae8-a1ec-4eac-d92c-0bf763be08d6"
      },
      "outputs": [
        {
          "name": "stdout",
          "output_type": "stream",
          "text": [
            "{'name': 'Arun Koundinya', 'age': 37, 'birthcountry': 'India', 'love': 'life'}\n"
          ]
        }
      ],
      "source": [
        "my_dict[\"love\"] = \"life\"\n",
        "\n",
        "print(my_dict)"
      ]
    },
    {
      "cell_type": "code",
      "execution_count": 15,
      "metadata": {
        "id": "ZMjmIFeGq8yO"
      },
      "outputs": [],
      "source": [
        "my_dict =  {\n",
        "    0 : \"Zero\",\n",
        "    1 : \"One\"\n",
        "}"
      ]
    },
    {
      "cell_type": "code",
      "execution_count": 16,
      "metadata": {
        "colab": {
          "base_uri": "https://localhost:8080/",
          "height": 35
        },
        "id": "m_6q3QlFrICe",
        "outputId": "7d33a06e-7fdc-43db-ec8f-02f0ae0a0328"
      },
      "outputs": [
        {
          "data": {
            "application/vnd.google.colaboratory.intrinsic+json": {
              "type": "string"
            },
            "text/plain": [
              "'Zero'"
            ]
          },
          "execution_count": 16,
          "metadata": {},
          "output_type": "execute_result"
        }
      ],
      "source": [
        "my_dict[0]"
      ]
    },
    {
      "cell_type": "code",
      "execution_count": 19,
      "metadata": {
        "colab": {
          "base_uri": "https://localhost:8080/"
        },
        "id": "k1_q454vrOAz",
        "outputId": "acb5bd93-16a8-43c9-c977-ff15aafdd5f6"
      },
      "outputs": [
        {
          "data": {
            "text/plain": [
              "{'name': 'Arun', 'age': '37'}"
            ]
          },
          "execution_count": 19,
          "metadata": {},
          "output_type": "execute_result"
        }
      ],
      "source": [
        "dict(name=\"Arun\",age=\"37\")"
      ]
    },
    {
      "cell_type": "code",
      "execution_count": 20,
      "metadata": {
        "colab": {
          "base_uri": "https://localhost:8080/",
          "height": 106
        },
        "id": "-7g19jsxrzzj",
        "outputId": "843488a7-8ec4-42d3-8709-8523233d7c94"
      },
      "outputs": [
        {
          "ename": "SyntaxError",
          "evalue": "expression cannot contain assignment, perhaps you meant \"==\"? (<ipython-input-20-2b41aa938669>, line 1)",
          "output_type": "error",
          "traceback": [
            "\u001b[0;36m  File \u001b[0;32m\"<ipython-input-20-2b41aa938669>\"\u001b[0;36m, line \u001b[0;32m1\u001b[0m\n\u001b[0;31m    dict(0=\"Zero\",1=\"One\")\u001b[0m\n\u001b[0m         ^\u001b[0m\n\u001b[0;31mSyntaxError\u001b[0m\u001b[0;31m:\u001b[0m expression cannot contain assignment, perhaps you meant \"==\"?\n"
          ]
        }
      ],
      "source": [
        "dict(0=\"Zero\",1=\"One\")"
      ]
    },
    {
      "cell_type": "markdown",
      "metadata": {},
      "source": [
        "\n",
        ":::\n",
        "\n",
        ":::\n",
        "\n",
        ":::\n"
      ]
    },
    {
      "cell_type": "markdown",
      "metadata": {},
      "source": [
        "## Dictionary Type Casting"
      ]
    },
    {
      "cell_type": "code",
      "execution_count": 24,
      "metadata": {
        "colab": {
          "base_uri": "https://localhost:8080/",
          "height": 159
        },
        "id": "siHr02ZJsP-t",
        "outputId": "edb113ce-1da9-40ce-b52d-8ad8175cfa1e"
      },
      "outputs": [
        {
          "ename": "TypeError",
          "evalue": "cannot convert dictionary update sequence element #0 to a sequence",
          "output_type": "error",
          "traceback": [
            "\u001b[0;31m---------------------------------------------------------------------------\u001b[0m",
            "\u001b[0;31mTypeError\u001b[0m                                 Traceback (most recent call last)",
            "\u001b[0;32m<ipython-input-24-62e4795c3a60>\u001b[0m in \u001b[0;36m<cell line: 2>\u001b[0;34m()\u001b[0m\n\u001b[1;32m      1\u001b[0m \u001b[0mmy_list\u001b[0m \u001b[0;34m=\u001b[0m \u001b[0;34m[\u001b[0m\u001b[0;36m1\u001b[0m\u001b[0;34m,\u001b[0m\u001b[0;36m2\u001b[0m\u001b[0;34m]\u001b[0m\u001b[0;34m\u001b[0m\u001b[0;34m\u001b[0m\u001b[0m\n\u001b[0;32m----> 2\u001b[0;31m \u001b[0mdict\u001b[0m\u001b[0;34m(\u001b[0m\u001b[0mmy_list\u001b[0m\u001b[0;34m)\u001b[0m\u001b[0;34m\u001b[0m\u001b[0;34m\u001b[0m\u001b[0m\n\u001b[0m",
            "\u001b[0;31mTypeError\u001b[0m: cannot convert dictionary update sequence element #0 to a sequence"
          ]
        }
      ],
      "source": [
        "my_list = [1,2]\n",
        "dict(my_list)"
      ]
    },
    {
      "cell_type": "code",
      "execution_count": 26,
      "metadata": {
        "colab": {
          "base_uri": "https://localhost:8080/"
        },
        "id": "6a3ncsUashaZ",
        "outputId": "4f708295-0d98-4c26-f685-3e979632a729"
      },
      "outputs": [
        {
          "data": {
            "text/plain": [
              "{1: 2, 2: 3, 3: 4}"
            ]
          },
          "execution_count": 26,
          "metadata": {},
          "output_type": "execute_result"
        }
      ],
      "source": [
        "my_list = [[1,2],[2,3],[3,4]]\n",
        "dict(my_list)"
      ]
    },
    {
      "cell_type": "code",
      "execution_count": 27,
      "metadata": {
        "colab": {
          "base_uri": "https://localhost:8080/"
        },
        "id": "_SYPA3nzsmFO",
        "outputId": "eb3ea715-bdf3-4f65-98a0-b272a3916e58"
      },
      "outputs": [
        {
          "data": {
            "text/plain": [
              "{1: 2}"
            ]
          },
          "execution_count": 27,
          "metadata": {},
          "output_type": "execute_result"
        }
      ],
      "source": [
        "my_list = [[1,2],[1,2],[1,2]]\n",
        "dict(my_list)"
      ]
    },
    {
      "cell_type": "code",
      "execution_count": 28,
      "metadata": {
        "colab": {
          "base_uri": "https://localhost:8080/"
        },
        "id": "eiI8mWfcsrlu",
        "outputId": "8e873fd9-75e2-4d54-eb0a-c8abf8c22b22"
      },
      "outputs": [
        {
          "data": {
            "text/plain": [
              "{1: 4}"
            ]
          },
          "execution_count": 28,
          "metadata": {},
          "output_type": "execute_result"
        }
      ],
      "source": [
        "my_list = [[1,2],[1,3],[1,4]]\n",
        "dict(my_list)"
      ]
    },
    {
      "cell_type": "markdown",
      "metadata": {},
      "source": [
        "## Dictionary Operations"
      ]
    },
    {
      "cell_type": "markdown",
      "metadata": {},
      "source": [
        "\n",
        "::: columns\n",
        "\n",
        "::: {.column width=\"50%\"}\n",
        "\n",
        "::: {style=\"font-size: 75%;\"}\n"
      ]
    },
    {
      "cell_type": "code",
      "execution_count": 34,
      "metadata": {
        "id": "_NRkXXHrtn1-"
      },
      "outputs": [],
      "source": [
        "dummy_dict = {\n",
        "    'apple': 5,\n",
        "    'banana': 7,\n",
        "    'orange': 3,\n",
        "    'kiwi': 10\n",
        "}"
      ]
    },
    {
      "cell_type": "code",
      "execution_count": 35,
      "metadata": {
        "colab": {
          "base_uri": "https://localhost:8080/"
        },
        "id": "rKCSZZEgtoOh",
        "outputId": "e6dc7057-30da-4dac-eb9d-83a29d971d8c"
      },
      "outputs": [
        {
          "name": "stdout",
          "output_type": "stream",
          "text": [
            "True\n"
          ]
        }
      ],
      "source": [
        "print('apple' in dummy_dict)"
      ]
    },
    {
      "cell_type": "code",
      "execution_count": 36,
      "metadata": {
        "colab": {
          "base_uri": "https://localhost:8080/"
        },
        "id": "_-YnmSnotr58",
        "outputId": "ed030127-3364-4010-f73d-d6fdc84dd760"
      },
      "outputs": [
        {
          "name": "stdout",
          "output_type": "stream",
          "text": [
            "False\n"
          ]
        }
      ],
      "source": [
        "print('arun' in dummy_dict)"
      ]
    },
    {
      "cell_type": "code",
      "execution_count": 44,
      "metadata": {
        "colab": {
          "base_uri": "https://localhost:8080/"
        },
        "id": "BZ8ydb-9uS-C",
        "outputId": "bab189c5-4b79-4a96-93ba-71ff4f6ae30c"
      },
      "outputs": [
        {
          "data": {
            "text/plain": [
              "4"
            ]
          },
          "execution_count": 44,
          "metadata": {},
          "output_type": "execute_result"
        }
      ],
      "source": [
        "len(dummy_dict)"
      ]
    },
    {
      "cell_type": "code",
      "execution_count": 37,
      "metadata": {
        "colab": {
          "base_uri": "https://localhost:8080/"
        },
        "id": "vbxwL7q_ttoJ",
        "outputId": "91949dda-3670-4b73-bfaf-2e8a58665f0e"
      },
      "outputs": [
        {
          "name": "stdout",
          "output_type": "stream",
          "text": [
            "dict_keys(['apple', 'banana', 'orange', 'kiwi'])\n"
          ]
        }
      ],
      "source": [
        "print(dummy_dict.keys())"
      ]
    },
    {
      "cell_type": "code",
      "execution_count": 38,
      "metadata": {
        "colab": {
          "base_uri": "https://localhost:8080/"
        },
        "id": "gZMSL4wZtwhy",
        "outputId": "a365236a-0f46-4ac2-84c8-0ccdb858354c"
      },
      "outputs": [
        {
          "name": "stdout",
          "output_type": "stream",
          "text": [
            "dict_values([5, 7, 3, 10])\n"
          ]
        }
      ],
      "source": [
        "print(dummy_dict.values())"
      ]
    },
    {
      "cell_type": "code",
      "execution_count": 39,
      "metadata": {
        "colab": {
          "base_uri": "https://localhost:8080/"
        },
        "id": "H0vpzaTCtxwh",
        "outputId": "66e4cdb6-59f5-41c7-d08e-b59298ce98fa"
      },
      "outputs": [
        {
          "name": "stdout",
          "output_type": "stream",
          "text": [
            "dict_items([('apple', 5), ('banana', 7), ('orange', 3), ('kiwi', 10)])\n"
          ]
        }
      ],
      "source": [
        "print(dummy_dict.items())"
      ]
    },
    {
      "cell_type": "code",
      "execution_count": 40,
      "metadata": {
        "colab": {
          "base_uri": "https://localhost:8080/"
        },
        "id": "gacl6jbbt2qm",
        "outputId": "3b047b76-2fbc-4466-ae7f-b7a563673ad7"
      },
      "outputs": [
        {
          "data": {
            "text/plain": [
              "dict_items"
            ]
          },
          "execution_count": 40,
          "metadata": {},
          "output_type": "execute_result"
        }
      ],
      "source": [
        "type(dummy_dict.items())"
      ]
    },
    {
      "cell_type": "markdown",
      "metadata": {},
      "source": [
        "\n",
        ":::\n",
        "\n",
        ":::\n"
      ]
    },
    {
      "cell_type": "markdown",
      "metadata": {},
      "source": [
        "\n",
        "::: {.column width=\"50%\"}\n",
        "\n",
        "::: {style=\"font-size: 75%;\"}\n"
      ]
    },
    {
      "cell_type": "code",
      "execution_count": 41,
      "metadata": {
        "colab": {
          "base_uri": "https://localhost:8080/"
        },
        "id": "cqXRO8B_t5mu",
        "outputId": "37bb5573-fa48-431a-e4c6-34f7d85d7716"
      },
      "outputs": [
        {
          "name": "stdout",
          "output_type": "stream",
          "text": [
            "apple\n",
            "5\n",
            "banana\n",
            "7\n",
            "orange\n",
            "3\n",
            "kiwi\n",
            "10\n"
          ]
        }
      ],
      "source": [
        "for key,value in dummy_dict.items():\n",
        "  print(key)\n",
        "  print(value)"
      ]
    },
    {
      "cell_type": "code",
      "execution_count": 42,
      "metadata": {
        "colab": {
          "base_uri": "https://localhost:8080/"
        },
        "id": "KjpB6kKUuBQo",
        "outputId": "75fe224d-88f7-4029-f367-a45bd774e4b2"
      },
      "outputs": [
        {
          "name": "stdout",
          "output_type": "stream",
          "text": [
            "key: apple  value: 5\n",
            "key: banana  value: 7\n",
            "key: orange  value: 3\n",
            "key: kiwi  value: 10\n"
          ]
        }
      ],
      "source": [
        "for key,value in dummy_dict.items():\n",
        "  print(\"key:\",key,\" value:\",value)"
      ]
    },
    {
      "cell_type": "code",
      "execution_count": 45,
      "metadata": {
        "colab": {
          "base_uri": "https://localhost:8080/"
        },
        "id": "vQIv5Dr2uJsG",
        "outputId": "df895e84-b641-4944-e7b2-59a5185f49df"
      },
      "outputs": [
        {
          "data": {
            "text/plain": [
              "{'apple': 5, 'banana': 7, 'orange': 3, 'kiwi': 10}"
            ]
          },
          "execution_count": 45,
          "metadata": {},
          "output_type": "execute_result"
        }
      ],
      "source": [
        "dummy_dict"
      ]
    },
    {
      "cell_type": "code",
      "execution_count": 46,
      "metadata": {
        "colab": {
          "base_uri": "https://localhost:8080/"
        },
        "id": "PZAV4cUcuqEZ",
        "outputId": "3c1e08da-774c-40df-afed-a50eaacf9ea5"
      },
      "outputs": [
        {
          "name": "stdout",
          "output_type": "stream",
          "text": [
            "{'apple': 5, 'banana': 7, 'orange': 3, 'kiwi': 10, 'blackberries': 50}\n"
          ]
        }
      ],
      "source": [
        "dummy_dict[\"blackberries\"] = 50\n",
        "print(dummy_dict)"
      ]
    },
    {
      "cell_type": "markdown",
      "metadata": {},
      "source": [
        "\n",
        ":::\n",
        "\n",
        ":::\n",
        "\n",
        ":::\n"
      ]
    },
    {
      "cell_type": "markdown",
      "metadata": {},
      "source": [
        "## Dictionary Operations and Comprehensions"
      ]
    },
    {
      "cell_type": "markdown",
      "metadata": {},
      "source": [
        "\n",
        "::: columns\n",
        "\n",
        "::: {.column width=\"50%\"}\n",
        "\n",
        "::: {style=\"font-size: 65%;\"}\n"
      ]
    },
    {
      "cell_type": "code",
      "execution_count": 49,
      "metadata": {
        "colab": {
          "base_uri": "https://localhost:8080/"
        },
        "id": "KfCRi6yrux66",
        "outputId": "800f74e5-557f-4d70-9118-6e6b5b831725"
      },
      "outputs": [
        {
          "data": {
            "text/plain": [
              "{'blueberries': 50, 'grapes': 500, 'watermelon': 1}"
            ]
          },
          "execution_count": 49,
          "metadata": {},
          "output_type": "execute_result"
        }
      ],
      "source": [
        "new_dict = {\n",
        "    \"blueberries\" : 50,\n",
        "    \"grapes\" : 500,\n",
        "    \"watermelon\" : 1\n",
        "    }\n",
        "\n",
        "new_dict"
      ]
    },
    {
      "cell_type": "code",
      "execution_count": 50,
      "metadata": {
        "colab": {
          "base_uri": "https://localhost:8080/",
          "height": 141
        },
        "id": "6EGquZjYu-6m",
        "outputId": "a71d26e1-aa2c-4c98-cab0-78cf65c300cd"
      },
      "outputs": [
        {
          "ename": "TypeError",
          "evalue": "unsupported operand type(s) for +: 'dict' and 'dict'",
          "output_type": "error",
          "traceback": [
            "\u001b[0;31m---------------------------------------------------------------------------\u001b[0m",
            "\u001b[0;31mTypeError\u001b[0m                                 Traceback (most recent call last)",
            "\u001b[0;32m<ipython-input-50-5159f89235ff>\u001b[0m in \u001b[0;36m<cell line: 1>\u001b[0;34m()\u001b[0m\n\u001b[0;32m----> 1\u001b[0;31m \u001b[0mdummy_dict\u001b[0m \u001b[0;34m+\u001b[0m \u001b[0mnew_dict\u001b[0m\u001b[0;34m\u001b[0m\u001b[0;34m\u001b[0m\u001b[0m\n\u001b[0m",
            "\u001b[0;31mTypeError\u001b[0m: unsupported operand type(s) for +: 'dict' and 'dict'"
          ]
        }
      ],
      "source": [
        "dummy_dict + new_dict"
      ]
    },
    {
      "cell_type": "code",
      "execution_count": 51,
      "metadata": {
        "id": "AGxfmD7YvG17"
      },
      "outputs": [],
      "source": [
        "dummy_dict.update(new_dict)"
      ]
    },
    {
      "cell_type": "code",
      "execution_count": 52,
      "metadata": {
        "colab": {
          "base_uri": "https://localhost:8080/"
        },
        "id": "MZHQC0SKvNEl",
        "outputId": "3d24a56f-e254-4d08-82f5-84e7d2c52d6f"
      },
      "outputs": [
        {
          "name": "stdout",
          "output_type": "stream",
          "text": [
            "{'apple': 5, 'banana': 7, 'orange': 3, 'kiwi': 10, 'blackberries': 50, 'blueberries': 50, 'grapes': 500, 'watermelon': 1}\n"
          ]
        }
      ],
      "source": [
        "print(dummy_dict)"
      ]
    },
    {
      "cell_type": "code",
      "execution_count": 53,
      "metadata": {
        "colab": {
          "base_uri": "https://localhost:8080/"
        },
        "id": "Him9t5CEvOmJ",
        "outputId": "ea371429-662b-4b34-b8b8-0abd74cea15d"
      },
      "outputs": [
        {
          "data": {
            "text/plain": [
              "1"
            ]
          },
          "execution_count": 53,
          "metadata": {},
          "output_type": "execute_result"
        }
      ],
      "source": [
        "dummy_dict.get(\"watermelon\")"
      ]
    },
    {
      "cell_type": "code",
      "execution_count": 54,
      "metadata": {
        "id": "xtNHdDG1vTNS"
      },
      "outputs": [],
      "source": [
        "dummy_dict.clear()"
      ]
    },
    {
      "cell_type": "code",
      "execution_count": 55,
      "metadata": {
        "colab": {
          "base_uri": "https://localhost:8080/"
        },
        "id": "qp9faDzVvXld",
        "outputId": "67fb8a64-67ae-4bec-c707-187335a76710"
      },
      "outputs": [
        {
          "data": {
            "text/plain": [
              "{}"
            ]
          },
          "execution_count": 55,
          "metadata": {},
          "output_type": "execute_result"
        }
      ],
      "source": [
        "dummy_dict"
      ]
    },
    {
      "cell_type": "markdown",
      "metadata": {},
      "source": [
        "\n",
        ":::\n",
        "\n",
        ":::\n"
      ]
    },
    {
      "cell_type": "markdown",
      "metadata": {},
      "source": [
        "\n",
        "::: {.column width=\"50%\"}\n",
        "\n",
        "::: {style=\"font-size: 60%;\"}\n"
      ]
    },
    {
      "cell_type": "code",
      "execution_count": 56,
      "metadata": {
        "id": "wSIpRkrDvZFd"
      },
      "outputs": [],
      "source": [
        "sentence = \"The cat lounged lazily on the sunlit windowsill, purring contentedly\"\n",
        "letter_focus = 'aeiou'"
      ]
    },
    {
      "cell_type": "code",
      "execution_count": 72,
      "metadata": {
        "colab": {
          "base_uri": "https://localhost:8080/"
        },
        "id": "mr3q-VC1xnJ6",
        "outputId": "b05798f4-1cc0-42e5-81d8-368289034e2a"
      },
      "outputs": [
        {
          "name": "stdout",
          "output_type": "stream",
          "text": [
            "2\n",
            "5\n",
            "5\n",
            "4\n",
            "3\n"
          ]
        }
      ],
      "source": [
        "print(sentence.count('a'))\n",
        "print(sentence.count('e'))\n",
        "print(sentence.count('i'))\n",
        "print(sentence.count('o'))\n",
        "print(sentence.count('u'))"
      ]
    },
    {
      "cell_type": "code",
      "execution_count": 79,
      "metadata": {
        "colab": {
          "base_uri": "https://localhost:8080/"
        },
        "id": "TUqRw7uPxzPZ",
        "outputId": "67ce88dd-a453-474c-b571-571c64e0a4e0"
      },
      "outputs": [
        {
          "name": "stdout",
          "output_type": "stream",
          "text": [
            "a 2\n",
            "e 5\n",
            "i 5\n",
            "o 4\n",
            "u 3\n"
          ]
        }
      ],
      "source": [
        "for letters in letter_focus:\n",
        "  print(letters, sentence.count(letters))"
      ]
    },
    {
      "cell_type": "code",
      "execution_count": 81,
      "metadata": {
        "colab": {
          "base_uri": "https://localhost:8080/"
        },
        "id": "MfdCDJ9rwBS2",
        "outputId": "036df238-3a7e-424e-b32a-87b977889945"
      },
      "outputs": [
        {
          "data": {
            "text/plain": [
              "{'a': 2, 'e': 5, 'i': 5, 'o': 4, 'u': 3}"
            ]
          },
          "execution_count": 81,
          "metadata": {},
          "output_type": "execute_result"
        }
      ],
      "source": [
        "{letter: sentence.count(letter) for letter in letter_focus}"
      ]
    },
    {
      "cell_type": "code",
      "execution_count": 84,
      "metadata": {
        "id": "sEfwEchnyVCH"
      },
      "outputs": [],
      "source": [
        "sentence = \"The cat lounged lazily on the sunlit windowsill, purring contentedly\"\n",
        "letter_focus = 'aeioub'"
      ]
    },
    {
      "cell_type": "code",
      "execution_count": 85,
      "metadata": {
        "colab": {
          "base_uri": "https://localhost:8080/"
        },
        "id": "cgWaXe8KyXQ_",
        "outputId": "e7ce2aeb-c3a4-470f-94e4-fc07d80c31e1"
      },
      "outputs": [
        {
          "data": {
            "text/plain": [
              "{'a': 2, 'e': 5, 'i': 5, 'o': 4, 'u': 3, 'b': 0}"
            ]
          },
          "execution_count": 85,
          "metadata": {},
          "output_type": "execute_result"
        }
      ],
      "source": [
        "{letter: sentence.count(letter) for letter in letter_focus}"
      ]
    },
    {
      "cell_type": "markdown",
      "metadata": {},
      "source": [
        "\n",
        ":::\n",
        "\n",
        ":::\n",
        "\n",
        ":::\n"
      ]
    },
    {
      "cell_type": "markdown",
      "metadata": {},
      "source": [
        "# Thank You \n",
        "<a href=\"https://colab.research.google.com/github/ArunKoundinya/AIBasicswithAK/blob/master/AI_Vlogs/slides/season02/episode10/Dictionaries.ipynb\" target=\"_parent\"><img src=\"https://colab.research.google.com/assets/colab-badge.svg\" alt=\"Open In Colab\"/></a>"
      ]
    }
  ],
  "metadata": {
    "colab": {
      "authorship_tag": "ABX9TyMnlKad8tO2dZq/0nRCKBvj",
      "include_colab_link": true,
      "provenance": []
    },
    "kernelspec": {
      "display_name": "Python 3",
      "name": "python3"
    },
    "language_info": {
      "name": "python"
    }
  },
  "nbformat": 4,
  "nbformat_minor": 0
}
