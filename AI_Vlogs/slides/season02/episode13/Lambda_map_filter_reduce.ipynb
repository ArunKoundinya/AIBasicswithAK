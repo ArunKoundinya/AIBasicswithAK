{
  "cells": [
    {
      "cell_type": "markdown",
      "metadata": {},
      "source": [
        "---\n",
        "title: AI Basics with AK\n",
        "subtitle: Season 02 - Introduction to Python Programming\n",
        "title-slide-attributes:\n",
        "  data-slide-number: none\n",
        "format:\n",
        "  revealjs:\n",
        "    incremental: false\n",
        "auto-stretch: true\n",
        "---"
      ]
    },
    {
      "cell_type": "markdown",
      "metadata": {
        "colab_type": "text",
        "id": "view-in-github"
      },
      "source": [
        "# Episode 13 \n",
        "\n",
        "**FUNCTIONS WITH MAP, REDUCE & FILTER**\n",
        "\n",
        "[Reference](https://medium.com/@utkarshshukla.author/pythons-powerful-trio-map-filter-and-reduce-for-simplifying-data-processing-f4ab79fd076f)"
      ]
    },
    {
      "cell_type": "markdown",
      "metadata": {},
      "source": [
        "## Topics for this Episode\n",
        "\n",
        "-  MAP\n",
        "-  FILTER\n",
        "-  REDUCE"
      ]
    },
    {
      "cell_type": "markdown",
      "metadata": {
        "id": "4sVI6mata6PW"
      },
      "source": [
        "## Map"
      ]
    },
    {
      "cell_type": "markdown",
      "metadata": {},
      "source": [
        "\n",
        "::: columns\n",
        "\n",
        "::: {.column width=\"50%\"}\n",
        "\n",
        "::: {style=\"font-size: 85%;\"}\n"
      ]
    },
    {
      "cell_type": "code",
      "execution_count": 1,
      "metadata": {
        "colab": {
          "base_uri": "https://localhost:8080/"
        },
        "id": "Mc3ZemYVWg6H",
        "outputId": "968f846a-05c7-41bb-8dfa-64b446292831"
      },
      "outputs": [
        {
          "data": {
            "text/plain": [
              "28.26"
            ]
          },
          "execution_count": 1,
          "metadata": {},
          "output_type": "execute_result"
        }
      ],
      "source": [
        "area_of_circle = lambda radius :  3.14 * radius ** 2\n",
        "area_of_circle(3)"
      ]
    },
    {
      "cell_type": "code",
      "execution_count": 4,
      "metadata": {
        "colab": {
          "base_uri": "https://localhost:8080/"
        },
        "id": "sM-xU4UpYaUa",
        "outputId": "c7bcbced-03d7-4d45-c540-fd128e1bbab1"
      },
      "outputs": [
        {
          "data": {
            "text/plain": [
              "[3.14, 28.26, 50.24, 78.5]"
            ]
          },
          "execution_count": 4,
          "metadata": {},
          "output_type": "execute_result"
        }
      ],
      "source": [
        "findarea = [1,3,4,5]\n",
        "\n",
        "[area_of_circle(i)for i in findarea]"
      ]
    },
    {
      "cell_type": "code",
      "execution_count": 6,
      "metadata": {
        "colab": {
          "base_uri": "https://localhost:8080/"
        },
        "id": "SRIv_WoAZJB6",
        "outputId": "ba38c593-c4d9-4875-9132-b13167de2afc"
      },
      "outputs": [
        {
          "data": {
            "text/plain": [
              "[3.14, 28.26, 50.24, 78.5]"
            ]
          },
          "execution_count": 6,
          "metadata": {},
          "output_type": "execute_result"
        }
      ],
      "source": [
        "list(map(area_of_circle,findarea))"
      ]
    },
    {
      "cell_type": "code",
      "execution_count": 7,
      "metadata": {
        "colab": {
          "base_uri": "https://localhost:8080/"
        },
        "id": "CXY3FL1UZWtI",
        "outputId": "d1ccc4a9-8ceb-40f6-8af8-72d7f756febd"
      },
      "outputs": [
        {
          "data": {
            "text/plain": [
              "[3.14, 28.26, 50.24, 78.5]"
            ]
          },
          "execution_count": 7,
          "metadata": {},
          "output_type": "execute_result"
        }
      ],
      "source": [
        "list(map(lambda radius :  3.14 * radius ** 2,findarea))"
      ]
    },
    {
      "cell_type": "markdown",
      "metadata": {},
      "source": [
        "\n",
        ":::\n",
        "\n",
        ":::\n"
      ]
    },
    {
      "cell_type": "markdown",
      "metadata": {},
      "source": [
        "\n",
        "::: {.column width=\"50%\"}\n",
        "\n",
        "::: {style=\"font-size: 85%;\"}\n"
      ]
    },
    {
      "cell_type": "code",
      "execution_count": 8,
      "metadata": {
        "id": "Imq1K0bVZfKL"
      },
      "outputs": [],
      "source": [
        "def my_def_cirlce(radius):\n",
        "    radius = radius + 10\n",
        "    radius = radius * 10\n",
        "    radius = radius /10\n",
        "    radius = radius - 10\n",
        "    return 3.14 * radius ** 2"
      ]
    },
    {
      "cell_type": "code",
      "execution_count": 22,
      "metadata": {
        "colab": {
          "base_uri": "https://localhost:8080/"
        },
        "id": "VJjhTPvKaJFU",
        "outputId": "b897487b-4c9e-4dac-a91c-fd4a2f3a20ab"
      },
      "outputs": [
        {
          "name": "stdout",
          "output_type": "stream",
          "text": [
            "[3.14, 28.26, 50.24, 78.5]\n"
          ]
        }
      ],
      "source": [
        "print(list(map(my_def_cirlce,findarea)))\n"
      ]
    },
    {
      "cell_type": "code",
      "execution_count": 23,
      "metadata": {
        "colab": {
          "base_uri": "https://localhost:8080/"
        },
        "id": "gxZkAy0KaNbT",
        "outputId": "c9254675-e11c-42b1-859f-7bdaa83899a2"
      },
      "outputs": [
        {
          "data": {
            "text/plain": [
              "[3.14, 28.26, 50.24, 78.5]"
            ]
          },
          "execution_count": 23,
          "metadata": {},
          "output_type": "execute_result"
        }
      ],
      "source": [
        "[my_def_cirlce(i)for i in findarea]"
      ]
    },
    {
      "cell_type": "markdown",
      "metadata": {},
      "source": [
        "\n",
        ":::\n",
        "\n",
        ":::\n",
        "\n",
        ":::\n"
      ]
    },
    {
      "cell_type": "markdown",
      "metadata": {
        "id": "9hF47gF5bM_z"
      },
      "source": [
        "## Filter"
      ]
    },
    {
      "cell_type": "markdown",
      "metadata": {},
      "source": [
        "\n",
        "::: columns\n",
        "\n",
        "::: {.column width=\"50%\"}\n",
        "\n",
        "::: {style=\"font-size: 85%;\"}\n"
      ]
    },
    {
      "cell_type": "code",
      "execution_count": null,
      "metadata": {
        "colab": {
          "base_uri": "https://localhost:8080/"
        },
        "id": "cWml-k--bPFc",
        "outputId": "d659950e-ca4d-4bbd-8b4f-6f6737d3e9b9"
      },
      "outputs": [
        {
          "name": "stdout",
          "output_type": "stream",
          "text": [
            "UsingFunction: True\n",
            "Using_LambdaFunction: True\n"
          ]
        }
      ],
      "source": [
        "def is_even(num):\n",
        "  return num % 2 == 0\n",
        "\n",
        "print(\"UsingFunction:\",is_even(4))\n",
        "is_even = lambda num: num % 2 == 0\n",
        "print(\"Using_LambdaFunction:\",is_even(4))"
      ]
    },
    {
      "cell_type": "code",
      "execution_count": 27,
      "metadata": {
        "colab": {
          "base_uri": "https://localhost:8080/"
        },
        "id": "9hCPhAnObUoh",
        "outputId": "ce0688e1-7803-42d4-fbab-f33f775fe529"
      },
      "outputs": [
        {
          "data": {
            "text/plain": [
              "[4, 6, 8]"
            ]
          },
          "execution_count": 27,
          "metadata": {},
          "output_type": "execute_result"
        }
      ],
      "source": [
        "filtereven = [1,3,4,5,6,7,8]\n",
        "\n",
        "[i for i in filtereven if is_even(i)]"
      ]
    },
    {
      "cell_type": "markdown",
      "metadata": {},
      "source": [
        "\n",
        ":::\n",
        "\n",
        ":::\n"
      ]
    },
    {
      "cell_type": "markdown",
      "metadata": {},
      "source": [
        "\n",
        "::: {.column width=\"50%\"}\n",
        "\n",
        "::: {style=\"font-size: 85%;\"}\n"
      ]
    },
    {
      "cell_type": "code",
      "execution_count": 32,
      "metadata": {
        "colab": {
          "base_uri": "https://localhost:8080/"
        },
        "id": "8XV8o20xbd6z",
        "outputId": "3b9a49ed-78e4-480e-ee04-5a73a7ebbf7f"
      },
      "outputs": [
        {
          "data": {
            "text/plain": [
              "[4, 6, 8]"
            ]
          },
          "execution_count": 32,
          "metadata": {},
          "output_type": "execute_result"
        }
      ],
      "source": [
        "list(filter(is_even,filtereven))"
      ]
    },
    {
      "cell_type": "code",
      "execution_count": 30,
      "metadata": {
        "colab": {
          "base_uri": "https://localhost:8080/"
        },
        "id": "twFtZ9GYcydo",
        "outputId": "eefe9556-6188-40fb-9eea-b45546132098"
      },
      "outputs": [
        {
          "data": {
            "text/plain": [
              "[4, 6, 8]"
            ]
          },
          "execution_count": 30,
          "metadata": {},
          "output_type": "execute_result"
        }
      ],
      "source": [
        "list(filter(lambda num: num % 2 == 0,filtereven))"
      ]
    },
    {
      "cell_type": "code",
      "execution_count": 33,
      "metadata": {
        "colab": {
          "base_uri": "https://localhost:8080/"
        },
        "id": "mbJVY6mac4Zs",
        "outputId": "4bde44a5-958b-40f9-cf8a-8d28056e9fc7"
      },
      "outputs": [
        {
          "data": {
            "text/plain": [
              "[False, False, True, False, True, False, True]"
            ]
          },
          "execution_count": 33,
          "metadata": {},
          "output_type": "execute_result"
        }
      ],
      "source": [
        "list(map(is_even,filtereven))"
      ]
    },
    {
      "cell_type": "markdown",
      "metadata": {},
      "source": [
        "\n",
        ":::\n",
        "\n",
        ":::\n",
        "\n",
        ":::\n"
      ]
    },
    {
      "cell_type": "markdown",
      "metadata": {
        "id": "ua5mHAVZdKu1"
      },
      "source": [
        "## Reduce"
      ]
    },
    {
      "cell_type": "markdown",
      "metadata": {},
      "source": [
        "\n",
        "::: columns\n",
        "\n",
        "::: {.column width=\"50%\"}\n",
        "\n",
        "::: {style=\"font-size: 85%;\"}\n"
      ]
    },
    {
      "cell_type": "code",
      "execution_count": 35,
      "metadata": {
        "colab": {
          "base_uri": "https://localhost:8080/"
        },
        "id": "AjQdwdH2dMR_",
        "outputId": "1748c837-7c48-415b-c196-a5321b233854"
      },
      "outputs": [
        {
          "name": "stdout",
          "output_type": "stream",
          "text": [
            "3\n"
          ]
        }
      ],
      "source": [
        "my_sum = lambda num1,num2: num1+num2\n",
        "print(my_sum(1, 2))"
      ]
    },
    {
      "cell_type": "code",
      "execution_count": 36,
      "metadata": {
        "colab": {
          "base_uri": "https://localhost:8080/"
        },
        "id": "ULUUn2MIdWPf",
        "outputId": "e20f2218-4abe-4ac2-e7de-321325e17c7d"
      },
      "outputs": [
        {
          "name": "stdout",
          "output_type": "stream",
          "text": [
            "21\n"
          ]
        }
      ],
      "source": [
        "add_this = [1,2,3,4,5,6]\n",
        "\n",
        "sum = 0\n",
        "for i in add_this:\n",
        "  sum = i + sum\n",
        "print(sum)"
      ]
    },
    {
      "cell_type": "code",
      "execution_count": 37,
      "metadata": {
        "colab": {
          "base_uri": "https://localhost:8080/"
        },
        "id": "jxAt4c5fdxmc",
        "outputId": "016b13c2-dcb4-43c8-be69-b66320789d9d"
      },
      "outputs": [
        {
          "data": {
            "text/plain": [
              "21"
            ]
          },
          "execution_count": 37,
          "metadata": {},
          "output_type": "execute_result"
        }
      ],
      "source": [
        "from functools import reduce\n",
        "reduce(my_sum,add_this)"
      ]
    },
    {
      "cell_type": "markdown",
      "metadata": {},
      "source": [
        "\n",
        ":::\n",
        "\n",
        ":::\n"
      ]
    },
    {
      "cell_type": "markdown",
      "metadata": {},
      "source": [
        "\n",
        "::: {.column width=\"50%\"}\n",
        "\n",
        "::: {style=\"font-size: 85%;\"}\n"
      ]
    },
    {
      "cell_type": "code",
      "execution_count": 38,
      "metadata": {
        "colab": {
          "base_uri": "https://localhost:8080/"
        },
        "id": "McnB7Wngd1JR",
        "outputId": "374bb1cf-c65a-4ca2-f5ed-44e2a7b4ca67"
      },
      "outputs": [
        {
          "data": {
            "text/plain": [
              "720"
            ]
          },
          "execution_count": 38,
          "metadata": {},
          "output_type": "execute_result"
        }
      ],
      "source": [
        "reduce(lambda x,y : x*y,add_this)"
      ]
    },
    {
      "cell_type": "markdown",
      "metadata": {
        "id": "IrXHQbx3d_aU"
      },
      "source": [
        "::: {style=\"font-size: 60%;\"}\n",
        "\n",
        "This became a factorial!\n",
        "\n",
        ":::"
      ]
    },
    {
      "cell_type": "code",
      "execution_count": 39,
      "metadata": {
        "colab": {
          "base_uri": "https://localhost:8080/",
          "height": 141
        },
        "id": "5Dsu1rgId7ad",
        "outputId": "fbfd3dfe-d099-4e48-9855-0d68b1486223"
      },
      "outputs": [
        {
          "ename": "TypeError",
          "evalue": "<lambda>() missing 1 required positional argument: 'num2'",
          "output_type": "error",
          "traceback": [
            "\u001b[0;31m---------------------------------------------------------------------------\u001b[0m",
            "\u001b[0;31mTypeError\u001b[0m                                 Traceback (most recent call last)",
            "\u001b[0;32m<ipython-input-39-eb7aa6273f11>\u001b[0m in \u001b[0;36m<cell line: 1>\u001b[0;34m()\u001b[0m\n\u001b[0;32m----> 1\u001b[0;31m \u001b[0mlist\u001b[0m\u001b[0;34m(\u001b[0m\u001b[0mmap\u001b[0m\u001b[0;34m(\u001b[0m\u001b[0mmy_sum\u001b[0m\u001b[0;34m,\u001b[0m\u001b[0madd_this\u001b[0m\u001b[0;34m)\u001b[0m\u001b[0;34m)\u001b[0m\u001b[0;34m\u001b[0m\u001b[0;34m\u001b[0m\u001b[0m\n\u001b[0m",
            "\u001b[0;31mTypeError\u001b[0m: <lambda>() missing 1 required positional argument: 'num2'"
          ]
        }
      ],
      "source": [
        "list(map(my_sum,add_this))"
      ]
    },
    {
      "cell_type": "code",
      "execution_count": 40,
      "metadata": {
        "colab": {
          "base_uri": "https://localhost:8080/",
          "height": 141
        },
        "id": "bZHhvU5OeJj3",
        "outputId": "07704e33-d45c-4eab-c944-387c6d505403"
      },
      "outputs": [
        {
          "ename": "TypeError",
          "evalue": "<lambda>() missing 1 required positional argument: 'num2'",
          "output_type": "error",
          "traceback": [
            "\u001b[0;31m---------------------------------------------------------------------------\u001b[0m",
            "\u001b[0;31mTypeError\u001b[0m                                 Traceback (most recent call last)",
            "\u001b[0;32m<ipython-input-40-0188919b4b20>\u001b[0m in \u001b[0;36m<cell line: 1>\u001b[0;34m()\u001b[0m\n\u001b[0;32m----> 1\u001b[0;31m \u001b[0mlist\u001b[0m\u001b[0;34m(\u001b[0m\u001b[0mfilter\u001b[0m\u001b[0;34m(\u001b[0m\u001b[0mmy_sum\u001b[0m\u001b[0;34m,\u001b[0m\u001b[0madd_this\u001b[0m\u001b[0;34m)\u001b[0m\u001b[0;34m)\u001b[0m\u001b[0;34m\u001b[0m\u001b[0;34m\u001b[0m\u001b[0m\n\u001b[0m",
            "\u001b[0;31mTypeError\u001b[0m: <lambda>() missing 1 required positional argument: 'num2'"
          ]
        }
      ],
      "source": [
        "list(filter(my_sum,add_this))"
      ]
    },
    {
      "cell_type": "code",
      "execution_count": 42,
      "metadata": {
        "colab": {
          "base_uri": "https://localhost:8080/",
          "height": 141
        },
        "id": "JRikQpROeQqf",
        "outputId": "fbe682ff-7fb2-4228-83c0-b65101ddc920"
      },
      "outputs": [
        {
          "ename": "TypeError",
          "evalue": "<lambda>() missing 1 required positional argument: 'z'",
          "output_type": "error",
          "traceback": [
            "\u001b[0;31m---------------------------------------------------------------------------\u001b[0m",
            "\u001b[0;31mTypeError\u001b[0m                                 Traceback (most recent call last)",
            "\u001b[0;32m<ipython-input-42-385b668d4c68>\u001b[0m in \u001b[0;36m<cell line: 1>\u001b[0;34m()\u001b[0m\n\u001b[0;32m----> 1\u001b[0;31m \u001b[0mreduce\u001b[0m\u001b[0;34m(\u001b[0m\u001b[0;32mlambda\u001b[0m \u001b[0mx\u001b[0m\u001b[0;34m,\u001b[0m\u001b[0my\u001b[0m\u001b[0;34m,\u001b[0m\u001b[0mz\u001b[0m \u001b[0;34m:\u001b[0m \u001b[0mx\u001b[0m\u001b[0;34m*\u001b[0m\u001b[0my\u001b[0m\u001b[0;34m*\u001b[0m\u001b[0mz\u001b[0m\u001b[0;34m,\u001b[0m\u001b[0madd_this\u001b[0m\u001b[0;34m)\u001b[0m\u001b[0;34m\u001b[0m\u001b[0;34m\u001b[0m\u001b[0m\n\u001b[0m",
            "\u001b[0;31mTypeError\u001b[0m: <lambda>() missing 1 required positional argument: 'z'"
          ]
        }
      ],
      "source": [
        "reduce(lambda x,y,z : x*y*z,add_this)"
      ]
    },
    {
      "cell_type": "markdown",
      "metadata": {},
      "source": [
        "\n",
        ":::\n",
        "\n",
        ":::\n",
        "\n",
        ":::\n"
      ]
    },
    {
      "cell_type": "markdown",
      "metadata": {},
      "source": [
        "# Thank You\n",
        "<a href=\"https://colab.research.google.com/github/ArunKoundinya/AIBasicswithAK/blob/master/AI_Vlogs/slides/season02/episode13/Lambda_map_filter_reduce.ipynb\" target=\"_parent\"><img src=\"https://colab.research.google.com/assets/colab-badge.svg\" alt=\"Open In Colab\"/></a>"
      ]
    }
  ],
  "metadata": {
    "colab": {
      "authorship_tag": "ABX9TyNCf6d0glBZZzXf1btiol1r",
      "include_colab_link": true,
      "provenance": []
    },
    "kernelspec": {
      "display_name": "Python 3",
      "name": "python3"
    },
    "language_info": {
      "name": "python"
    }
  },
  "nbformat": 4,
  "nbformat_minor": 0
}
