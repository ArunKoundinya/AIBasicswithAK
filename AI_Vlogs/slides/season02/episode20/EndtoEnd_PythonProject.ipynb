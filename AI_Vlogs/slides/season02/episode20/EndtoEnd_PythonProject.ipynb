{
  "nbformat": 4,
  "nbformat_minor": 0,
  "metadata": {
    "colab": {
      "provenance": [],
      "authorship_tag": "ABX9TyPCR5Pi9N4JFtA7F11vUbLo",
      "include_colab_link": true
    },
    "kernelspec": {
      "name": "python3",
      "display_name": "Python 3"
    },
    "language_info": {
      "name": "python"
    }
  },
  "cells": [
    {
      "cell_type": "markdown",
      "metadata": {
        "id": "view-in-github",
        "colab_type": "text"
      },
      "source": [
        "<a href=\"https://colab.research.google.com/github/ArunKoundinya/AIBasicswithAK/blob/master/AI_Vlogs/slides/season02/episode20/EndtoEnd_PythonProject.ipynb\" target=\"_parent\"><img src=\"https://colab.research.google.com/assets/colab-badge.svg\" alt=\"Open In Colab\"/></a>"
      ]
    },
    {
      "cell_type": "markdown",
      "source": [
        "##AIBasicswithAK\n",
        "###EPISODE-20\n",
        "###END TO END PROECT"
      ],
      "metadata": {
        "id": "NdhP3I47XCsn"
      }
    },
    {
      "cell_type": "markdown",
      "source": [
        "##Simple Pizza Ordering System\n",
        "\n",
        "Basic Steps\n",
        "\n",
        "-  View the pizza menu\n",
        "-  Select pizzas they want to order\n",
        "-  Get the final total bill amount"
      ],
      "metadata": {
        "id": "h7IPrSZuVXBL"
      }
    },
    {
      "cell_type": "code",
      "execution_count": 1,
      "metadata": {
        "id": "DQtNLZnIU2uN"
      },
      "outputs": [],
      "source": [
        "pizza_menu = {\n",
        "    \"margherita\" : 8.99,\n",
        "    \"pepperoni\" : 10.99,\n",
        "    \"vegetarian\" : 12.99,\n",
        "    \"hawaiian\" : 11.00,\n",
        "    \"bbq_chicken\": 11.54\n",
        "}"
      ]
    },
    {
      "cell_type": "code",
      "source": [
        "pizza_menu"
      ],
      "metadata": {
        "colab": {
          "base_uri": "https://localhost:8080/"
        },
        "id": "VuNd65IOqBg5",
        "outputId": "28bccd1b-b089-4670-bb03-753e6da13452"
      },
      "execution_count": 2,
      "outputs": [
        {
          "output_type": "execute_result",
          "data": {
            "text/plain": [
              "{'margherita': 8.99,\n",
              " 'pepperoni': 10.99,\n",
              " 'vegetarian': 12.99,\n",
              " 'hawaiian': 11.0,\n",
              " 'bbq_chicken': 11.54}"
            ]
          },
          "metadata": {},
          "execution_count": 2
        }
      ]
    },
    {
      "cell_type": "code",
      "source": [
        "for pizza, price in pizza_menu.items():\n",
        "  print(f\"{pizza} : ${price}\")"
      ],
      "metadata": {
        "colab": {
          "base_uri": "https://localhost:8080/"
        },
        "id": "Z7NowKBkqDaT",
        "outputId": "4fc96a80-f66a-43a1-913d-7d74875f861d"
      },
      "execution_count": 6,
      "outputs": [
        {
          "output_type": "stream",
          "name": "stdout",
          "text": [
            "margherita : $8.99\n",
            "pepperoni : $10.99\n",
            "vegetarian : $12.99\n",
            "hawaiian : $11.0\n",
            "bbq_chicken : $11.54\n"
          ]
        }
      ]
    },
    {
      "cell_type": "code",
      "source": [
        "print(\"\\n --------- PIZZA ORDERING SYSTEM --------- \\n\")\n",
        "for pizza, price in pizza_menu.items():\n",
        "  print(f\"{pizza} : ${price}\")"
      ],
      "metadata": {
        "colab": {
          "base_uri": "https://localhost:8080/"
        },
        "id": "yELAE131qJZg",
        "outputId": "0d34cf95-14fc-481e-e5e7-76fb5ccb0478"
      },
      "execution_count": 7,
      "outputs": [
        {
          "output_type": "stream",
          "name": "stdout",
          "text": [
            "\n",
            " --------- PIZZA ORDERING SYSTEM --------- \n",
            "\n",
            "margherita : $8.99\n",
            "pepperoni : $10.99\n",
            "vegetarian : $12.99\n",
            "hawaiian : $11.0\n",
            "bbq_chicken : $11.54\n"
          ]
        }
      ]
    },
    {
      "cell_type": "code",
      "source": [
        "def show_menu(pizza_menu):\n",
        "  print(\"\\n --------- PIZZA ORDERING SYSTEM --------- \\n\")\n",
        "  for pizza, price in pizza_menu.items():\n",
        "    print(f\"{pizza} : ${price}\")"
      ],
      "metadata": {
        "id": "cPFKstONqpk-"
      },
      "execution_count": 8,
      "outputs": []
    },
    {
      "cell_type": "code",
      "source": [
        "show_menu(pizza_menu)"
      ],
      "metadata": {
        "colab": {
          "base_uri": "https://localhost:8080/"
        },
        "id": "hHzfzB0yqzS4",
        "outputId": "7eba0543-9a68-4f69-e121-9d44cf3c6d28"
      },
      "execution_count": 9,
      "outputs": [
        {
          "output_type": "stream",
          "name": "stdout",
          "text": [
            "\n",
            " --------- PIZZA ORDERING SYSTEM --------- \n",
            "\n",
            "margherita : $8.99\n",
            "pepperoni : $10.99\n",
            "vegetarian : $12.99\n",
            "hawaiian : $11.0\n",
            "bbq_chicken : $11.54\n"
          ]
        }
      ]
    },
    {
      "cell_type": "code",
      "source": [
        "pizza_menu = {\n",
        "    \"margherita\" : 8.99,\n",
        "    \"pepperoni\" : 10.99,\n",
        "    \"vegetarian\" : 12.99,\n",
        "    \"hawaiian\" : 11.00,\n",
        "    \"bbq_chicken\": 11.54,\n",
        "    \"panner_tikka\" : 13.99\n",
        "}"
      ],
      "metadata": {
        "id": "EKIvHrr_q1rc"
      },
      "execution_count": 10,
      "outputs": []
    },
    {
      "cell_type": "code",
      "source": [
        "show_menu(pizza_menu)"
      ],
      "metadata": {
        "colab": {
          "base_uri": "https://localhost:8080/"
        },
        "id": "UfkqhH_5rI6U",
        "outputId": "7011f4fa-a576-455a-98b8-7cdc2fb2fca7"
      },
      "execution_count": 11,
      "outputs": [
        {
          "output_type": "stream",
          "name": "stdout",
          "text": [
            "\n",
            " --------- PIZZA ORDERING SYSTEM --------- \n",
            "\n",
            "margherita : $8.99\n",
            "pepperoni : $10.99\n",
            "vegetarian : $12.99\n",
            "hawaiian : $11.0\n",
            "bbq_chicken : $11.54\n",
            "panner_tikka : $13.99\n"
          ]
        }
      ]
    },
    {
      "cell_type": "code",
      "source": [
        "input()"
      ],
      "metadata": {
        "colab": {
          "base_uri": "https://localhost:8080/",
          "height": 53
        },
        "id": "Ygj4dAQSrJ9G",
        "outputId": "45dffdba-4cd9-4642-c0a1-668ab0f479db"
      },
      "execution_count": 12,
      "outputs": [
        {
          "name": "stdout",
          "output_type": "stream",
          "text": [
            " margherita\n"
          ]
        },
        {
          "output_type": "execute_result",
          "data": {
            "text/plain": [
              "' margherita'"
            ],
            "application/vnd.google.colaboratory.intrinsic+json": {
              "type": "string"
            }
          },
          "metadata": {},
          "execution_count": 12
        }
      ]
    },
    {
      "cell_type": "code",
      "source": [
        "seleted_pizza = input()"
      ],
      "metadata": {
        "colab": {
          "base_uri": "https://localhost:8080/"
        },
        "id": "M1u7oQwirWSS",
        "outputId": "81da8aa0-54af-498d-9838-9c3383bbcf3d"
      },
      "execution_count": 13,
      "outputs": [
        {
          "name": "stdout",
          "output_type": "stream",
          "text": [
            "margherita\n"
          ]
        }
      ]
    },
    {
      "cell_type": "code",
      "source": [
        "seleted_pizza"
      ],
      "metadata": {
        "colab": {
          "base_uri": "https://localhost:8080/",
          "height": 35
        },
        "id": "Mrov_GI7rdnS",
        "outputId": "0fc9d3e3-af0d-4beb-d7a0-cc21b3862b46"
      },
      "execution_count": 14,
      "outputs": [
        {
          "output_type": "execute_result",
          "data": {
            "text/plain": [
              "'margherita'"
            ],
            "application/vnd.google.colaboratory.intrinsic+json": {
              "type": "string"
            }
          },
          "metadata": {},
          "execution_count": 14
        }
      ]
    },
    {
      "cell_type": "code",
      "source": [
        "selected_pizza = input(\"What pizza would you like to order? \")"
      ],
      "metadata": {
        "colab": {
          "base_uri": "https://localhost:8080/"
        },
        "id": "YWaB5nRSrg34",
        "outputId": "c7347879-c037-4e98-8917-cc6a7e71e0f2"
      },
      "execution_count": 15,
      "outputs": [
        {
          "name": "stdout",
          "output_type": "stream",
          "text": [
            "What pizza would you like to order? vegeterian\n"
          ]
        }
      ]
    },
    {
      "cell_type": "code",
      "source": [
        "def take_order():\n",
        "  selected_pizza = input(\"What pizza would you like to order? \")\n",
        "  return selected_pizza"
      ],
      "metadata": {
        "id": "QAHgnZtArveg"
      },
      "execution_count": 16,
      "outputs": []
    },
    {
      "cell_type": "code",
      "source": [
        "mypizza = take_order()"
      ],
      "metadata": {
        "colab": {
          "base_uri": "https://localhost:8080/"
        },
        "id": "Mu9ZQlRssInY",
        "outputId": "a5d0ac86-7322-4002-846f-1f61bb7b0ecc"
      },
      "execution_count": 17,
      "outputs": [
        {
          "name": "stdout",
          "output_type": "stream",
          "text": [
            "What pizza would you like to order? paneer_tikka\n"
          ]
        }
      ]
    },
    {
      "cell_type": "code",
      "source": [
        "mypizza"
      ],
      "metadata": {
        "colab": {
          "base_uri": "https://localhost:8080/",
          "height": 35
        },
        "id": "ZKGc3VkZsRzI",
        "outputId": "2a3187bf-9dec-4bd4-9701-318440442d44"
      },
      "execution_count": 18,
      "outputs": [
        {
          "output_type": "execute_result",
          "data": {
            "text/plain": [
              "'paneer_tikka'"
            ],
            "application/vnd.google.colaboratory.intrinsic+json": {
              "type": "string"
            }
          },
          "metadata": {},
          "execution_count": 18
        }
      ]
    },
    {
      "cell_type": "code",
      "source": [
        "pizza_menu[\"panner_tikka\"]"
      ],
      "metadata": {
        "colab": {
          "base_uri": "https://localhost:8080/"
        },
        "id": "FKlDK_NasUj1",
        "outputId": "9e3eab71-09dd-4495-ec0f-0e9e86bdd10f"
      },
      "execution_count": 19,
      "outputs": [
        {
          "output_type": "execute_result",
          "data": {
            "text/plain": [
              "13.99"
            ]
          },
          "metadata": {},
          "execution_count": 19
        }
      ]
    },
    {
      "cell_type": "code",
      "source": [
        "pizza_menu[mypizza]"
      ],
      "metadata": {
        "colab": {
          "base_uri": "https://localhost:8080/",
          "height": 141
        },
        "id": "QudCroO3scJT",
        "outputId": "4f838286-2cdf-42ab-8725-5db4b98ad0a4"
      },
      "execution_count": 21,
      "outputs": [
        {
          "output_type": "error",
          "ename": "KeyError",
          "evalue": "'paneer_tikka'",
          "traceback": [
            "\u001b[0;31m---------------------------------------------------------------------------\u001b[0m",
            "\u001b[0;31mKeyError\u001b[0m                                  Traceback (most recent call last)",
            "\u001b[0;32m<ipython-input-21-d83c06aedebf>\u001b[0m in \u001b[0;36m<cell line: 0>\u001b[0;34m()\u001b[0m\n\u001b[0;32m----> 1\u001b[0;31m \u001b[0mpizza_menu\u001b[0m\u001b[0;34m[\u001b[0m\u001b[0mmypizza\u001b[0m\u001b[0;34m]\u001b[0m\u001b[0;34m\u001b[0m\u001b[0;34m\u001b[0m\u001b[0m\n\u001b[0m",
            "\u001b[0;31mKeyError\u001b[0m: 'paneer_tikka'"
          ]
        }
      ]
    },
    {
      "cell_type": "code",
      "source": [
        "def show_menu(pizza_menu):\n",
        "  counter=1\n",
        "  print(\"\\n --------- PIZZA ORDERING SYSTEM --------- \\n\")\n",
        "  for pizza, price in pizza_menu.items():\n",
        "    print(f\"{counter} - {pizza} : ${price}\")\n",
        "    counter = counter + 1"
      ],
      "metadata": {
        "id": "KZto6lwktYDg"
      },
      "execution_count": 33,
      "outputs": []
    },
    {
      "cell_type": "code",
      "source": [
        "show_menu(pizza_menu)"
      ],
      "metadata": {
        "colab": {
          "base_uri": "https://localhost:8080/"
        },
        "id": "KPF43FQQt3YC",
        "outputId": "53836c47-95db-42d6-f027-70465b18dbe7"
      },
      "execution_count": 34,
      "outputs": [
        {
          "output_type": "stream",
          "name": "stdout",
          "text": [
            "\n",
            " --------- PIZZA ORDERING SYSTEM --------- \n",
            "\n",
            "1 - margherita : $8.99\n",
            "2 - pepperoni : $10.99\n",
            "3 - vegetarian : $12.99\n",
            "4 - hawaiian : $11.0\n",
            "5 - bbq_chicken : $11.54\n",
            "6 - panner_tikka : $13.99\n"
          ]
        }
      ]
    },
    {
      "cell_type": "code",
      "source": [
        "selected_pizza = input(\"What pizza would you like to order; Ente ther serial number? \")"
      ],
      "metadata": {
        "colab": {
          "base_uri": "https://localhost:8080/"
        },
        "id": "8PRXvozxt5v5",
        "outputId": "3b59d432-11f9-4320-dd0c-560e3301429b"
      },
      "execution_count": 52,
      "outputs": [
        {
          "name": "stdout",
          "output_type": "stream",
          "text": [
            "What pizza would you like to order; Ente ther serial number? 4\n"
          ]
        }
      ]
    },
    {
      "cell_type": "code",
      "source": [
        "selected_pizza"
      ],
      "metadata": {
        "colab": {
          "base_uri": "https://localhost:8080/",
          "height": 35
        },
        "id": "hXc9qSXMuAgf",
        "outputId": "d7ff8921-91f1-46c1-ab6b-a691637b3cda"
      },
      "execution_count": 53,
      "outputs": [
        {
          "output_type": "execute_result",
          "data": {
            "text/plain": [
              "'4'"
            ],
            "application/vnd.google.colaboratory.intrinsic+json": {
              "type": "string"
            }
          },
          "metadata": {},
          "execution_count": 53
        }
      ]
    },
    {
      "cell_type": "code",
      "source": [
        "pizza_menu.keys()"
      ],
      "metadata": {
        "colab": {
          "base_uri": "https://localhost:8080/"
        },
        "id": "RrluDpJduDUg",
        "outputId": "3164aa4a-8939-42d3-ccbc-1467bf4248bf"
      },
      "execution_count": 37,
      "outputs": [
        {
          "output_type": "execute_result",
          "data": {
            "text/plain": [
              "dict_keys(['margherita', 'pepperoni', 'vegetarian', 'hawaiian', 'bbq_chicken', 'panner_tikka'])"
            ]
          },
          "metadata": {},
          "execution_count": 37
        }
      ]
    },
    {
      "cell_type": "code",
      "source": [
        "pizza_menu.values()"
      ],
      "metadata": {
        "colab": {
          "base_uri": "https://localhost:8080/"
        },
        "id": "R10LpVg7uJFn",
        "outputId": "0c6ddaa8-4e49-4b15-9548-d906e5ebbb9c"
      },
      "execution_count": 38,
      "outputs": [
        {
          "output_type": "execute_result",
          "data": {
            "text/plain": [
              "dict_values([8.99, 10.99, 12.99, 11.0, 11.54, 13.99])"
            ]
          },
          "metadata": {},
          "execution_count": 38
        }
      ]
    },
    {
      "cell_type": "code",
      "source": [
        "list(pizza_menu.values())"
      ],
      "metadata": {
        "colab": {
          "base_uri": "https://localhost:8080/"
        },
        "id": "YxzHcROVuMuK",
        "outputId": "33b61d6e-f7ac-4483-9ba8-3d89b42b5ee0"
      },
      "execution_count": 39,
      "outputs": [
        {
          "output_type": "execute_result",
          "data": {
            "text/plain": [
              "[8.99, 10.99, 12.99, 11.0, 11.54, 13.99]"
            ]
          },
          "metadata": {},
          "execution_count": 39
        }
      ]
    },
    {
      "cell_type": "code",
      "source": [
        "list(pizza_menu.values())[4-1]"
      ],
      "metadata": {
        "colab": {
          "base_uri": "https://localhost:8080/"
        },
        "id": "2IfzeSmHuP5i",
        "outputId": "60f1fc2b-d907-4272-bb94-a7f63af3761b"
      },
      "execution_count": 54,
      "outputs": [
        {
          "output_type": "execute_result",
          "data": {
            "text/plain": [
              "11.0"
            ]
          },
          "metadata": {},
          "execution_count": 54
        }
      ]
    },
    {
      "cell_type": "code",
      "source": [
        "list(pizza_menu.values())[selected_pizza-1]"
      ],
      "metadata": {
        "colab": {
          "base_uri": "https://localhost:8080/",
          "height": 141
        },
        "id": "bMGkxPiduXV0",
        "outputId": "e5065ec6-747f-4580-b46b-d356bf2163a1"
      },
      "execution_count": 41,
      "outputs": [
        {
          "output_type": "error",
          "ename": "TypeError",
          "evalue": "unsupported operand type(s) for -: 'str' and 'int'",
          "traceback": [
            "\u001b[0;31m---------------------------------------------------------------------------\u001b[0m",
            "\u001b[0;31mTypeError\u001b[0m                                 Traceback (most recent call last)",
            "\u001b[0;32m<ipython-input-41-efad1ccbe8d8>\u001b[0m in \u001b[0;36m<cell line: 0>\u001b[0;34m()\u001b[0m\n\u001b[0;32m----> 1\u001b[0;31m \u001b[0mlist\u001b[0m\u001b[0;34m(\u001b[0m\u001b[0mpizza_menu\u001b[0m\u001b[0;34m.\u001b[0m\u001b[0mvalues\u001b[0m\u001b[0;34m(\u001b[0m\u001b[0;34m)\u001b[0m\u001b[0;34m)\u001b[0m\u001b[0;34m[\u001b[0m\u001b[0mselected_pizza\u001b[0m\u001b[0;34m-\u001b[0m\u001b[0;36m1\u001b[0m\u001b[0;34m]\u001b[0m\u001b[0;34m\u001b[0m\u001b[0;34m\u001b[0m\u001b[0m\n\u001b[0m",
            "\u001b[0;31mTypeError\u001b[0m: unsupported operand type(s) for -: 'str' and 'int'"
          ]
        }
      ]
    },
    {
      "cell_type": "code",
      "source": [
        "int(selected_pizza)"
      ],
      "metadata": {
        "colab": {
          "base_uri": "https://localhost:8080/"
        },
        "id": "vyA9YLgpubA5",
        "outputId": "695db996-b528-416c-e469-a6f6d82e23ae"
      },
      "execution_count": 55,
      "outputs": [
        {
          "output_type": "execute_result",
          "data": {
            "text/plain": [
              "4"
            ]
          },
          "metadata": {},
          "execution_count": 55
        }
      ]
    },
    {
      "cell_type": "code",
      "source": [
        "list(pizza_menu.values())[int(selected_pizza)-1]"
      ],
      "metadata": {
        "colab": {
          "base_uri": "https://localhost:8080/"
        },
        "id": "LKZjh4iqugsE",
        "outputId": "fa1896a1-54d5-47f7-c07c-323ccd5eb8e1"
      },
      "execution_count": 56,
      "outputs": [
        {
          "output_type": "execute_result",
          "data": {
            "text/plain": [
              "11.0"
            ]
          },
          "metadata": {},
          "execution_count": 56
        }
      ]
    },
    {
      "cell_type": "markdown",
      "source": [
        "Lets Create the order\n"
      ],
      "metadata": {
        "id": "jjq5xSGwumew"
      }
    },
    {
      "cell_type": "code",
      "source": [
        "pizza_menu = {\n",
        "    \"margherita\" : 8.99,\n",
        "    \"pepperoni\" : 10.99,\n",
        "    \"vegetarian\" : 12.99,\n",
        "    \"hawaiian\" : 11.00,\n",
        "    \"bbq_chicken\": 11.54,\n",
        "    \"panner_tikka\" : 13.99\n",
        "}"
      ],
      "metadata": {
        "id": "IxE5lsTIukBM"
      },
      "execution_count": 58,
      "outputs": []
    },
    {
      "cell_type": "code",
      "source": [
        "def show_menu(pizza_menu):\n",
        "  counter=1\n",
        "  print(\"\\n --------- PIZZA ORDERING SYSTEM --------- \\n\")\n",
        "  for pizza, price in pizza_menu.items():\n",
        "    print(f\"{counter} - {pizza} : ${price}\")\n",
        "    counter = counter + 1"
      ],
      "metadata": {
        "id": "vuczo2IHuqYP"
      },
      "execution_count": 59,
      "outputs": []
    },
    {
      "cell_type": "code",
      "source": [
        "def take_order():\n",
        "  selected_pizza = input(\"What pizza would you like to order; Enter ther serial number? \")\n",
        "  return selected_pizza"
      ],
      "metadata": {
        "id": "P1sseSoous0f"
      },
      "execution_count": 60,
      "outputs": []
    },
    {
      "cell_type": "code",
      "source": [
        "list(pizza_menu.values())[int(selected_pizza)-1]"
      ],
      "metadata": {
        "colab": {
          "base_uri": "https://localhost:8080/"
        },
        "id": "N4GztgIfuu_t",
        "outputId": "1ca72f6b-379e-40ed-c68f-9e23d2f98c0f"
      },
      "execution_count": 47,
      "outputs": [
        {
          "output_type": "execute_result",
          "data": {
            "text/plain": [
              "11.54"
            ]
          },
          "metadata": {},
          "execution_count": 47
        }
      ]
    },
    {
      "cell_type": "code",
      "source": [
        "def pizza_ordering_syster():\n",
        "  pizza_menu = {\n",
        "    \"margherita\" : 8.99,\n",
        "    \"pepperoni\" : 10.99,\n",
        "    \"vegetarian\" : 12.99,\n",
        "    \"hawaiian\" : 11.00,\n",
        "    \"bbq_chicken\": 11.54,\n",
        "    \"panner_tikka\" : 13.99\n",
        "}\n",
        "show_menu(pizza_menu)"
      ],
      "metadata": {
        "colab": {
          "base_uri": "https://localhost:8080/"
        },
        "id": "We_Na5Kkux4e",
        "outputId": "f877735b-8675-4cd5-e94b-75a513fd6c0d"
      },
      "execution_count": 48,
      "outputs": [
        {
          "output_type": "stream",
          "name": "stdout",
          "text": [
            "\n",
            " --------- PIZZA ORDERING SYSTEM --------- \n",
            "\n",
            "1 - margherita : $8.99\n",
            "2 - pepperoni : $10.99\n",
            "3 - vegetarian : $12.99\n",
            "4 - hawaiian : $11.0\n",
            "5 - bbq_chicken : $11.54\n",
            "6 - panner_tikka : $13.99\n"
          ]
        }
      ]
    },
    {
      "cell_type": "code",
      "source": [
        "def take_order():\n",
        "  selected_pizza = input(\"What pizza would you like to order; Ente ther serial number? \")\n",
        "  return selected_pizza"
      ],
      "metadata": {
        "id": "YZpVExQm0eYo"
      },
      "execution_count": 50,
      "outputs": []
    },
    {
      "cell_type": "code",
      "source": [
        "def pizza_ordering_system():\n",
        "  pizza_menu = {\n",
        "    \"margherita\" : 8.99,\n",
        "    \"pepperoni\" : 10.99,\n",
        "    \"vegetarian\" : 12.99,\n",
        "    \"hawaiian\" : 11.00,\n",
        "    \"bbq_chicken\": 11.54,\n",
        "    \"panner_tikka\" : 13.99\n",
        "}\n",
        "## Step1\n",
        "show_menu(pizza_menu)\n",
        "\n",
        "## Step2\n",
        "customer_pizza = take_order()\n",
        "\n",
        "print(\"\\n----- Your Final Bill Amount in $ ----\\n\")\n",
        "\n",
        "## Step3\n",
        "list(pizza_menu.values())[int(customer_pizza)-1]"
      ],
      "metadata": {
        "colab": {
          "base_uri": "https://localhost:8080/"
        },
        "id": "Z_Z_lzuWu9Jd",
        "outputId": "0cd7fa62-6f20-4299-9ecd-f9e27bff5a06"
      },
      "execution_count": 61,
      "outputs": [
        {
          "output_type": "stream",
          "name": "stdout",
          "text": [
            "\n",
            " --------- PIZZA ORDERING SYSTEM --------- \n",
            "\n",
            "1 - margherita : $8.99\n",
            "2 - pepperoni : $10.99\n",
            "3 - vegetarian : $12.99\n",
            "4 - hawaiian : $11.0\n",
            "5 - bbq_chicken : $11.54\n",
            "6 - panner_tikka : $13.99\n",
            "What pizza would you like to order; Enter ther serial number? 6\n",
            "\n",
            "----- Your Final Bill Amount in $ ----\n",
            "\n"
          ]
        },
        {
          "output_type": "execute_result",
          "data": {
            "text/plain": [
              "13.99"
            ]
          },
          "metadata": {},
          "execution_count": 61
        }
      ]
    },
    {
      "cell_type": "code",
      "source": [],
      "metadata": {
        "id": "sYNOZeJ3vKgg"
      },
      "execution_count": null,
      "outputs": []
    }
  ]
}